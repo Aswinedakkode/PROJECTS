{
 "cells": [
  {
   "cell_type": "code",
   "execution_count": 1,
   "id": "ece0fe30",
   "metadata": {},
   "outputs": [],
   "source": [
    "from keras.models import Sequential\n",
    "from keras.layers import Convolution2D\n",
    "from keras.layers import MaxPool2D\n",
    "from keras.layers import Flatten\n",
    "from keras.layers import Dense\n",
    "\n",
    "from keras.preprocessing.image import ImageDataGenerator\n",
    "\n",
    "import warnings\n",
    "warnings.filterwarnings('ignore')"
   ]
  },
  {
   "cell_type": "code",
   "execution_count": 2,
   "id": "8323cbe5",
   "metadata": {},
   "outputs": [],
   "source": [
    "train_path = \"C:\\\\Users\\\\aswin\\\\OneDrive\\\\Desktop\\\\Imarticus\\\\00_Capstone Projects_Imarticus\\\\Capstone_2_Facial_Recognition\\\\Images\\\\train\""
   ]
  },
  {
   "cell_type": "code",
   "execution_count": 3,
   "id": "da596b09",
   "metadata": {},
   "outputs": [],
   "source": [
    "validation_path= \"C:\\\\Users\\\\aswin\\\\OneDrive\\\\Desktop\\\\Imarticus\\\\00_Capstone Projects_Imarticus\\\\Capstone_2_Facial_Recognition\\\\Images\\\\test\""
   ]
  },
  {
   "cell_type": "code",
   "execution_count": 4,
   "id": "0b3a86e5",
   "metadata": {},
   "outputs": [],
   "source": [
    "from keras.preprocessing.image import ImageDataGenerator"
   ]
  },
  {
   "cell_type": "code",
   "execution_count": 5,
   "id": "13be2a8a",
   "metadata": {},
   "outputs": [],
   "source": [
    "train_data_gen = ImageDataGenerator(rescale = 1./225)\n",
    "validation_data_gen = ImageDataGenerator(rescale = 1./225)"
   ]
  },
  {
   "cell_type": "markdown",
   "id": "de845d6a",
   "metadata": {},
   "source": [
    "# Train Set"
   ]
  },
  {
   "cell_type": "code",
   "execution_count": 6,
   "id": "dfa42c58",
   "metadata": {},
   "outputs": [
    {
     "name": "stdout",
     "output_type": "stream",
     "text": [
      "Found 320 images belonging to 40 classes.\n"
     ]
    }
   ],
   "source": [
    "train_set = train_data_gen.flow_from_directory(train_path,\n",
    "                                               target_size = (64,64),\n",
    "                                               batch_size = 20,\n",
    "                                               class_mode = 'categorical')"
   ]
  },
  {
   "cell_type": "markdown",
   "id": "2c15810a",
   "metadata": {},
   "source": [
    "# Validation Set"
   ]
  },
  {
   "cell_type": "code",
   "execution_count": 7,
   "id": "3cc075fc",
   "metadata": {},
   "outputs": [
    {
     "name": "stdout",
     "output_type": "stream",
     "text": [
      "Found 80 images belonging to 40 classes.\n"
     ]
    }
   ],
   "source": [
    "validation_set = validation_data_gen.flow_from_directory(validation_path,\n",
    "                                                         target_size = (64,64),\n",
    "                                                         batch_size = 20,\n",
    "                                                         class_mode = 'categorical')"
   ]
  },
  {
   "cell_type": "markdown",
   "id": "4cfe1d78",
   "metadata": {},
   "source": [
    "# BASE MODEL"
   ]
  },
  {
   "cell_type": "code",
   "execution_count": 8,
   "id": "2fff8cc7",
   "metadata": {},
   "outputs": [],
   "source": [
    "classifier = Sequential()\n",
    "classifier.add(Convolution2D(32, kernel_size=(3,3),input_shape=(64,64,3), activation ='relu'))\n",
    "classifier.add(MaxPool2D(pool_size=(2,2)))\n",
    "classifier.add(Convolution2D(64, kernel_size=(3,3), activation='relu'))\n",
    "classifier.add(MaxPool2D(pool_size=(2,2)))\n",
    "classifier.add(Convolution2D(64, kernel_size=(3,3), activation='relu'))\n",
    "classifier.add(MaxPool2D(pool_size=(2,2)))\n",
    "classifier.add(Flatten())\n",
    "classifier.add(Dense(64, activation='relu'))\n",
    "classifier.add(Dense(40, activation='softmax'))"
   ]
  },
  {
   "cell_type": "code",
   "execution_count": 9,
   "id": "1521fca7",
   "metadata": {
    "scrolled": false
   },
   "outputs": [
    {
     "name": "stdout",
     "output_type": "stream",
     "text": [
      "Model: \"sequential\"\n",
      "_________________________________________________________________\n",
      " Layer (type)                Output Shape              Param #   \n",
      "=================================================================\n",
      " conv2d (Conv2D)             (None, 62, 62, 32)        896       \n",
      "                                                                 \n",
      " max_pooling2d (MaxPooling2D  (None, 31, 31, 32)       0         \n",
      " )                                                               \n",
      "                                                                 \n",
      " conv2d_1 (Conv2D)           (None, 29, 29, 64)        18496     \n",
      "                                                                 \n",
      " max_pooling2d_1 (MaxPooling  (None, 14, 14, 64)       0         \n",
      " 2D)                                                             \n",
      "                                                                 \n",
      " conv2d_2 (Conv2D)           (None, 12, 12, 64)        36928     \n",
      "                                                                 \n",
      " max_pooling2d_2 (MaxPooling  (None, 6, 6, 64)         0         \n",
      " 2D)                                                             \n",
      "                                                                 \n",
      " flatten (Flatten)           (None, 2304)              0         \n",
      "                                                                 \n",
      " dense (Dense)               (None, 64)                147520    \n",
      "                                                                 \n",
      " dense_1 (Dense)             (None, 40)                2600      \n",
      "                                                                 \n",
      "=================================================================\n",
      "Total params: 206,440\n",
      "Trainable params: 206,440\n",
      "Non-trainable params: 0\n",
      "_________________________________________________________________\n"
     ]
    }
   ],
   "source": [
    "classifier.summary()"
   ]
  },
  {
   "cell_type": "markdown",
   "id": "aa3726de",
   "metadata": {},
   "source": [
    "# Compiler"
   ]
  },
  {
   "cell_type": "code",
   "execution_count": 10,
   "id": "21641481",
   "metadata": {},
   "outputs": [],
   "source": [
    "classifier.compile(loss='categorical_crossentropy', optimizer = 'adam', metrics =['accuracy'])"
   ]
  },
  {
   "cell_type": "markdown",
   "id": "e1a12966",
   "metadata": {},
   "source": [
    "# Execution of model"
   ]
  },
  {
   "cell_type": "code",
   "execution_count": 11,
   "id": "48f4fa72",
   "metadata": {},
   "outputs": [
    {
     "name": "stdout",
     "output_type": "stream",
     "text": [
      "Epoch 1/20\n",
      "16/16 [==============================] - 14s 829ms/step - loss: 3.7081 - accuracy: 0.0250 - val_loss: 3.6844 - val_accuracy: 0.0250\n",
      "Epoch 2/20\n",
      "16/16 [==============================] - 9s 545ms/step - loss: 3.6694 - accuracy: 0.0500 - val_loss: 3.6141 - val_accuracy: 0.0500\n",
      "Epoch 3/20\n",
      "16/16 [==============================] - 9s 559ms/step - loss: 3.5173 - accuracy: 0.0938 - val_loss: 3.3385 - val_accuracy: 0.1250\n",
      "Epoch 4/20\n",
      "16/16 [==============================] - 9s 542ms/step - loss: 3.0704 - accuracy: 0.1906 - val_loss: 2.7549 - val_accuracy: 0.2750\n",
      "Epoch 5/20\n",
      "16/16 [==============================] - 8s 533ms/step - loss: 2.4080 - accuracy: 0.4219 - val_loss: 2.2888 - val_accuracy: 0.4250\n",
      "Epoch 6/20\n",
      "16/16 [==============================] - 9s 539ms/step - loss: 1.9825 - accuracy: 0.5437 - val_loss: 2.1775 - val_accuracy: 0.4875\n",
      "Epoch 7/20\n",
      "16/16 [==============================] - 9s 536ms/step - loss: 1.4466 - accuracy: 0.6375 - val_loss: 1.7911 - val_accuracy: 0.5375\n",
      "Epoch 8/20\n",
      "16/16 [==============================] - 8s 526ms/step - loss: 1.0516 - accuracy: 0.7312 - val_loss: 1.8086 - val_accuracy: 0.5625\n",
      "Epoch 9/20\n",
      "16/16 [==============================] - 10s 603ms/step - loss: 0.7800 - accuracy: 0.7969 - val_loss: 1.6275 - val_accuracy: 0.6375\n",
      "Epoch 10/20\n",
      "16/16 [==============================] - 8s 530ms/step - loss: 0.5735 - accuracy: 0.8250 - val_loss: 1.6421 - val_accuracy: 0.5875\n",
      "Epoch 11/20\n",
      "16/16 [==============================] - 9s 579ms/step - loss: 0.4175 - accuracy: 0.8750 - val_loss: 1.7955 - val_accuracy: 0.6125\n",
      "Epoch 12/20\n",
      "16/16 [==============================] - 8s 530ms/step - loss: 0.2709 - accuracy: 0.9250 - val_loss: 1.8633 - val_accuracy: 0.6375\n",
      "Epoch 13/20\n",
      "16/16 [==============================] - 8s 521ms/step - loss: 0.1731 - accuracy: 0.9531 - val_loss: 1.8599 - val_accuracy: 0.6250\n",
      "Epoch 14/20\n",
      "16/16 [==============================] - 8s 519ms/step - loss: 0.1322 - accuracy: 0.9688 - val_loss: 2.0776 - val_accuracy: 0.6500\n",
      "Epoch 15/20\n",
      "16/16 [==============================] - 8s 530ms/step - loss: 0.0672 - accuracy: 0.9937 - val_loss: 2.3227 - val_accuracy: 0.6250\n",
      "Epoch 16/20\n",
      "16/16 [==============================] - 8s 528ms/step - loss: 0.0305 - accuracy: 1.0000 - val_loss: 2.0496 - val_accuracy: 0.6750\n",
      "Epoch 17/20\n",
      "16/16 [==============================] - 9s 539ms/step - loss: 0.0434 - accuracy: 0.9937 - val_loss: 2.2389 - val_accuracy: 0.6625\n",
      "Epoch 18/20\n",
      "16/16 [==============================] - 8s 530ms/step - loss: 0.0407 - accuracy: 0.9969 - val_loss: 2.5099 - val_accuracy: 0.6125\n",
      "Epoch 19/20\n",
      "16/16 [==============================] - 8s 534ms/step - loss: 0.0212 - accuracy: 1.0000 - val_loss: 2.4115 - val_accuracy: 0.6375\n",
      "Epoch 20/20\n",
      "16/16 [==============================] - 8s 537ms/step - loss: 0.0073 - accuracy: 1.0000 - val_loss: 2.3833 - val_accuracy: 0.6750\n"
     ]
    }
   ],
   "source": [
    "model = classifier.fit_generator(train_set, epochs =20, validation_data = validation_set)"
   ]
  },
  {
   "cell_type": "markdown",
   "id": "a667778a",
   "metadata": {},
   "source": [
    "# Accuracy "
   ]
  },
  {
   "cell_type": "code",
   "execution_count": 12,
   "id": "6a3b388c",
   "metadata": {},
   "outputs": [],
   "source": [
    "import matplotlib.pyplot as plt"
   ]
  },
  {
   "cell_type": "code",
   "execution_count": 13,
   "id": "a2f54536",
   "metadata": {},
   "outputs": [],
   "source": [
    "acc = model.history['accuracy']"
   ]
  },
  {
   "cell_type": "code",
   "execution_count": 14,
   "id": "4d3c58b8",
   "metadata": {},
   "outputs": [],
   "source": [
    "val_acc = model.history['val_accuracy']"
   ]
  },
  {
   "cell_type": "code",
   "execution_count": 15,
   "id": "c4eade01",
   "metadata": {},
   "outputs": [],
   "source": [
    "loss = model.history['loss']"
   ]
  },
  {
   "cell_type": "code",
   "execution_count": 16,
   "id": "e04e4857",
   "metadata": {},
   "outputs": [],
   "source": [
    "val_loss = model.history['val_loss']"
   ]
  },
  {
   "cell_type": "code",
   "execution_count": 17,
   "id": "30d0b84f",
   "metadata": {},
   "outputs": [],
   "source": [
    "epochs = range(1, len(acc) + 1)"
   ]
  },
  {
   "cell_type": "code",
   "execution_count": 18,
   "id": "7002cc49",
   "metadata": {},
   "outputs": [
    {
     "data": {
      "image/png": "[encoded data removed]",
      "text/plain": [
       "<Figure size 432x288 with 1 Axes>"
      ]
     },
     "metadata": {
      "needs_background": "light"
     },
     "output_type": "display_data"
    },
    {
     "data": {
      "text/plain": [
       "<Figure size 432x288 with 0 Axes>"
      ]
     },
     "metadata": {},
     "output_type": "display_data"
    }
   ],
   "source": [
    "plt.plot(epochs, acc, 'bo', label='Training acc');\n",
    "plt.plot(epochs, val_acc, 'r', label='Validation acc');\n",
    "plt.title('Training and validation accuracy');\n",
    "plt.legend();\n",
    "plt.figure();"
   ]
  },
  {
   "cell_type": "markdown",
   "id": "e204e892",
   "metadata": {},
   "source": [
    "# Loss"
   ]
  },
  {
   "cell_type": "code",
   "execution_count": 19,
   "id": "11e1d8e3",
   "metadata": {
    "scrolled": true
   },
   "outputs": [
    {
     "data": {
      "image/png": "[encoded data removed]",
      "text/plain": [
       "<Figure size 432x288 with 1 Axes>"
      ]
     },
     "metadata": {
      "needs_background": "light"
     },
     "output_type": "display_data"
    },
    {
     "data": {
      "text/plain": [
       "<Figure size 432x288 with 0 Axes>"
      ]
     },
     "metadata": {},
     "output_type": "display_data"
    }
   ],
   "source": [
    "plt.plot(epochs, loss, 'bo', label='Training loss');\n",
    "plt.plot(epochs, val_loss, 'r', label='Validation loss');\n",
    "plt.title('Training and validation loss');\n",
    "plt.legend();\n",
    "plt.figure();"
   ]
  },
  {
   "cell_type": "markdown",
   "id": "b8e905b7",
   "metadata": {},
   "source": [
    "--------------------------------------------------------------------------------------------------------------------------------"
   ]
  },
  {
   "cell_type": "markdown",
   "id": "d4517d32",
   "metadata": {},
   "source": [
    "# MODEL 2"
   ]
  },
  {
   "cell_type": "code",
   "execution_count": 20,
   "id": "b327fbe6",
   "metadata": {},
   "outputs": [],
   "source": [
    "train_data_gen = ImageDataGenerator(rescale=1./225,\n",
    "                                    shear_range=0.5,\n",
    "                                    zoom_range=0.5,\n",
    "                                    width_shift_range=0.2,\n",
    "                                    height_shift_range=0.2)"
   ]
  },
  {
   "cell_type": "code",
   "execution_count": 21,
   "id": "c95e3a4b",
   "metadata": {},
   "outputs": [],
   "source": [
    "validation_data_gen = ImageDataGenerator(rescale=1./225)"
   ]
  },
  {
   "cell_type": "markdown",
   "id": "4d2a0b38",
   "metadata": {},
   "source": [
    "# Training Set"
   ]
  },
  {
   "cell_type": "code",
   "execution_count": 22,
   "id": "e4eec759",
   "metadata": {},
   "outputs": [
    {
     "name": "stdout",
     "output_type": "stream",
     "text": [
      "Found 320 images belonging to 40 classes.\n"
     ]
    }
   ],
   "source": [
    "train_set = train_data_gen.flow_from_directory(train_path,\n",
    "                                               target_size=(64,64),\n",
    "                                               batch_size=20,\n",
    "                                               class_mode='categorical')"
   ]
  },
  {
   "cell_type": "markdown",
   "id": "b35a68a4",
   "metadata": {},
   "source": [
    "# Validation Set "
   ]
  },
  {
   "cell_type": "code",
   "execution_count": 23,
   "id": "2ac9a009",
   "metadata": {},
   "outputs": [
    {
     "name": "stdout",
     "output_type": "stream",
     "text": [
      "Found 80 images belonging to 40 classes.\n"
     ]
    }
   ],
   "source": [
    "validation_set = validation_data_gen.flow_from_directory(validation_path,\n",
    "                                                         target_size=(64,64),\n",
    "                                                         batch_size=20,\n",
    "                                                         class_mode='categorical')"
   ]
  },
  {
   "cell_type": "markdown",
   "id": "3a82acda",
   "metadata": {},
   "source": [
    "# MODEL"
   ]
  },
  {
   "cell_type": "code",
   "execution_count": 24,
   "id": "41ea7190",
   "metadata": {},
   "outputs": [],
   "source": [
    "classifier = Sequential()\n",
    "classifier.add(Convolution2D(32, kernel_size=(3,3),input_shape=(64,64,3), activation ='relu'))\n",
    "classifier.add(MaxPool2D(pool_size=(2,2)))\n",
    "classifier.add(Convolution2D(64, kernel_size=(3,3), activation='relu'))\n",
    "classifier.add(MaxPool2D(pool_size=(2,2)))\n",
    "classifier.add(Convolution2D(64, kernel_size=(3,3), activation='relu'))\n",
    "classifier.add(MaxPool2D(pool_size=(2,2)))\n",
    "classifier.add(Convolution2D(64, kernel_size=(3,3), activation='relu'))\n",
    "classifier.add(MaxPool2D(pool_size=(2,2)))\n",
    "classifier.add(Flatten())\n",
    "classifier.add(Dense(64, activation='relu'))\n",
    "classifier.add(Dense(40, activation='softmax'))"
   ]
  },
  {
   "cell_type": "code",
   "execution_count": 25,
   "id": "2a29ce4b",
   "metadata": {
    "scrolled": true
   },
   "outputs": [
    {
     "name": "stdout",
     "output_type": "stream",
     "text": [
      "Model: \"sequential_1\"\n",
      "_________________________________________________________________\n",
      " Layer (type)                Output Shape              Param #   \n",
      "=================================================================\n",
      " conv2d_3 (Conv2D)           (None, 62, 62, 32)        896       \n",
      "                                                                 \n",
      " max_pooling2d_3 (MaxPooling  (None, 31, 31, 32)       0         \n",
      " 2D)                                                             \n",
      "                                                                 \n",
      " conv2d_4 (Conv2D)           (None, 29, 29, 64)        18496     \n",
      "                                                                 \n",
      " max_pooling2d_4 (MaxPooling  (None, 14, 14, 64)       0         \n",
      " 2D)                                                             \n",
      "                                                                 \n",
      " conv2d_5 (Conv2D)           (None, 12, 12, 64)        36928     \n",
      "                                                                 \n",
      " max_pooling2d_5 (MaxPooling  (None, 6, 6, 64)         0         \n",
      " 2D)                                                             \n",
      "                                                                 \n",
      " conv2d_6 (Conv2D)           (None, 4, 4, 64)          36928     \n",
      "                                                                 \n",
      " max_pooling2d_6 (MaxPooling  (None, 2, 2, 64)         0         \n",
      " 2D)                                                             \n",
      "                                                                 \n",
      " flatten_1 (Flatten)         (None, 256)               0         \n",
      "                                                                 \n",
      " dense_2 (Dense)             (None, 64)                16448     \n",
      "                                                                 \n",
      " dense_3 (Dense)             (None, 40)                2600      \n",
      "                                                                 \n",
      "=================================================================\n",
      "Total params: 112,296\n",
      "Trainable params: 112,296\n",
      "Non-trainable params: 0\n",
      "_________________________________________________________________\n"
     ]
    }
   ],
   "source": [
    "classifier.summary()"
   ]
  },
  {
   "cell_type": "markdown",
   "id": "e173f22f",
   "metadata": {},
   "source": [
    "# Compiler"
   ]
  },
  {
   "cell_type": "code",
   "execution_count": 26,
   "id": "cc589088",
   "metadata": {},
   "outputs": [],
   "source": [
    "classifier.compile(loss='categorical_crossentropy',optimizer='adam', metrics=['accuracy'])"
   ]
  },
  {
   "cell_type": "markdown",
   "id": "afa94909",
   "metadata": {},
   "source": [
    "# Execution of model"
   ]
  },
  {
   "cell_type": "code",
   "execution_count": 27,
   "id": "76babdab",
   "metadata": {
    "scrolled": false
   },
   "outputs": [
    {
     "name": "stdout",
     "output_type": "stream",
     "text": [
      "Epoch 1/150\n",
      "16/16 [==============================] - 10s 575ms/step - loss: 3.6985 - accuracy: 0.0188 - val_loss: 3.6902 - val_accuracy: 0.0250\n",
      "Epoch 2/150\n",
      "16/16 [==============================] - 9s 541ms/step - loss: 3.6913 - accuracy: 0.0250 - val_loss: 3.6870 - val_accuracy: 0.0125\n",
      "Epoch 3/150\n",
      "16/16 [==============================] - 10s 606ms/step - loss: 3.6884 - accuracy: 0.0188 - val_loss: 3.6837 - val_accuracy: 0.0625\n",
      "Epoch 4/150\n",
      "16/16 [==============================] - 9s 549ms/step - loss: 3.6850 - accuracy: 0.0375 - val_loss: 3.6693 - val_accuracy: 0.0500\n",
      "Epoch 5/150\n",
      "16/16 [==============================] - 9s 580ms/step - loss: 3.6588 - accuracy: 0.0500 - val_loss: 3.5845 - val_accuracy: 0.0750\n",
      "Epoch 6/150\n",
      "16/16 [==============================] - 9s 571ms/step - loss: 3.5852 - accuracy: 0.0500 - val_loss: 3.4374 - val_accuracy: 0.1000\n",
      "Epoch 7/150\n",
      "16/16 [==============================] - 11s 685ms/step - loss: 3.4652 - accuracy: 0.0750 - val_loss: 3.2110 - val_accuracy: 0.1375\n",
      "Epoch 8/150\n",
      "16/16 [==============================] - 9s 591ms/step - loss: 3.3737 - accuracy: 0.0906 - val_loss: 3.5702 - val_accuracy: 0.0875\n",
      "Epoch 9/150\n",
      "16/16 [==============================] - 9s 591ms/step - loss: 3.3303 - accuracy: 0.1031 - val_loss: 3.0797 - val_accuracy: 0.1250\n",
      "Epoch 10/150\n",
      "16/16 [==============================] - 9s 597ms/step - loss: 3.1996 - accuracy: 0.1250 - val_loss: 2.9891 - val_accuracy: 0.1500\n",
      "Epoch 11/150\n",
      "16/16 [==============================] - 9s 575ms/step - loss: 3.0904 - accuracy: 0.1344 - val_loss: 2.7340 - val_accuracy: 0.1625\n",
      "Epoch 12/150\n",
      "16/16 [==============================] - 9s 559ms/step - loss: 2.9410 - accuracy: 0.1562 - val_loss: 2.5516 - val_accuracy: 0.2125\n",
      "Epoch 13/150\n",
      "16/16 [==============================] - 9s 544ms/step - loss: 2.8420 - accuracy: 0.1844 - val_loss: 2.5553 - val_accuracy: 0.2750\n",
      "Epoch 14/150\n",
      "16/16 [==============================] - 9s 544ms/step - loss: 2.7731 - accuracy: 0.2438 - val_loss: 2.4220 - val_accuracy: 0.3500\n",
      "Epoch 15/150\n",
      "16/16 [==============================] - 10s 620ms/step - loss: 2.7121 - accuracy: 0.2062 - val_loss: 2.5132 - val_accuracy: 0.2750\n",
      "Epoch 16/150\n",
      "16/16 [==============================] - 9s 564ms/step - loss: 2.6002 - accuracy: 0.2531 - val_loss: 2.3016 - val_accuracy: 0.3250\n",
      "Epoch 17/150\n",
      "16/16 [==============================] - 9s 560ms/step - loss: 2.5973 - accuracy: 0.2562 - val_loss: 2.3104 - val_accuracy: 0.3500\n",
      "Epoch 18/150\n",
      "16/16 [==============================] - 10s 604ms/step - loss: 2.4763 - accuracy: 0.2969 - val_loss: 2.1465 - val_accuracy: 0.3500\n",
      "Epoch 19/150\n",
      "16/16 [==============================] - 9s 582ms/step - loss: 2.4698 - accuracy: 0.2875 - val_loss: 2.1221 - val_accuracy: 0.4000\n",
      "Epoch 20/150\n",
      "16/16 [==============================] - 9s 551ms/step - loss: 2.4653 - accuracy: 0.3250 - val_loss: 2.1726 - val_accuracy: 0.3875\n",
      "Epoch 21/150\n",
      "16/16 [==============================] - 9s 554ms/step - loss: 2.4538 - accuracy: 0.3063 - val_loss: 2.1224 - val_accuracy: 0.4375\n",
      "Epoch 22/150\n",
      "16/16 [==============================] - 9s 553ms/step - loss: 2.3242 - accuracy: 0.3406 - val_loss: 2.0215 - val_accuracy: 0.4500\n",
      "Epoch 23/150\n",
      "16/16 [==============================] - 9s 552ms/step - loss: 2.2804 - accuracy: 0.3406 - val_loss: 2.0001 - val_accuracy: 0.5375\n",
      "Epoch 24/150\n",
      "16/16 [==============================] - 9s 544ms/step - loss: 2.3409 - accuracy: 0.3531 - val_loss: 2.1579 - val_accuracy: 0.4375\n",
      "Epoch 25/150\n",
      "16/16 [==============================] - 9s 556ms/step - loss: 2.2934 - accuracy: 0.3781 - val_loss: 1.9247 - val_accuracy: 0.4750\n",
      "Epoch 26/150\n",
      "16/16 [==============================] - 9s 572ms/step - loss: 2.1381 - accuracy: 0.3719 - val_loss: 1.8530 - val_accuracy: 0.4875\n",
      "Epoch 27/150\n",
      "16/16 [==============================] - 9s 559ms/step - loss: 2.1139 - accuracy: 0.3969 - val_loss: 2.2395 - val_accuracy: 0.3750\n",
      "Epoch 28/150\n",
      "16/16 [==============================] - 9s 576ms/step - loss: 2.1428 - accuracy: 0.3844 - val_loss: 1.8350 - val_accuracy: 0.5375\n",
      "Epoch 29/150\n",
      "16/16 [==============================] - 9s 604ms/step - loss: 2.1506 - accuracy: 0.3938 - val_loss: 1.9054 - val_accuracy: 0.4625\n",
      "Epoch 30/150\n",
      "16/16 [==============================] - 9s 544ms/step - loss: 2.1061 - accuracy: 0.3438 - val_loss: 2.0290 - val_accuracy: 0.3500\n",
      "Epoch 31/150\n",
      "16/16 [==============================] - 9s 559ms/step - loss: 2.1060 - accuracy: 0.3812 - val_loss: 1.7485 - val_accuracy: 0.5500\n",
      "Epoch 32/150\n",
      "16/16 [==============================] - 9s 564ms/step - loss: 1.9382 - accuracy: 0.4156 - val_loss: 1.6950 - val_accuracy: 0.4750\n",
      "Epoch 33/150\n",
      "16/16 [==============================] - 9s 568ms/step - loss: 1.9568 - accuracy: 0.4406 - val_loss: 1.6952 - val_accuracy: 0.5000\n",
      "Epoch 34/150\n",
      "16/16 [==============================] - 9s 564ms/step - loss: 1.9452 - accuracy: 0.4688 - val_loss: 1.7851 - val_accuracy: 0.4625\n",
      "Epoch 35/150\n",
      "16/16 [==============================] - 9s 549ms/step - loss: 1.8600 - accuracy: 0.4344 - val_loss: 1.6738 - val_accuracy: 0.5000\n",
      "Epoch 36/150\n",
      "16/16 [==============================] - 9s 575ms/step - loss: 1.8600 - accuracy: 0.4594 - val_loss: 1.7129 - val_accuracy: 0.5250\n",
      "Epoch 37/150\n",
      "16/16 [==============================] - 9s 579ms/step - loss: 1.7499 - accuracy: 0.4875 - val_loss: 1.6318 - val_accuracy: 0.5125\n",
      "Epoch 38/150\n",
      "16/16 [==============================] - 9s 583ms/step - loss: 1.7787 - accuracy: 0.4563 - val_loss: 1.6277 - val_accuracy: 0.5500\n",
      "Epoch 39/150\n",
      "16/16 [==============================] - 9s 581ms/step - loss: 1.6739 - accuracy: 0.5156 - val_loss: 1.6780 - val_accuracy: 0.5250\n",
      "Epoch 40/150\n",
      "16/16 [==============================] - 9s 569ms/step - loss: 1.5856 - accuracy: 0.5625 - val_loss: 1.5113 - val_accuracy: 0.5625\n",
      "Epoch 41/150\n",
      "16/16 [==============================] - 9s 562ms/step - loss: 1.7098 - accuracy: 0.5094 - val_loss: 1.8807 - val_accuracy: 0.4625\n",
      "Epoch 42/150\n",
      "16/16 [==============================] - 9s 552ms/step - loss: 1.6110 - accuracy: 0.5594 - val_loss: 1.5674 - val_accuracy: 0.5875\n",
      "Epoch 43/150\n",
      "16/16 [==============================] - 9s 575ms/step - loss: 1.5430 - accuracy: 0.5469 - val_loss: 1.9915 - val_accuracy: 0.4250\n",
      "Epoch 44/150\n",
      "16/16 [==============================] - 10s 629ms/step - loss: 1.6065 - accuracy: 0.5562 - val_loss: 1.4890 - val_accuracy: 0.5750\n",
      "Epoch 45/150\n",
      "16/16 [==============================] - 10s 625ms/step - loss: 1.5792 - accuracy: 0.5344 - val_loss: 1.3943 - val_accuracy: 0.6000\n",
      "Epoch 46/150\n",
      "16/16 [==============================] - 9s 574ms/step - loss: 1.5564 - accuracy: 0.5562 - val_loss: 1.5746 - val_accuracy: 0.5625\n",
      "Epoch 47/150\n",
      "16/16 [==============================] - 9s 577ms/step - loss: 1.4618 - accuracy: 0.5844 - val_loss: 1.5130 - val_accuracy: 0.5750\n",
      "Epoch 48/150\n",
      "16/16 [==============================] - 10s 586ms/step - loss: 1.3974 - accuracy: 0.5969 - val_loss: 1.4434 - val_accuracy: 0.6375\n",
      "Epoch 49/150\n",
      "16/16 [==============================] - 9s 580ms/step - loss: 1.4301 - accuracy: 0.5625 - val_loss: 1.6493 - val_accuracy: 0.5375\n",
      "Epoch 50/150\n",
      "16/16 [==============================] - 9s 573ms/step - loss: 1.2608 - accuracy: 0.6313 - val_loss: 1.4298 - val_accuracy: 0.5875\n",
      "Epoch 51/150\n",
      "16/16 [==============================] - 9s 555ms/step - loss: 1.2913 - accuracy: 0.5906 - val_loss: 1.3948 - val_accuracy: 0.6000\n",
      "Epoch 52/150\n",
      "16/16 [==============================] - 10s 599ms/step - loss: 1.4061 - accuracy: 0.5813 - val_loss: 1.4210 - val_accuracy: 0.6000\n",
      "Epoch 53/150\n",
      "16/16 [==============================] - 10s 602ms/step - loss: 1.3725 - accuracy: 0.5875 - val_loss: 1.4136 - val_accuracy: 0.6000\n",
      "Epoch 54/150\n",
      "16/16 [==============================] - 9s 563ms/step - loss: 1.1899 - accuracy: 0.6531 - val_loss: 1.6785 - val_accuracy: 0.6125\n",
      "Epoch 55/150\n",
      "16/16 [==============================] - 9s 570ms/step - loss: 1.2582 - accuracy: 0.6313 - val_loss: 1.4782 - val_accuracy: 0.5875\n",
      "Epoch 56/150\n",
      "16/16 [==============================] - 9s 567ms/step - loss: 1.2341 - accuracy: 0.6344 - val_loss: 1.2466 - val_accuracy: 0.6250\n",
      "Epoch 57/150\n",
      "16/16 [==============================] - 9s 560ms/step - loss: 1.1521 - accuracy: 0.6656 - val_loss: 1.3665 - val_accuracy: 0.6250\n",
      "Epoch 58/150\n",
      "16/16 [==============================] - 9s 563ms/step - loss: 1.1676 - accuracy: 0.6406 - val_loss: 1.6148 - val_accuracy: 0.5500\n",
      "Epoch 59/150\n",
      "16/16 [==============================] - 10s 626ms/step - loss: 1.1772 - accuracy: 0.6594 - val_loss: 1.4657 - val_accuracy: 0.6250\n",
      "Epoch 60/150\n",
      "16/16 [==============================] - 9s 584ms/step - loss: 1.2169 - accuracy: 0.6187 - val_loss: 1.2535 - val_accuracy: 0.6875\n",
      "Epoch 61/150\n",
      "16/16 [==============================] - 9s 567ms/step - loss: 1.0410 - accuracy: 0.6687 - val_loss: 1.8967 - val_accuracy: 0.5250\n",
      "Epoch 62/150\n",
      "16/16 [==============================] - 9s 573ms/step - loss: 1.1048 - accuracy: 0.6687 - val_loss: 1.3309 - val_accuracy: 0.6375\n",
      "Epoch 63/150\n",
      "16/16 [==============================] - 9s 575ms/step - loss: 1.1957 - accuracy: 0.6594 - val_loss: 1.5899 - val_accuracy: 0.5875\n",
      "Epoch 64/150\n",
      "16/16 [==============================] - 9s 568ms/step - loss: 1.1585 - accuracy: 0.6562 - val_loss: 1.2882 - val_accuracy: 0.6500\n",
      "Epoch 65/150\n",
      "16/16 [==============================] - 9s 589ms/step - loss: 1.1681 - accuracy: 0.6219 - val_loss: 1.5731 - val_accuracy: 0.6000\n",
      "Epoch 66/150\n",
      "16/16 [==============================] - 9s 587ms/step - loss: 1.1045 - accuracy: 0.6687 - val_loss: 1.4277 - val_accuracy: 0.6125\n",
      "Epoch 67/150\n",
      "16/16 [==============================] - 9s 577ms/step - loss: 1.0636 - accuracy: 0.6656 - val_loss: 1.3899 - val_accuracy: 0.6625\n",
      "Epoch 68/150\n",
      "16/16 [==============================] - 9s 576ms/step - loss: 0.9445 - accuracy: 0.7375 - val_loss: 1.2616 - val_accuracy: 0.7000\n",
      "Epoch 69/150\n",
      "16/16 [==============================] - 9s 570ms/step - loss: 1.1446 - accuracy: 0.6812 - val_loss: 1.1281 - val_accuracy: 0.7250\n",
      "Epoch 70/150\n",
      "16/16 [==============================] - 10s 626ms/step - loss: 0.9573 - accuracy: 0.7344 - val_loss: 1.3730 - val_accuracy: 0.6250\n",
      "Epoch 71/150\n",
      "16/16 [==============================] - 11s 695ms/step - loss: 0.8929 - accuracy: 0.7250 - val_loss: 1.3273 - val_accuracy: 0.6500\n",
      "Epoch 72/150\n",
      "16/16 [==============================] - 9s 594ms/step - loss: 0.9684 - accuracy: 0.7219 - val_loss: 1.2864 - val_accuracy: 0.6250\n",
      "Epoch 73/150\n",
      "16/16 [==============================] - 9s 601ms/step - loss: 1.1382 - accuracy: 0.6438 - val_loss: 1.4695 - val_accuracy: 0.6250\n",
      "Epoch 74/150\n",
      "16/16 [==============================] - 9s 597ms/step - loss: 0.9628 - accuracy: 0.7000 - val_loss: 1.4162 - val_accuracy: 0.6375\n",
      "Epoch 75/150\n",
      "16/16 [==============================] - 9s 567ms/step - loss: 0.8838 - accuracy: 0.7312 - val_loss: 1.2836 - val_accuracy: 0.7000\n",
      "Epoch 76/150\n",
      "16/16 [==============================] - 9s 574ms/step - loss: 0.8986 - accuracy: 0.7469 - val_loss: 1.3196 - val_accuracy: 0.6500\n",
      "Epoch 77/150\n",
      "16/16 [==============================] - 9s 582ms/step - loss: 0.9330 - accuracy: 0.7688 - val_loss: 1.4532 - val_accuracy: 0.6625\n",
      "Epoch 78/150\n",
      "16/16 [==============================] - 9s 583ms/step - loss: 1.0140 - accuracy: 0.7031 - val_loss: 1.1587 - val_accuracy: 0.6625\n",
      "Epoch 79/150\n",
      "16/16 [==============================] - 9s 562ms/step - loss: 0.7790 - accuracy: 0.7656 - val_loss: 1.4037 - val_accuracy: 0.6500\n",
      "Epoch 80/150\n",
      "16/16 [==============================] - 9s 581ms/step - loss: 0.8314 - accuracy: 0.7531 - val_loss: 1.4469 - val_accuracy: 0.6250\n",
      "Epoch 81/150\n",
      "16/16 [==============================] - 9s 573ms/step - loss: 0.7528 - accuracy: 0.7750 - val_loss: 1.5419 - val_accuracy: 0.6250\n",
      "Epoch 82/150\n",
      "16/16 [==============================] - 10s 617ms/step - loss: 1.0623 - accuracy: 0.6812 - val_loss: 2.1326 - val_accuracy: 0.5125\n",
      "Epoch 83/150\n",
      "16/16 [==============================] - 9s 589ms/step - loss: 0.8790 - accuracy: 0.7312 - val_loss: 1.4923 - val_accuracy: 0.6500\n",
      "Epoch 84/150\n",
      "16/16 [==============================] - 9s 592ms/step - loss: 0.7988 - accuracy: 0.7844 - val_loss: 1.2543 - val_accuracy: 0.6875\n",
      "Epoch 85/150\n",
      "16/16 [==============================] - 9s 567ms/step - loss: 0.7720 - accuracy: 0.7563 - val_loss: 1.6192 - val_accuracy: 0.5875\n",
      "Epoch 86/150\n",
      "16/16 [==============================] - 9s 581ms/step - loss: 0.7096 - accuracy: 0.7688 - val_loss: 1.5231 - val_accuracy: 0.6500\n",
      "Epoch 87/150\n",
      "16/16 [==============================] - 9s 563ms/step - loss: 0.8277 - accuracy: 0.7406 - val_loss: 1.5986 - val_accuracy: 0.6375\n",
      "Epoch 88/150\n",
      "16/16 [==============================] - 9s 585ms/step - loss: 0.7764 - accuracy: 0.7375 - val_loss: 1.2969 - val_accuracy: 0.7125\n",
      "Epoch 89/150\n",
      "16/16 [==============================] - 9s 573ms/step - loss: 0.8038 - accuracy: 0.7375 - val_loss: 1.2751 - val_accuracy: 0.6375\n",
      "Epoch 90/150\n",
      "16/16 [==============================] - 9s 585ms/step - loss: 0.8038 - accuracy: 0.7750 - val_loss: 1.4737 - val_accuracy: 0.6375\n",
      "Epoch 91/150\n",
      "16/16 [==============================] - 9s 586ms/step - loss: 0.7045 - accuracy: 0.8062 - val_loss: 1.4573 - val_accuracy: 0.6500\n",
      "Epoch 92/150\n",
      "16/16 [==============================] - 9s 567ms/step - loss: 0.7335 - accuracy: 0.7688 - val_loss: 1.7661 - val_accuracy: 0.6125\n",
      "Epoch 93/150\n",
      "16/16 [==============================] - 9s 591ms/step - loss: 0.9381 - accuracy: 0.7125 - val_loss: 1.7650 - val_accuracy: 0.6500\n",
      "Epoch 94/150\n",
      "16/16 [==============================] - 11s 712ms/step - loss: 0.7141 - accuracy: 0.7844 - val_loss: 1.6092 - val_accuracy: 0.6875\n",
      "Epoch 95/150\n",
      "16/16 [==============================] - 10s 613ms/step - loss: 0.6026 - accuracy: 0.8156 - val_loss: 1.4940 - val_accuracy: 0.6500\n",
      "Epoch 96/150\n",
      "16/16 [==============================] - 10s 622ms/step - loss: 0.6372 - accuracy: 0.8281 - val_loss: 1.5006 - val_accuracy: 0.6375\n",
      "Epoch 97/150\n",
      "16/16 [==============================] - 11s 689ms/step - loss: 0.7336 - accuracy: 0.7937 - val_loss: 1.5958 - val_accuracy: 0.6750\n",
      "Epoch 98/150\n",
      "16/16 [==============================] - 12s 774ms/step - loss: 0.7433 - accuracy: 0.7812 - val_loss: 1.3604 - val_accuracy: 0.6375\n",
      "Epoch 99/150\n",
      "16/16 [==============================] - 10s 612ms/step - loss: 0.7410 - accuracy: 0.7531 - val_loss: 1.3462 - val_accuracy: 0.6625\n",
      "Epoch 100/150\n",
      "16/16 [==============================] - 10s 608ms/step - loss: 0.7526 - accuracy: 0.7594 - val_loss: 1.3791 - val_accuracy: 0.6750\n",
      "Epoch 101/150\n",
      "16/16 [==============================] - 10s 622ms/step - loss: 0.6611 - accuracy: 0.8125 - val_loss: 1.7618 - val_accuracy: 0.6250\n",
      "Epoch 102/150\n",
      "16/16 [==============================] - 10s 594ms/step - loss: 0.6728 - accuracy: 0.8094 - val_loss: 1.2507 - val_accuracy: 0.7250\n",
      "Epoch 103/150\n",
      "16/16 [==============================] - 9s 599ms/step - loss: 0.7428 - accuracy: 0.7812 - val_loss: 1.2987 - val_accuracy: 0.6625\n",
      "Epoch 104/150\n",
      "16/16 [==============================] - 10s 620ms/step - loss: 0.7054 - accuracy: 0.7875 - val_loss: 1.3410 - val_accuracy: 0.6875\n",
      "Epoch 105/150\n",
      "16/16 [==============================] - 10s 621ms/step - loss: 0.6633 - accuracy: 0.8062 - val_loss: 1.4454 - val_accuracy: 0.6500\n",
      "Epoch 106/150\n",
      "16/16 [==============================] - 10s 585ms/step - loss: 0.5873 - accuracy: 0.8125 - val_loss: 1.4491 - val_accuracy: 0.6500\n",
      "Epoch 107/150\n",
      "16/16 [==============================] - 9s 589ms/step - loss: 0.5818 - accuracy: 0.8313 - val_loss: 1.7472 - val_accuracy: 0.6000\n",
      "Epoch 108/150\n",
      "16/16 [==============================] - 9s 591ms/step - loss: 0.6756 - accuracy: 0.7719 - val_loss: 1.5799 - val_accuracy: 0.6375\n",
      "Epoch 109/150\n",
      "16/16 [==============================] - 9s 594ms/step - loss: 0.7126 - accuracy: 0.7750 - val_loss: 1.2474 - val_accuracy: 0.7250\n",
      "Epoch 110/150\n",
      "16/16 [==============================] - 9s 579ms/step - loss: 0.6338 - accuracy: 0.8188 - val_loss: 1.4924 - val_accuracy: 0.6750\n",
      "Epoch 111/150\n",
      "16/16 [==============================] - 9s 595ms/step - loss: 0.6575 - accuracy: 0.8281 - val_loss: 1.5322 - val_accuracy: 0.6875\n",
      "Epoch 112/150\n",
      "16/16 [==============================] - 9s 584ms/step - loss: 0.5419 - accuracy: 0.8344 - val_loss: 1.3050 - val_accuracy: 0.6625\n",
      "Epoch 113/150\n",
      "16/16 [==============================] - 9s 587ms/step - loss: 0.5631 - accuracy: 0.8469 - val_loss: 1.3945 - val_accuracy: 0.6750\n",
      "Epoch 114/150\n",
      "16/16 [==============================] - 9s 575ms/step - loss: 0.5534 - accuracy: 0.8531 - val_loss: 1.1860 - val_accuracy: 0.7375\n",
      "Epoch 115/150\n",
      "16/16 [==============================] - 9s 582ms/step - loss: 0.4706 - accuracy: 0.8438 - val_loss: 1.5319 - val_accuracy: 0.6625\n",
      "Epoch 116/150\n",
      "16/16 [==============================] - 9s 598ms/step - loss: 0.5427 - accuracy: 0.8281 - val_loss: 1.6004 - val_accuracy: 0.6500\n",
      "Epoch 117/150\n",
      "16/16 [==============================] - 10s 618ms/step - loss: 0.6205 - accuracy: 0.8156 - val_loss: 1.4417 - val_accuracy: 0.6875\n",
      "Epoch 118/150\n",
      "16/16 [==============================] - 10s 612ms/step - loss: 0.6856 - accuracy: 0.8125 - val_loss: 1.4990 - val_accuracy: 0.6625\n",
      "Epoch 119/150\n",
      "16/16 [==============================] - 9s 583ms/step - loss: 0.6533 - accuracy: 0.7937 - val_loss: 1.4415 - val_accuracy: 0.6375\n",
      "Epoch 120/150\n",
      "16/16 [==============================] - 9s 580ms/step - loss: 0.5880 - accuracy: 0.8219 - val_loss: 1.4934 - val_accuracy: 0.6375\n",
      "Epoch 121/150\n",
      "16/16 [==============================] - 9s 585ms/step - loss: 0.6025 - accuracy: 0.8188 - val_loss: 1.2612 - val_accuracy: 0.6750\n",
      "Epoch 122/150\n",
      "16/16 [==============================] - 9s 586ms/step - loss: 0.5098 - accuracy: 0.8656 - val_loss: 1.5326 - val_accuracy: 0.6125\n",
      "Epoch 123/150\n",
      "16/16 [==============================] - 9s 585ms/step - loss: 0.5244 - accuracy: 0.8219 - val_loss: 1.4304 - val_accuracy: 0.6250\n",
      "Epoch 124/150\n",
      "16/16 [==============================] - 9s 591ms/step - loss: 0.4184 - accuracy: 0.8719 - val_loss: 1.2228 - val_accuracy: 0.7250\n",
      "Epoch 125/150\n",
      "16/16 [==============================] - 9s 579ms/step - loss: 0.5749 - accuracy: 0.8438 - val_loss: 1.2959 - val_accuracy: 0.6875\n",
      "Epoch 126/150\n",
      "16/16 [==============================] - 9s 589ms/step - loss: 0.4745 - accuracy: 0.8375 - val_loss: 1.4060 - val_accuracy: 0.6750\n",
      "Epoch 127/150\n",
      "16/16 [==============================] - 9s 592ms/step - loss: 0.5029 - accuracy: 0.8281 - val_loss: 1.9756 - val_accuracy: 0.6375\n",
      "Epoch 128/150\n",
      "16/16 [==============================] - 9s 594ms/step - loss: 0.5831 - accuracy: 0.8406 - val_loss: 1.5846 - val_accuracy: 0.7000\n",
      "Epoch 129/150\n",
      "16/16 [==============================] - 9s 588ms/step - loss: 0.6118 - accuracy: 0.8000 - val_loss: 1.2757 - val_accuracy: 0.7375\n",
      "Epoch 130/150\n",
      "16/16 [==============================] - 9s 593ms/step - loss: 0.5535 - accuracy: 0.8344 - val_loss: 1.4842 - val_accuracy: 0.6500\n",
      "Epoch 131/150\n",
      "16/16 [==============================] - 9s 583ms/step - loss: 0.4587 - accuracy: 0.8656 - val_loss: 1.3450 - val_accuracy: 0.7875\n",
      "Epoch 132/150\n",
      "16/16 [==============================] - 9s 575ms/step - loss: 0.5011 - accuracy: 0.8438 - val_loss: 1.5937 - val_accuracy: 0.7000\n",
      "Epoch 133/150\n",
      "16/16 [==============================] - 9s 591ms/step - loss: 0.4485 - accuracy: 0.8719 - val_loss: 1.7536 - val_accuracy: 0.6625\n",
      "Epoch 134/150\n",
      "16/16 [==============================] - 9s 596ms/step - loss: 0.4337 - accuracy: 0.8469 - val_loss: 1.8329 - val_accuracy: 0.6750\n",
      "Epoch 135/150\n",
      "16/16 [==============================] - 10s 605ms/step - loss: 0.5071 - accuracy: 0.8531 - val_loss: 1.4983 - val_accuracy: 0.7125\n",
      "Epoch 136/150\n",
      "16/16 [==============================] - 9s 587ms/step - loss: 0.5732 - accuracy: 0.8156 - val_loss: 1.4510 - val_accuracy: 0.6625\n",
      "Epoch 137/150\n",
      "16/16 [==============================] - 9s 577ms/step - loss: 0.5595 - accuracy: 0.8313 - val_loss: 1.2327 - val_accuracy: 0.7625\n",
      "Epoch 138/150\n",
      "16/16 [==============================] - 9s 577ms/step - loss: 0.4917 - accuracy: 0.8562 - val_loss: 1.3891 - val_accuracy: 0.6875\n",
      "Epoch 139/150\n",
      "16/16 [==============================] - 10s 621ms/step - loss: 0.5734 - accuracy: 0.8062 - val_loss: 1.4881 - val_accuracy: 0.6500\n",
      "Epoch 140/150\n",
      "16/16 [==============================] - 9s 592ms/step - loss: 0.5286 - accuracy: 0.8313 - val_loss: 1.6331 - val_accuracy: 0.6500\n",
      "Epoch 141/150\n",
      "16/16 [==============================] - 9s 579ms/step - loss: 0.5252 - accuracy: 0.8344 - val_loss: 1.3823 - val_accuracy: 0.6875\n",
      "Epoch 142/150\n",
      "16/16 [==============================] - 11s 694ms/step - loss: 0.4827 - accuracy: 0.8562 - val_loss: 1.6002 - val_accuracy: 0.6750\n",
      "Epoch 143/150\n",
      "16/16 [==============================] - 10s 616ms/step - loss: 0.4816 - accuracy: 0.8562 - val_loss: 1.6762 - val_accuracy: 0.6500\n",
      "Epoch 144/150\n",
      "16/16 [==============================] - 11s 678ms/step - loss: 0.4616 - accuracy: 0.8406 - val_loss: 1.3790 - val_accuracy: 0.6875\n",
      "Epoch 145/150\n",
      "16/16 [==============================] - 10s 620ms/step - loss: 0.6060 - accuracy: 0.8188 - val_loss: 1.3876 - val_accuracy: 0.7000\n",
      "Epoch 146/150\n",
      "16/16 [==============================] - 10s 609ms/step - loss: 0.4345 - accuracy: 0.8500 - val_loss: 1.4830 - val_accuracy: 0.7375\n",
      "Epoch 147/150\n",
      "16/16 [==============================] - 9s 593ms/step - loss: 0.4966 - accuracy: 0.8562 - val_loss: 1.2515 - val_accuracy: 0.6750\n",
      "Epoch 148/150\n",
      "16/16 [==============================] - 9s 584ms/step - loss: 0.4873 - accuracy: 0.8438 - val_loss: 1.6998 - val_accuracy: 0.6250\n",
      "Epoch 149/150\n",
      "16/16 [==============================] - 9s 592ms/step - loss: 0.4426 - accuracy: 0.8844 - val_loss: 1.8082 - val_accuracy: 0.6250\n",
      "Epoch 150/150\n",
      "16/16 [==============================] - 9s 595ms/step - loss: 0.4221 - accuracy: 0.8813 - val_loss: 1.4905 - val_accuracy: 0.6625\n"
     ]
    }
   ],
   "source": [
    "model2 = classifier.fit_generator(train_set, epochs = 150,validation_data=validation_set)"
   ]
  },
  {
   "cell_type": "markdown",
   "id": "5ee8a3aa",
   "metadata": {},
   "source": [
    "# Accuracy "
   ]
  },
  {
   "cell_type": "code",
   "execution_count": 28,
   "id": "b208c4af",
   "metadata": {},
   "outputs": [],
   "source": [
    "import matplotlib.pyplot as plt"
   ]
  },
  {
   "cell_type": "code",
   "execution_count": 29,
   "id": "661ff31e",
   "metadata": {},
   "outputs": [],
   "source": [
    "acc = model2.history['accuracy']"
   ]
  },
  {
   "cell_type": "code",
   "execution_count": 30,
   "id": "fee6cad0",
   "metadata": {},
   "outputs": [],
   "source": [
    "val_acc = model2.history['val_accuracy']"
   ]
  },
  {
   "cell_type": "code",
   "execution_count": 31,
   "id": "b81a782b",
   "metadata": {},
   "outputs": [],
   "source": [
    "loss = model2.history['loss']"
   ]
  },
  {
   "cell_type": "code",
   "execution_count": 32,
   "id": "32a8ec9e",
   "metadata": {},
   "outputs": [],
   "source": [
    "val_loss = model2.history['val_loss']"
   ]
  },
  {
   "cell_type": "code",
   "execution_count": 33,
   "id": "18374cbe",
   "metadata": {},
   "outputs": [],
   "source": [
    "epochs = range(1, len(acc) + 1)"
   ]
  },
  {
   "cell_type": "code",
   "execution_count": 34,
   "id": "9e1bc8ea",
   "metadata": {},
   "outputs": [
    {
     "data": {
      "image/png": "[encoded data removed]",
      "text/plain": [
       "<Figure size 432x288 with 1 Axes>"
      ]
     },
     "metadata": {
      "needs_background": "light"
     },
     "output_type": "display_data"
    },
    {
     "data": {
      "text/plain": [
       "<Figure size 432x288 with 0 Axes>"
      ]
     },
     "metadata": {},
     "output_type": "display_data"
    }
   ],
   "source": [
    "plt.plot(epochs, acc, 'bo', label='Training acc');\n",
    "plt.plot(epochs, val_acc, 'g', label='Validation acc');\n",
    "plt.title('Training and Validation Accuracy');\n",
    "plt.legend();\n",
    "plt.figure();"
   ]
  },
  {
   "cell_type": "markdown",
   "id": "5b2f635c",
   "metadata": {},
   "source": [
    "# Loss"
   ]
  },
  {
   "cell_type": "code",
   "execution_count": 35,
   "id": "b9a1412f",
   "metadata": {
    "scrolled": true
   },
   "outputs": [
    {
     "data": {
      "image/png": "[encoded data removed]",
      "text/plain": [
       "<Figure size 432x288 with 1 Axes>"
      ]
     },
     "metadata": {
      "needs_background": "light"
     },
     "output_type": "display_data"
    },
    {
     "data": {
      "text/plain": [
       "<Figure size 432x288 with 0 Axes>"
      ]
     },
     "metadata": {},
     "output_type": "display_data"
    }
   ],
   "source": [
    "plt.plot(epochs, loss, 'bo', label='Training loss');\n",
    "plt.plot(epochs, val_loss, 'g', label='Validation loss');\n",
    "plt.title('Training and Validation Loss');\n",
    "plt.legend();\n",
    "plt.figure();"
   ]
  },
  {
   "cell_type": "markdown",
   "id": "a474c236",
   "metadata": {},
   "source": [
    "----------------------------------------------------------------------------------------------------------------------------------"
   ]
  }
 ],
 "metadata": {
  "kernelspec": {
   "display_name": "Python 3 (ipykernel)",
   "language": "python",
   "name": "python3"
  },
  "language_info": {
   "codemirror_mode": {
    "name": "ipython",
    "version": 3
   },
   "file_extension": ".py",
   "mimetype": "text/x-python",
   "name": "python",
   "nbconvert_exporter": "python",
   "pygments_lexer": "ipython3",
   "version": "3.9.12"
  }
 },
 "nbformat": 4,
 "nbformat_minor": 5
}
