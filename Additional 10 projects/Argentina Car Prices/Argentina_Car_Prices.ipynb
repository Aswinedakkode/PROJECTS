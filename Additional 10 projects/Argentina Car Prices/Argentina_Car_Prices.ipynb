{
 "cells": [
  {
   "cell_type": "code",
   "execution_count": 1,
   "id": "87a096af",
   "metadata": {},
   "outputs": [],
   "source": [
    "import pandas as pd\n",
    "import numpy as np\n",
    "import matplotlib.pyplot as plt\n",
    "import seaborn as sns\n",
    "pd.set_option('display.max_column',None)\n",
    "\n",
    "import scipy\n",
    "from scipy import stats\n",
    "from scipy.stats import chi2_contingency\n",
    "import statsmodels.api as sm\n",
    "from statsmodels.formula.api import ols\n",
    "from statsmodels.stats.multicomp import pairwise_tukeyhsd\n",
    "from statsmodels.stats.stattools import durbin_watson\n",
    "import statsmodels.formula.api as smf\n",
    "from statsmodels.stats.outliers_influence import variance_inflation_factor\n",
    "\n",
    "from sklearn.model_selection import train_test_split\n",
    "from sklearn.preprocessing import StandardScaler,LabelEncoder\n",
    "from sklearn.model_selection import GridSearchCV\n",
    "\n",
    "\n",
    "from sklearn.ensemble import RandomForestRegressor\n",
    "\n",
    "from sklearn import metrics\n",
    "from sklearn.metrics import confusion_matrix , classification_report,roc_curve,auc,roc_auc_score,mean_squared_error\n",
    "\n",
    "import warnings \n",
    "warnings.filterwarnings('ignore')"
   ]
  },
  {
   "cell_type": "code",
   "execution_count": 2,
   "id": "6c16f964",
   "metadata": {},
   "outputs": [],
   "source": [
    "data = pd.read_csv(\"FINAL_SPINNY_900.csv\")"
   ]
  },
  {
   "cell_type": "code",
   "execution_count": 3,
   "id": "322aaded",
   "metadata": {},
   "outputs": [
    {
     "name": "stdout",
     "output_type": "stream",
     "text": [
      "<class 'pandas.core.frame.DataFrame'>\n",
      "RangeIndex: 976 entries, 0 to 975\n",
      "Data columns (total 20 columns):\n",
      " #   Column                Non-Null Count  Dtype  \n",
      "---  ------                --------------  -----  \n",
      " 0   Car_Name              976 non-null    object \n",
      " 1   Make                  976 non-null    object \n",
      " 2   Model                 976 non-null    object \n",
      " 3   Make_Year             976 non-null    int64  \n",
      " 4   Color                 976 non-null    object \n",
      " 5   Body_Type             976 non-null    object \n",
      " 6   Mileage_Run           976 non-null    float64\n",
      " 7   No_of_Owners          976 non-null    object \n",
      " 8   Seating_Capacity      976 non-null    int64  \n",
      " 9   Fuel_Type             976 non-null    object \n",
      " 10  Fuel_Tank_Capacity_L  976 non-null    int64  \n",
      " 11  Engine_Type           976 non-null    object \n",
      " 12  CC_Displacement       976 non-null    int64  \n",
      " 13  Transmission          976 non-null    object \n",
      " 14  Transmission_Type     976 non-null    object \n",
      " 15  Power_BHP             976 non-null    float64\n",
      " 16  Torque_Nm             976 non-null    float64\n",
      " 17  Mileage_kmpl          976 non-null    float64\n",
      " 18  Emission              976 non-null    object \n",
      " 19  Price                 976 non-null    float64\n",
      "dtypes: float64(5), int64(4), object(11)\n",
      "memory usage: 152.6+ KB\n"
     ]
    }
   ],
   "source": [
    "data.info()"
   ]
  },
  {
   "cell_type": "markdown",
   "id": "41a11d72",
   "metadata": {},
   "source": [
    "# make"
   ]
  },
  {
   "cell_type": "code",
   "execution_count": 4,
   "id": "90a443c4",
   "metadata": {},
   "outputs": [
    {
     "data": {
      "text/plain": [
       "16"
      ]
     },
     "execution_count": 4,
     "metadata": {},
     "output_type": "execute_result"
    }
   ],
   "source": [
    "data.Make.nunique()"
   ]
  },
  {
   "cell_type": "code",
   "execution_count": 5,
   "id": "19e55515",
   "metadata": {
    "scrolled": true
   },
   "outputs": [
    {
     "data": {
      "text/plain": [
       "Hyundai          305\n",
       "Maruti Suzuki    293\n",
       "Honda             73\n",
       "Renault           68\n",
       "Ford              52\n",
       "Toyota            50\n",
       "MG Motors         35\n",
       "Volkswagen        29\n",
       "Tata              23\n",
       "Mahindra          18\n",
       "Kia                8\n",
       "Chevrolet          6\n",
       "Skoda              5\n",
       "Nissan             4\n",
       "Jeep               4\n",
       "Datsun             3\n",
       "Name: Make, dtype: int64"
      ]
     },
     "execution_count": 5,
     "metadata": {},
     "output_type": "execute_result"
    }
   ],
   "source": [
    "data.Make.value_counts()"
   ]
  },
  {
   "cell_type": "code",
   "execution_count": 6,
   "id": "963356dc",
   "metadata": {},
   "outputs": [],
   "source": [
    "data['Make']= data.get('Make').replace('Hyundai', 16)\n",
    "data['Make']= data.get('Make').replace('Maruti Suzuki', 15)\n",
    "data['Make']= data.get('Make').replace('Honda', 14)\n",
    "data['Make']= data.get('Make').replace('Renault', 13)\n",
    "data['Make']= data.get('Make').replace('Ford', 12)\n",
    "data['Make']= data.get('Make').replace('Toyota', 11)\n",
    "data['Make']= data.get('Make').replace('MG Motors', 10)\n",
    "data['Make']= data.get('Make').replace('Volkswagen', 9)\n",
    "data['Make']= data.get('Make').replace('Tata', 8)\n",
    "data['Make']= data.get('Make').replace('Mahindra', 7)\n",
    "data['Make']= data.get('Make').replace('Kia', 6)\n",
    "data['Make']= data.get('Make').replace('Chevrolet', 5)\n",
    "data['Make']= data.get('Make').replace('Skoda', 4)\n",
    "data['Make']= data.get('Make').replace('Nissan', 3)\n",
    "data['Make']= data.get('Make').replace('Jeep', 2)\n",
    "data['Make']= data.get('Make').replace('Datsun', 1)\n"
   ]
  },
  {
   "cell_type": "code",
   "execution_count": 7,
   "id": "c6e8249b",
   "metadata": {
    "scrolled": true
   },
   "outputs": [
    {
     "data": {
      "text/plain": [
       "16    305\n",
       "15    293\n",
       "14     73\n",
       "13     68\n",
       "12     52\n",
       "Name: Make, dtype: int64"
      ]
     },
     "execution_count": 7,
     "metadata": {},
     "output_type": "execute_result"
    }
   ],
   "source": [
    "data.Make.value_counts().head()"
   ]
  },
  {
   "cell_type": "markdown",
   "id": "9a927527",
   "metadata": {},
   "source": [
    "# model"
   ]
  },
  {
   "cell_type": "code",
   "execution_count": 8,
   "id": "cdcc4693",
   "metadata": {},
   "outputs": [
    {
     "data": {
      "text/plain": [
       "87"
      ]
     },
     "execution_count": 8,
     "metadata": {},
     "output_type": "execute_result"
    }
   ],
   "source": [
    "data.Model.nunique()"
   ]
  },
  {
   "cell_type": "markdown",
   "id": "b40e4385",
   "metadata": {},
   "source": [
    "# Make_year"
   ]
  },
  {
   "cell_type": "code",
   "execution_count": 9,
   "id": "38abfb9f",
   "metadata": {},
   "outputs": [
    {
     "data": {
      "text/plain": [
       "12"
      ]
     },
     "execution_count": 9,
     "metadata": {},
     "output_type": "execute_result"
    }
   ],
   "source": [
    "data.Make_Year.nunique()"
   ]
  },
  {
   "cell_type": "code",
   "execution_count": 10,
   "id": "cd86d3dd",
   "metadata": {},
   "outputs": [
    {
     "data": {
      "text/plain": [
       "2017    137\n",
       "2020    135\n",
       "2019    124\n",
       "2018    112\n",
       "2016     92\n",
       "2015     85\n",
       "2014     73\n",
       "2021     69\n",
       "2013     53\n",
       "2011     44\n",
       "2012     38\n",
       "2022     14\n",
       "Name: Make_Year, dtype: int64"
      ]
     },
     "execution_count": 10,
     "metadata": {},
     "output_type": "execute_result"
    }
   ],
   "source": [
    "data.Make_Year.value_counts()"
   ]
  },
  {
   "cell_type": "markdown",
   "id": "93efd591",
   "metadata": {},
   "source": [
    "# color"
   ]
  },
  {
   "cell_type": "code",
   "execution_count": 11,
   "id": "18024731",
   "metadata": {},
   "outputs": [
    {
     "data": {
      "text/plain": [
       "15"
      ]
     },
     "execution_count": 11,
     "metadata": {},
     "output_type": "execute_result"
    }
   ],
   "source": [
    "data.Color.nunique()"
   ]
  },
  {
   "cell_type": "code",
   "execution_count": 12,
   "id": "f2738c49",
   "metadata": {},
   "outputs": [
    {
     "data": {
      "text/plain": [
       "white     200\n",
       "red       187\n",
       "grey      164\n",
       "silver    132\n",
       "blue      128\n",
       "brown      70\n",
       "black      35\n",
       "orange     19\n",
       "bronze     12\n",
       "beige       9\n",
       "yellow      6\n",
       "purple      6\n",
       "golden      3\n",
       "maroon      3\n",
       "green       2\n",
       "Name: Color, dtype: int64"
      ]
     },
     "execution_count": 12,
     "metadata": {},
     "output_type": "execute_result"
    }
   ],
   "source": [
    "data.Color.value_counts()"
   ]
  },
  {
   "cell_type": "code",
   "execution_count": 13,
   "id": "4ed40c84",
   "metadata": {},
   "outputs": [],
   "source": [
    "data['Color']= data.get('Color').replace('white', 15)\n",
    "data['Color']= data.get('Color').replace('red', 14)\n",
    "data['Color']= data.get('Color').replace('grey', 13)\n",
    "data['Color']= data.get('Color').replace('silver', 12)\n",
    "data['Color']= data.get('Color').replace('blue', 11)\n",
    "data['Color']= data.get('Color').replace('brown', 10)\n",
    "data['Color']= data.get('Color').replace('black', 9)\n",
    "data['Color']= data.get('Color').replace('orange', 8)\n",
    "data['Color']= data.get('Color').replace('bronze', 7)\n",
    "data['Color']= data.get('Color').replace('beige', 6)\n",
    "data['Color']= data.get('Color').replace('yellow', 5)\n",
    "data['Color']= data.get('Color').replace('purple', 4)\n",
    "data['Color']= data.get('Color').replace('golden', 3)\n",
    "data['Color']= data.get('Color').replace('maroon', 2)\n",
    "data['Color']= data.get('Color').replace('green', 1)"
   ]
  },
  {
   "cell_type": "markdown",
   "id": "5ff2b76b",
   "metadata": {},
   "source": [
    "# Body_Type"
   ]
  },
  {
   "cell_type": "code",
   "execution_count": 14,
   "id": "4218177d",
   "metadata": {},
   "outputs": [
    {
     "data": {
      "text/plain": [
       "5"
      ]
     },
     "execution_count": 14,
     "metadata": {},
     "output_type": "execute_result"
    }
   ],
   "source": [
    "data.Body_Type.nunique()"
   ]
  },
  {
   "cell_type": "code",
   "execution_count": 15,
   "id": "5e61f8be",
   "metadata": {},
   "outputs": [
    {
     "data": {
      "text/plain": [
       "hatchback    484\n",
       "sedan        227\n",
       "suv          206\n",
       "muv           38\n",
       "crossover     21\n",
       "Name: Body_Type, dtype: int64"
      ]
     },
     "execution_count": 15,
     "metadata": {},
     "output_type": "execute_result"
    }
   ],
   "source": [
    "data.Body_Type.value_counts()"
   ]
  },
  {
   "cell_type": "code",
   "execution_count": 16,
   "id": "f2c80f2a",
   "metadata": {},
   "outputs": [],
   "source": [
    "data['Body_Type']= data.get('Body_Type').replace('hatchback', 5)\n",
    "data['Body_Type']= data.get('Body_Type').replace('sedan', 4)\n",
    "data['Body_Type']= data.get('Body_Type').replace('suv', 3)\n",
    "data['Body_Type']= data.get('Body_Type').replace('muv', 2)\n",
    "data['Body_Type']= data.get('Body_Type').replace('crossover', 1)"
   ]
  },
  {
   "cell_type": "markdown",
   "id": "5dc3d8b7",
   "metadata": {},
   "source": [
    "# Mileage_Run"
   ]
  },
  {
   "cell_type": "code",
   "execution_count": 17,
   "id": "29b29f9f",
   "metadata": {},
   "outputs": [
    {
     "data": {
      "text/plain": [
       "878"
      ]
     },
     "execution_count": 17,
     "metadata": {},
     "output_type": "execute_result"
    }
   ],
   "source": [
    "data.Mileage_Run.nunique()"
   ]
  },
  {
   "cell_type": "code",
   "execution_count": 18,
   "id": "2c978188",
   "metadata": {},
   "outputs": [
    {
     "data": {
      "text/plain": [
       "count      976.000000\n",
       "mean     41571.195697\n",
       "std      24390.995134\n",
       "min       1117.000000\n",
       "25%      22676.750000\n",
       "50%      37570.500000\n",
       "75%      57421.250000\n",
       "max      99495.000000\n",
       "Name: Mileage_Run, dtype: float64"
      ]
     },
     "execution_count": 18,
     "metadata": {},
     "output_type": "execute_result"
    }
   ],
   "source": [
    "data.Mileage_Run.describe()"
   ]
  },
  {
   "cell_type": "markdown",
   "id": "30e4fd55",
   "metadata": {},
   "source": [
    "# No_of_Owners"
   ]
  },
  {
   "cell_type": "code",
   "execution_count": 19,
   "id": "637c0708",
   "metadata": {},
   "outputs": [
    {
     "data": {
      "text/plain": [
       "3"
      ]
     },
     "execution_count": 19,
     "metadata": {},
     "output_type": "execute_result"
    }
   ],
   "source": [
    "data.No_of_Owners.nunique()"
   ]
  },
  {
   "cell_type": "code",
   "execution_count": 20,
   "id": "9368af83",
   "metadata": {},
   "outputs": [
    {
     "data": {
      "text/plain": [
       "1st    818\n",
       "2nd    154\n",
       "3rd      4\n",
       "Name: No_of_Owners, dtype: int64"
      ]
     },
     "execution_count": 20,
     "metadata": {},
     "output_type": "execute_result"
    }
   ],
   "source": [
    "data.No_of_Owners.value_counts()"
   ]
  },
  {
   "cell_type": "code",
   "execution_count": 21,
   "id": "14a23213",
   "metadata": {},
   "outputs": [],
   "source": [
    "data['No_of_Owners']= data.get('No_of_Owners').replace('1st', 3)\n",
    "data['No_of_Owners']= data.get('No_of_Owners').replace('2nd', 2)\n",
    "data['No_of_Owners']= data.get('No_of_Owners').replace('3rd', 1)"
   ]
  },
  {
   "cell_type": "markdown",
   "id": "b876ba36",
   "metadata": {},
   "source": [
    "# Seating_Capacity"
   ]
  },
  {
   "cell_type": "code",
   "execution_count": 22,
   "id": "0aee417e",
   "metadata": {},
   "outputs": [
    {
     "data": {
      "text/plain": [
       "5"
      ]
     },
     "execution_count": 22,
     "metadata": {},
     "output_type": "execute_result"
    }
   ],
   "source": [
    "data.Seating_Capacity.nunique()"
   ]
  },
  {
   "cell_type": "code",
   "execution_count": 23,
   "id": "4341c186",
   "metadata": {},
   "outputs": [
    {
     "data": {
      "text/plain": [
       "5    930\n",
       "7     39\n",
       "8      5\n",
       "6      1\n",
       "4      1\n",
       "Name: Seating_Capacity, dtype: int64"
      ]
     },
     "execution_count": 23,
     "metadata": {},
     "output_type": "execute_result"
    }
   ],
   "source": [
    "data.Seating_Capacity.value_counts()"
   ]
  },
  {
   "cell_type": "markdown",
   "id": "d544d35d",
   "metadata": {},
   "source": [
    "# Fuel_Type"
   ]
  },
  {
   "cell_type": "code",
   "execution_count": 24,
   "id": "a75f364a",
   "metadata": {},
   "outputs": [
    {
     "data": {
      "text/plain": [
       "3"
      ]
     },
     "execution_count": 24,
     "metadata": {},
     "output_type": "execute_result"
    }
   ],
   "source": [
    "data.Fuel_Type.nunique()"
   ]
  },
  {
   "cell_type": "code",
   "execution_count": 25,
   "id": "c7784391",
   "metadata": {},
   "outputs": [
    {
     "data": {
      "text/plain": [
       "petrol        783\n",
       "diesel        191\n",
       "petrol+cng      2\n",
       "Name: Fuel_Type, dtype: int64"
      ]
     },
     "execution_count": 25,
     "metadata": {},
     "output_type": "execute_result"
    }
   ],
   "source": [
    "data.Fuel_Type.value_counts()"
   ]
  },
  {
   "cell_type": "code",
   "execution_count": 26,
   "id": "f45093a4",
   "metadata": {},
   "outputs": [],
   "source": [
    "data['Fuel_Type']= data.get('Fuel_Type').replace('petrol', 3)\n",
    "data['Fuel_Type']= data.get('Fuel_Type').replace('diesel', 2)\n",
    "data['Fuel_Type']= data.get('Fuel_Type').replace('petrol+cng', 1)"
   ]
  },
  {
   "cell_type": "markdown",
   "id": "97dedb6f",
   "metadata": {},
   "source": [
    "# Fuel_Tank_Capacity_L"
   ]
  },
  {
   "cell_type": "code",
   "execution_count": 27,
   "id": "1948888f",
   "metadata": {},
   "outputs": [
    {
     "data": {
      "text/plain": [
       "21"
      ]
     },
     "execution_count": 27,
     "metadata": {},
     "output_type": "execute_result"
    }
   ],
   "source": [
    "data.Fuel_Tank_Capacity_L.nunique()"
   ]
  },
  {
   "cell_type": "code",
   "execution_count": 28,
   "id": "2d9b2e95",
   "metadata": {},
   "outputs": [
    {
     "data": {
      "text/plain": [
       "35    162\n",
       "45    158\n",
       "43    140\n",
       "40    102\n",
       "37     99\n",
       "60     80\n",
       "42     56\n",
       "50     37\n",
       "28     29\n",
       "52     27\n",
       "32     27\n",
       "55     15\n",
       "27     14\n",
       "48     14\n",
       "70      5\n",
       "36      4\n",
       "44      2\n",
       "41      2\n",
       "66      1\n",
       "24      1\n",
       "15      1\n",
       "Name: Fuel_Tank_Capacity_L, dtype: int64"
      ]
     },
     "execution_count": 28,
     "metadata": {},
     "output_type": "execute_result"
    }
   ],
   "source": [
    "data.Fuel_Tank_Capacity_L.value_counts()"
   ]
  },
  {
   "cell_type": "markdown",
   "id": "abccb7e1",
   "metadata": {},
   "source": [
    "# Engine_Type"
   ]
  },
  {
   "cell_type": "code",
   "execution_count": 29,
   "id": "3ed608b5",
   "metadata": {},
   "outputs": [
    {
     "data": {
      "text/plain": [
       "143"
      ]
     },
     "execution_count": 29,
     "metadata": {},
     "output_type": "execute_result"
    }
   ],
   "source": [
    "data.Engine_Type.nunique()"
   ]
  },
  {
   "cell_type": "code",
   "execution_count": 30,
   "id": "9ad963e4",
   "metadata": {},
   "outputs": [
    {
     "data": {
      "text/plain": [
       "Kappa VTVT Petrol Engine    77\n",
       "Petrol Engine               45\n",
       "K10B                        38\n",
       "FWD                         35\n",
       "1.2L VVT Engine             34\n",
       "Front Wheel Drive           26\n",
       "1.5 Dual VVT-i Engine       26\n",
       "K Series Petrol Engine      24\n",
       "F8D Petrol Engine           21\n",
       "i VTEC Engine               19\n",
       "Name: Engine_Type, dtype: int64"
      ]
     },
     "execution_count": 30,
     "metadata": {},
     "output_type": "execute_result"
    }
   ],
   "source": [
    "data.Engine_Type.value_counts().head(10)"
   ]
  },
  {
   "cell_type": "markdown",
   "id": "351e149e",
   "metadata": {},
   "source": [
    "# CC_Displacement"
   ]
  },
  {
   "cell_type": "code",
   "execution_count": 31,
   "id": "79829dd1",
   "metadata": {},
   "outputs": [
    {
     "data": {
      "text/plain": [
       "38"
      ]
     },
     "execution_count": 31,
     "metadata": {},
     "output_type": "execute_result"
    }
   ],
   "source": [
    "data.CC_Displacement.nunique()"
   ]
  },
  {
   "cell_type": "code",
   "execution_count": 32,
   "id": "3e538d68",
   "metadata": {},
   "outputs": [
    {
     "data": {
      "text/plain": [
       "1197    268\n",
       "998      97\n",
       "1596     62\n",
       "1199     44\n",
       "1591     34\n",
       "1248     33\n",
       "1496     32\n",
       "1497     30\n",
       "999      30\n",
       "1498     29\n",
       "Name: CC_Displacement, dtype: int64"
      ]
     },
     "execution_count": 32,
     "metadata": {},
     "output_type": "execute_result"
    }
   ],
   "source": [
    "data.CC_Displacement.value_counts().head(10)"
   ]
  },
  {
   "cell_type": "markdown",
   "id": "2b531555",
   "metadata": {},
   "source": [
    "# Transmission"
   ]
  },
  {
   "cell_type": "code",
   "execution_count": 33,
   "id": "39f79f7c",
   "metadata": {},
   "outputs": [
    {
     "data": {
      "text/plain": [
       "5"
      ]
     },
     "execution_count": 33,
     "metadata": {},
     "output_type": "execute_result"
    }
   ],
   "source": [
    "data.Transmission.nunique()"
   ]
  },
  {
   "cell_type": "code",
   "execution_count": 34,
   "id": "ed76df03",
   "metadata": {},
   "outputs": [
    {
     "data": {
      "text/plain": [
       "5-Speed    749\n",
       "6-Speed    169\n",
       "4-Speed     39\n",
       "7-Speed     16\n",
       "CVT          3\n",
       "Name: Transmission, dtype: int64"
      ]
     },
     "execution_count": 34,
     "metadata": {},
     "output_type": "execute_result"
    }
   ],
   "source": [
    "data.Transmission.value_counts()"
   ]
  },
  {
   "cell_type": "code",
   "execution_count": 35,
   "id": "d94b5fa6",
   "metadata": {},
   "outputs": [],
   "source": [
    "data['Transmission']= data.get('Transmission').replace('5-Speed', 5)\n",
    "data['Transmission']= data.get('Transmission').replace('6-Speed', 4)\n",
    "data['Transmission']= data.get('Transmission').replace('4-Speed', 3)\n",
    "data['Transmission']= data.get('Transmission').replace('7-Speed', 2)\n",
    "data['Transmission']= data.get('Transmission').replace('CVT', 1)"
   ]
  },
  {
   "cell_type": "markdown",
   "id": "67a945e5",
   "metadata": {},
   "source": [
    "# Transmission_Type"
   ]
  },
  {
   "cell_type": "code",
   "execution_count": 36,
   "id": "c897950d",
   "metadata": {},
   "outputs": [
    {
     "data": {
      "text/plain": [
       "2"
      ]
     },
     "execution_count": 36,
     "metadata": {},
     "output_type": "execute_result"
    }
   ],
   "source": [
    "data.Transmission_Type.nunique()"
   ]
  },
  {
   "cell_type": "code",
   "execution_count": 37,
   "id": "4415e812",
   "metadata": {},
   "outputs": [
    {
     "data": {
      "text/plain": [
       "Manual       712\n",
       "Automatic    264\n",
       "Name: Transmission_Type, dtype: int64"
      ]
     },
     "execution_count": 37,
     "metadata": {},
     "output_type": "execute_result"
    }
   ],
   "source": [
    "data.Transmission_Type.value_counts()"
   ]
  },
  {
   "cell_type": "code",
   "execution_count": 38,
   "id": "69f267ca",
   "metadata": {},
   "outputs": [],
   "source": [
    "data['Transmission_Type']= data.get('Transmission_Type').replace('Automatic', 2)\n",
    "data['Transmission_Type']= data.get('Transmission_Type').replace('Manual', 1)"
   ]
  },
  {
   "cell_type": "markdown",
   "id": "d3f5afba",
   "metadata": {},
   "source": [
    "# Power_BHP"
   ]
  },
  {
   "cell_type": "code",
   "execution_count": 39,
   "id": "dedeb086",
   "metadata": {},
   "outputs": [
    {
     "data": {
      "text/plain": [
       "105"
      ]
     },
     "execution_count": 39,
     "metadata": {},
     "output_type": "execute_result"
    }
   ],
   "source": [
    "data.Power_BHP.nunique()"
   ]
  },
  {
   "cell_type": "code",
   "execution_count": 40,
   "id": "8a95765e",
   "metadata": {},
   "outputs": [
    {
     "data": {
      "text/plain": [
       "count    976.000000\n",
       "mean      91.325758\n",
       "std       25.713275\n",
       "min       34.000000\n",
       "25%       74.720000\n",
       "50%       83.325000\n",
       "75%      105.940000\n",
       "max      177.000000\n",
       "Name: Power_BHP, dtype: float64"
      ]
     },
     "execution_count": 40,
     "metadata": {},
     "output_type": "execute_result"
    }
   ],
   "source": [
    "data.Power_BHP.describe()"
   ]
  },
  {
   "cell_type": "markdown",
   "id": "ba6e7226",
   "metadata": {},
   "source": [
    "# Torque_Nm"
   ]
  },
  {
   "cell_type": "code",
   "execution_count": 41,
   "id": "b2228830",
   "metadata": {},
   "outputs": [
    {
     "data": {
      "text/plain": [
       "79"
      ]
     },
     "execution_count": 41,
     "metadata": {},
     "output_type": "execute_result"
    }
   ],
   "source": [
    "data.Torque_Nm.nunique()"
   ]
  },
  {
   "cell_type": "code",
   "execution_count": 42,
   "id": "a0b318ee",
   "metadata": {
    "scrolled": true
   },
   "outputs": [
    {
     "data": {
      "text/plain": [
       "count    976.000000\n",
       "mean     144.381045\n",
       "std       66.780511\n",
       "min       48.000000\n",
       "25%      110.000000\n",
       "50%      114.000000\n",
       "75%      158.000000\n",
       "max      380.000000\n",
       "Name: Torque_Nm, dtype: float64"
      ]
     },
     "execution_count": 42,
     "metadata": {},
     "output_type": "execute_result"
    }
   ],
   "source": [
    "data.Torque_Nm.describe()"
   ]
  },
  {
   "cell_type": "markdown",
   "id": "09e23a57",
   "metadata": {},
   "source": [
    "# Mileage_kmpl"
   ]
  },
  {
   "cell_type": "code",
   "execution_count": 43,
   "id": "d632ece3",
   "metadata": {},
   "outputs": [
    {
     "data": {
      "text/plain": [
       "151"
      ]
     },
     "execution_count": 43,
     "metadata": {},
     "output_type": "execute_result"
    }
   ],
   "source": [
    "data.Mileage_kmpl.nunique()"
   ]
  },
  {
   "cell_type": "code",
   "execution_count": 44,
   "id": "eaf4188e",
   "metadata": {},
   "outputs": [
    {
     "data": {
      "text/plain": [
       "count    976.000000\n",
       "mean      19.509744\n",
       "std        2.679003\n",
       "min       10.400000\n",
       "25%       17.410000\n",
       "50%       18.900000\n",
       "75%       21.010000\n",
       "max       31.190000\n",
       "Name: Mileage_kmpl, dtype: float64"
      ]
     },
     "execution_count": 44,
     "metadata": {},
     "output_type": "execute_result"
    }
   ],
   "source": [
    "data.Mileage_kmpl.describe()"
   ]
  },
  {
   "cell_type": "markdown",
   "id": "c1bfabde",
   "metadata": {},
   "source": [
    "# Emission"
   ]
  },
  {
   "cell_type": "code",
   "execution_count": 45,
   "id": "f64851b1",
   "metadata": {
    "scrolled": true
   },
   "outputs": [
    {
     "data": {
      "text/plain": [
       "3"
      ]
     },
     "execution_count": 45,
     "metadata": {},
     "output_type": "execute_result"
    }
   ],
   "source": [
    "data.Emission.nunique()"
   ]
  },
  {
   "cell_type": "code",
   "execution_count": 46,
   "id": "bf9b9b5a",
   "metadata": {},
   "outputs": [
    {
     "data": {
      "text/plain": [
       "BS IV     588\n",
       "BS V      305\n",
       "BS III     83\n",
       "Name: Emission, dtype: int64"
      ]
     },
     "execution_count": 46,
     "metadata": {},
     "output_type": "execute_result"
    }
   ],
   "source": [
    "data.Emission.value_counts()"
   ]
  },
  {
   "cell_type": "code",
   "execution_count": 47,
   "id": "4da89dee",
   "metadata": {},
   "outputs": [],
   "source": [
    "data['Emission']= data.get('Emission').replace('BS III', 1)\n",
    "data['Emission']= data.get('Emission').replace('BS IV', 3)\n",
    "data['Emission']= data.get('Emission').replace('BS V', 2)"
   ]
  },
  {
   "cell_type": "code",
   "execution_count": 48,
   "id": "9d6ceb92",
   "metadata": {
    "scrolled": true
   },
   "outputs": [
    {
     "name": "stdout",
     "output_type": "stream",
     "text": [
      "<class 'pandas.core.frame.DataFrame'>\n",
      "RangeIndex: 976 entries, 0 to 975\n",
      "Data columns (total 20 columns):\n",
      " #   Column                Non-Null Count  Dtype  \n",
      "---  ------                --------------  -----  \n",
      " 0   Car_Name              976 non-null    object \n",
      " 1   Make                  976 non-null    int64  \n",
      " 2   Model                 976 non-null    object \n",
      " 3   Make_Year             976 non-null    int64  \n",
      " 4   Color                 976 non-null    int64  \n",
      " 5   Body_Type             976 non-null    int64  \n",
      " 6   Mileage_Run           976 non-null    float64\n",
      " 7   No_of_Owners          976 non-null    int64  \n",
      " 8   Seating_Capacity      976 non-null    int64  \n",
      " 9   Fuel_Type             976 non-null    int64  \n",
      " 10  Fuel_Tank_Capacity_L  976 non-null    int64  \n",
      " 11  Engine_Type           976 non-null    object \n",
      " 12  CC_Displacement       976 non-null    int64  \n",
      " 13  Transmission          976 non-null    int64  \n",
      " 14  Transmission_Type     976 non-null    int64  \n",
      " 15  Power_BHP             976 non-null    float64\n",
      " 16  Torque_Nm             976 non-null    float64\n",
      " 17  Mileage_kmpl          976 non-null    float64\n",
      " 18  Emission              976 non-null    int64  \n",
      " 19  Price                 976 non-null    float64\n",
      "dtypes: float64(5), int64(12), object(3)\n",
      "memory usage: 152.6+ KB\n"
     ]
    }
   ],
   "source": [
    "data.info()"
   ]
  },
  {
   "cell_type": "code",
   "execution_count": 49,
   "id": "fa99d5c5",
   "metadata": {},
   "outputs": [],
   "source": [
    "data.drop(columns=['Car_Name', 'Model', 'Engine_Type'], axis=1, inplace= True)"
   ]
  },
  {
   "cell_type": "code",
   "execution_count": 50,
   "id": "f20d79da",
   "metadata": {},
   "outputs": [
    {
     "name": "stdout",
     "output_type": "stream",
     "text": [
      "<class 'pandas.core.frame.DataFrame'>\n",
      "RangeIndex: 976 entries, 0 to 975\n",
      "Data columns (total 17 columns):\n",
      " #   Column                Non-Null Count  Dtype  \n",
      "---  ------                --------------  -----  \n",
      " 0   Make                  976 non-null    int64  \n",
      " 1   Make_Year             976 non-null    int64  \n",
      " 2   Color                 976 non-null    int64  \n",
      " 3   Body_Type             976 non-null    int64  \n",
      " 4   Mileage_Run           976 non-null    float64\n",
      " 5   No_of_Owners          976 non-null    int64  \n",
      " 6   Seating_Capacity      976 non-null    int64  \n",
      " 7   Fuel_Type             976 non-null    int64  \n",
      " 8   Fuel_Tank_Capacity_L  976 non-null    int64  \n",
      " 9   CC_Displacement       976 non-null    int64  \n",
      " 10  Transmission          976 non-null    int64  \n",
      " 11  Transmission_Type     976 non-null    int64  \n",
      " 12  Power_BHP             976 non-null    float64\n",
      " 13  Torque_Nm             976 non-null    float64\n",
      " 14  Mileage_kmpl          976 non-null    float64\n",
      " 15  Emission              976 non-null    int64  \n",
      " 16  Price                 976 non-null    float64\n",
      "dtypes: float64(5), int64(12)\n",
      "memory usage: 129.8 KB\n"
     ]
    }
   ],
   "source": [
    "data.info()"
   ]
  },
  {
   "cell_type": "code",
   "execution_count": 51,
   "id": "626a448a",
   "metadata": {},
   "outputs": [
    {
     "data": {
      "text/html": [
       "<div>\n",
       "<style scoped>\n",
       "    .dataframe tbody tr th:only-of-type {\n",
       "        vertical-align: middle;\n",
       "    }\n",
       "\n",
       "    .dataframe tbody tr th {\n",
       "        vertical-align: top;\n",
       "    }\n",
       "\n",
       "    .dataframe thead th {\n",
       "        text-align: right;\n",
       "    }\n",
       "</style>\n",
       "<table border=\"1\" class=\"dataframe\">\n",
       "  <thead>\n",
       "    <tr style=\"text-align: right;\">\n",
       "      <th></th>\n",
       "      <th>Make</th>\n",
       "      <th>Make_Year</th>\n",
       "      <th>Color</th>\n",
       "      <th>Body_Type</th>\n",
       "      <th>Mileage_Run</th>\n",
       "      <th>No_of_Owners</th>\n",
       "      <th>Seating_Capacity</th>\n",
       "      <th>Fuel_Type</th>\n",
       "      <th>Fuel_Tank_Capacity_L</th>\n",
       "      <th>CC_Displacement</th>\n",
       "      <th>Transmission</th>\n",
       "      <th>Transmission_Type</th>\n",
       "      <th>Power_BHP</th>\n",
       "      <th>Torque_Nm</th>\n",
       "      <th>Mileage_kmpl</th>\n",
       "      <th>Emission</th>\n",
       "      <th>Price</th>\n",
       "    </tr>\n",
       "  </thead>\n",
       "  <tbody>\n",
       "    <tr>\n",
       "      <th>0</th>\n",
       "      <td>9</td>\n",
       "      <td>2017</td>\n",
       "      <td>12</td>\n",
       "      <td>4</td>\n",
       "      <td>44611.0</td>\n",
       "      <td>3</td>\n",
       "      <td>5</td>\n",
       "      <td>2</td>\n",
       "      <td>45</td>\n",
       "      <td>1498</td>\n",
       "      <td>2</td>\n",
       "      <td>2</td>\n",
       "      <td>109.00</td>\n",
       "      <td>250.00</td>\n",
       "      <td>21.66</td>\n",
       "      <td>3</td>\n",
       "      <td>657000.0</td>\n",
       "    </tr>\n",
       "    <tr>\n",
       "      <th>1</th>\n",
       "      <td>16</td>\n",
       "      <td>2016</td>\n",
       "      <td>14</td>\n",
       "      <td>1</td>\n",
       "      <td>20305.0</td>\n",
       "      <td>3</td>\n",
       "      <td>5</td>\n",
       "      <td>3</td>\n",
       "      <td>45</td>\n",
       "      <td>1197</td>\n",
       "      <td>5</td>\n",
       "      <td>1</td>\n",
       "      <td>82.00</td>\n",
       "      <td>115.00</td>\n",
       "      <td>17.19</td>\n",
       "      <td>2</td>\n",
       "      <td>682000.0</td>\n",
       "    </tr>\n",
       "    <tr>\n",
       "      <th>2</th>\n",
       "      <td>14</td>\n",
       "      <td>2019</td>\n",
       "      <td>15</td>\n",
       "      <td>3</td>\n",
       "      <td>29540.0</td>\n",
       "      <td>2</td>\n",
       "      <td>5</td>\n",
       "      <td>3</td>\n",
       "      <td>40</td>\n",
       "      <td>1199</td>\n",
       "      <td>5</td>\n",
       "      <td>1</td>\n",
       "      <td>88.50</td>\n",
       "      <td>110.00</td>\n",
       "      <td>16.50</td>\n",
       "      <td>3</td>\n",
       "      <td>793000.0</td>\n",
       "    </tr>\n",
       "    <tr>\n",
       "      <th>3</th>\n",
       "      <td>13</td>\n",
       "      <td>2017</td>\n",
       "      <td>7</td>\n",
       "      <td>5</td>\n",
       "      <td>35680.0</td>\n",
       "      <td>3</td>\n",
       "      <td>5</td>\n",
       "      <td>3</td>\n",
       "      <td>28</td>\n",
       "      <td>999</td>\n",
       "      <td>5</td>\n",
       "      <td>1</td>\n",
       "      <td>67.00</td>\n",
       "      <td>91.00</td>\n",
       "      <td>21.70</td>\n",
       "      <td>3</td>\n",
       "      <td>414000.0</td>\n",
       "    </tr>\n",
       "    <tr>\n",
       "      <th>4</th>\n",
       "      <td>16</td>\n",
       "      <td>2017</td>\n",
       "      <td>8</td>\n",
       "      <td>5</td>\n",
       "      <td>25126.0</td>\n",
       "      <td>3</td>\n",
       "      <td>5</td>\n",
       "      <td>3</td>\n",
       "      <td>43</td>\n",
       "      <td>1197</td>\n",
       "      <td>5</td>\n",
       "      <td>1</td>\n",
       "      <td>81.86</td>\n",
       "      <td>113.75</td>\n",
       "      <td>18.90</td>\n",
       "      <td>2</td>\n",
       "      <td>515000.0</td>\n",
       "    </tr>\n",
       "  </tbody>\n",
       "</table>\n",
       "</div>"
      ],
      "text/plain": [
       "   Make  Make_Year  Color  Body_Type  Mileage_Run  No_of_Owners  \\\n",
       "0     9       2017     12          4      44611.0             3   \n",
       "1    16       2016     14          1      20305.0             3   \n",
       "2    14       2019     15          3      29540.0             2   \n",
       "3    13       2017      7          5      35680.0             3   \n",
       "4    16       2017      8          5      25126.0             3   \n",
       "\n",
       "   Seating_Capacity  Fuel_Type  Fuel_Tank_Capacity_L  CC_Displacement  \\\n",
       "0                 5          2                    45             1498   \n",
       "1                 5          3                    45             1197   \n",
       "2                 5          3                    40             1199   \n",
       "3                 5          3                    28              999   \n",
       "4                 5          3                    43             1197   \n",
       "\n",
       "   Transmission  Transmission_Type  Power_BHP  Torque_Nm  Mileage_kmpl  \\\n",
       "0             2                  2     109.00     250.00         21.66   \n",
       "1             5                  1      82.00     115.00         17.19   \n",
       "2             5                  1      88.50     110.00         16.50   \n",
       "3             5                  1      67.00      91.00         21.70   \n",
       "4             5                  1      81.86     113.75         18.90   \n",
       "\n",
       "   Emission     Price  \n",
       "0         3  657000.0  \n",
       "1         2  682000.0  \n",
       "2         3  793000.0  \n",
       "3         3  414000.0  \n",
       "4         2  515000.0  "
      ]
     },
     "execution_count": 51,
     "metadata": {},
     "output_type": "execute_result"
    }
   ],
   "source": [
    "data.head()"
   ]
  },
  {
   "cell_type": "code",
   "execution_count": 53,
   "id": "0b763dd6",
   "metadata": {},
   "outputs": [],
   "source": [
    "X= data.drop('Price', axis = 1)"
   ]
  },
  {
   "cell_type": "code",
   "execution_count": 54,
   "id": "575953cc",
   "metadata": {},
   "outputs": [],
   "source": [
    "y= data['Price']"
   ]
  },
  {
   "cell_type": "code",
   "execution_count": 55,
   "id": "03f29482",
   "metadata": {},
   "outputs": [],
   "source": [
    "from sklearn.model_selection import train_test_split\n",
    "X_train, X_test,y_train,y_test= train_test_split(X,y,test_size = 0.20, random_state = 45)"
   ]
  },
  {
   "cell_type": "markdown",
   "id": "ed431258",
   "metadata": {},
   "source": [
    "# Decision Tree"
   ]
  },
  {
   "cell_type": "code",
   "execution_count": 56,
   "id": "5938c9cb",
   "metadata": {},
   "outputs": [],
   "source": [
    "from sklearn.tree import DecisionTreeRegressor"
   ]
  },
  {
   "cell_type": "code",
   "execution_count": 57,
   "id": "83d60eba",
   "metadata": {},
   "outputs": [],
   "source": [
    "dt = DecisionTreeRegressor(random_state = 83)"
   ]
  },
  {
   "cell_type": "code",
   "execution_count": 58,
   "id": "da10366a",
   "metadata": {},
   "outputs": [],
   "source": [
    "model_params = {'max_depth': [2,3,4,5,6,7,8,9,None],\n",
    "               'min_samples_split' : [i for i in range (1,11)]}"
   ]
  },
  {
   "cell_type": "code",
   "execution_count": 59,
   "id": "e0c1a6a4",
   "metadata": {},
   "outputs": [
    {
     "data": {
      "text/plain": [
       "{'max_depth': 9, 'min_samples_split': 2}"
      ]
     },
     "execution_count": 59,
     "metadata": {},
     "output_type": "execute_result"
    }
   ],
   "source": [
    "search = GridSearchCV(dt,model_params,cv = 10)\n",
    "search.fit(X_train,y_train)\n",
    "search.best_params_"
   ]
  },
  {
   "cell_type": "code",
   "execution_count": 61,
   "id": "a6c2fd21",
   "metadata": {},
   "outputs": [],
   "source": [
    "dt = DecisionTreeRegressor(max_depth = 9, min_samples_split = 2)"
   ]
  },
  {
   "cell_type": "code",
   "execution_count": 62,
   "id": "08cd01d3",
   "metadata": {},
   "outputs": [],
   "source": [
    "model = dt.fit(X_train,y_train)"
   ]
  },
  {
   "cell_type": "code",
   "execution_count": 63,
   "id": "a9b862b0",
   "metadata": {},
   "outputs": [],
   "source": [
    "y_pred = model.predict(X_test)"
   ]
  },
  {
   "cell_type": "markdown",
   "id": "42c3cab3",
   "metadata": {},
   "source": [
    "##### evaluation"
   ]
  },
  {
   "cell_type": "code",
   "execution_count": 64,
   "id": "fe124cdb",
   "metadata": {},
   "outputs": [],
   "source": [
    "from sklearn.metrics import mean_squared_error,r2_score"
   ]
  },
  {
   "cell_type": "code",
   "execution_count": 65,
   "id": "f64699f3",
   "metadata": {},
   "outputs": [
    {
     "data": {
      "text/plain": [
       "0.9060463735230684"
      ]
     },
     "execution_count": 65,
     "metadata": {},
     "output_type": "execute_result"
    }
   ],
   "source": [
    "r2_score(y_test,y_pred)"
   ]
  },
  {
   "cell_type": "code",
   "execution_count": 66,
   "id": "ddf2ff60",
   "metadata": {},
   "outputs": [
    {
     "data": {
      "text/plain": [
       "131198.6037116655"
      ]
     },
     "execution_count": 66,
     "metadata": {},
     "output_type": "execute_result"
    }
   ],
   "source": [
    "np.sqrt(mean_squared_error(y_test,y_pred))"
   ]
  },
  {
   "cell_type": "markdown",
   "id": "2f46f701",
   "metadata": {},
   "source": [
    "# RANDOM FOREST"
   ]
  },
  {
   "cell_type": "code",
   "execution_count": 67,
   "id": "fc520515",
   "metadata": {},
   "outputs": [],
   "source": [
    "from sklearn.ensemble import RandomForestRegressor"
   ]
  },
  {
   "cell_type": "code",
   "execution_count": 68,
   "id": "3ce2951c",
   "metadata": {},
   "outputs": [],
   "source": [
    "rf = RandomForestRegressor(random_state = 83)"
   ]
  },
  {
   "cell_type": "code",
   "execution_count": 69,
   "id": "aca8df4c",
   "metadata": {},
   "outputs": [],
   "source": [
    "params = {'n_estimators':[20,40,60,80,100],\n",
    "          'max_features':['sqrt',0.25,0.50,0.75,1],\n",
    "          'max_depth': [2,3,4,5,6,7,8,9,None]}"
   ]
  },
  {
   "cell_type": "code",
   "execution_count": 71,
   "id": "2069d53c",
   "metadata": {},
   "outputs": [
    {
     "data": {
      "text/plain": [
       "{'max_depth': None, 'max_features': 0.5, 'n_estimators': 100}"
      ]
     },
     "execution_count": 71,
     "metadata": {},
     "output_type": "execute_result"
    }
   ],
   "source": [
    "search = GridSearchCV(rf,params,cv = 10)\n",
    "search.fit(X_train,y_train)\n",
    "search.best_params_"
   ]
  },
  {
   "cell_type": "code",
   "execution_count": 72,
   "id": "634208db",
   "metadata": {},
   "outputs": [],
   "source": [
    "rf = RandomForestRegressor(n_estimators = 100, max_features =  0.5, max_depth = None)"
   ]
  },
  {
   "cell_type": "code",
   "execution_count": 73,
   "id": "87159f79",
   "metadata": {},
   "outputs": [],
   "source": [
    "model = rf.fit(X_train,y_train)"
   ]
  },
  {
   "cell_type": "code",
   "execution_count": 74,
   "id": "3945606a",
   "metadata": {},
   "outputs": [],
   "source": [
    "y_pred = model.predict(X_test)"
   ]
  },
  {
   "cell_type": "markdown",
   "id": "39bbb4a0",
   "metadata": {},
   "source": [
    "##### evaluation"
   ]
  },
  {
   "cell_type": "code",
   "execution_count": 75,
   "id": "6c913b68",
   "metadata": {},
   "outputs": [],
   "source": [
    "from sklearn.metrics import mean_squared_error,r2_score"
   ]
  },
  {
   "cell_type": "code",
   "execution_count": 76,
   "id": "089bb053",
   "metadata": {},
   "outputs": [
    {
     "data": {
      "text/plain": [
       "0.9171101187794339"
      ]
     },
     "execution_count": 76,
     "metadata": {},
     "output_type": "execute_result"
    }
   ],
   "source": [
    "r2_score(y_test,y_pred)"
   ]
  },
  {
   "cell_type": "code",
   "execution_count": 77,
   "id": "d0753f1a",
   "metadata": {},
   "outputs": [
    {
     "data": {
      "text/plain": [
       "123231.91510526079"
      ]
     },
     "execution_count": 77,
     "metadata": {},
     "output_type": "execute_result"
    }
   ],
   "source": [
    "np.sqrt(mean_squared_error(y_test,y_pred))"
   ]
  },
  {
   "cell_type": "markdown",
   "id": "d2824c4a",
   "metadata": {},
   "source": [
    "# ADABOOST"
   ]
  },
  {
   "cell_type": "code",
   "execution_count": 78,
   "id": "1eb4f583",
   "metadata": {},
   "outputs": [],
   "source": [
    "from sklearn.ensemble import AdaBoostRegressor"
   ]
  },
  {
   "cell_type": "code",
   "execution_count": 79,
   "id": "9c35bb0e",
   "metadata": {},
   "outputs": [],
   "source": [
    "ada = AdaBoostRegressor(random_state = 86)"
   ]
  },
  {
   "cell_type": "code",
   "execution_count": 80,
   "id": "cb4b882a",
   "metadata": {},
   "outputs": [],
   "source": [
    "params = {'n_estimators' : [i for i in range(0,500,50)],\n",
    "         'learning_rate':[1.0,0.2,0.1,0.01,0.05,0.001]}"
   ]
  },
  {
   "cell_type": "code",
   "execution_count": 82,
   "id": "eb78cc36",
   "metadata": {},
   "outputs": [
    {
     "data": {
      "text/plain": [
       "{'learning_rate': 1.0, 'n_estimators': 150}"
      ]
     },
     "execution_count": 82,
     "metadata": {},
     "output_type": "execute_result"
    }
   ],
   "source": [
    "search = GridSearchCV(ada,params,n_jobs = -1,cv = 10)\n",
    "search.fit(X_train,y_train)\n",
    "search.best_params_"
   ]
  },
  {
   "cell_type": "code",
   "execution_count": 83,
   "id": "616d6ca2",
   "metadata": {},
   "outputs": [],
   "source": [
    "ada = AdaBoostRegressor(n_estimators = 150,learning_rate = 1,random_state = 83)"
   ]
  },
  {
   "cell_type": "code",
   "execution_count": 84,
   "id": "de80da75",
   "metadata": {},
   "outputs": [],
   "source": [
    "model = ada.fit(X_train,y_train)"
   ]
  },
  {
   "cell_type": "code",
   "execution_count": 85,
   "id": "72735021",
   "metadata": {},
   "outputs": [],
   "source": [
    "y_pred = model.predict(X_test)"
   ]
  },
  {
   "cell_type": "markdown",
   "id": "af755fa4",
   "metadata": {},
   "source": [
    "##### evaluation"
   ]
  },
  {
   "cell_type": "code",
   "execution_count": 86,
   "id": "a1aef0fe",
   "metadata": {},
   "outputs": [],
   "source": [
    "from sklearn.metrics import mean_squared_error,r2_score"
   ]
  },
  {
   "cell_type": "code",
   "execution_count": 87,
   "id": "883a224a",
   "metadata": {},
   "outputs": [
    {
     "data": {
      "text/plain": [
       "0.8859174769671644"
      ]
     },
     "execution_count": 87,
     "metadata": {},
     "output_type": "execute_result"
    }
   ],
   "source": [
    "r2_score(y_test,y_pred)"
   ]
  },
  {
   "cell_type": "code",
   "execution_count": 88,
   "id": "a12b44bc",
   "metadata": {},
   "outputs": [
    {
     "data": {
      "text/plain": [
       "144571.27055633432"
      ]
     },
     "execution_count": 88,
     "metadata": {},
     "output_type": "execute_result"
    }
   ],
   "source": [
    "np.sqrt(mean_squared_error(y_test,y_pred))"
   ]
  },
  {
   "cell_type": "markdown",
   "id": "a03fac50",
   "metadata": {},
   "source": [
    "# GRADBOOST"
   ]
  },
  {
   "cell_type": "code",
   "execution_count": 89,
   "id": "0ba73359",
   "metadata": {},
   "outputs": [],
   "source": [
    "from sklearn.ensemble import GradientBoostingRegressor"
   ]
  },
  {
   "cell_type": "code",
   "execution_count": 90,
   "id": "fa319c85",
   "metadata": {},
   "outputs": [],
   "source": [
    "gbc = GradientBoostingRegressor(random_state = 83)"
   ]
  },
  {
   "cell_type": "code",
   "execution_count": 91,
   "id": "7e231081",
   "metadata": {},
   "outputs": [],
   "source": [
    "params = {'n_estimators' : [i for i in range(0,400,50)],\n",
    "         'learning_rate':[1.0,0.2,0.1,0.01,0.05,0.001]}"
   ]
  },
  {
   "cell_type": "code",
   "execution_count": 94,
   "id": "06a2d24b",
   "metadata": {},
   "outputs": [
    {
     "data": {
      "text/plain": [
       "{'learning_rate': 0.1, 'n_estimators': 350}"
      ]
     },
     "execution_count": 94,
     "metadata": {},
     "output_type": "execute_result"
    }
   ],
   "source": [
    "search = GridSearchCV(gbc,params,n_jobs = -1,cv = 10)\n",
    "search.fit(X_train,y_train)\n",
    "search.best_params_"
   ]
  },
  {
   "cell_type": "code",
   "execution_count": 99,
   "id": "7859ca91",
   "metadata": {},
   "outputs": [],
   "source": [
    "gbc = GradientBoostingRegressor(n_estimators = 350, learning_rate = 0.1,random_state = 83)"
   ]
  },
  {
   "cell_type": "code",
   "execution_count": 100,
   "id": "00d8d62b",
   "metadata": {},
   "outputs": [],
   "source": [
    "model = gbc.fit(X_train,y_train)"
   ]
  },
  {
   "cell_type": "code",
   "execution_count": 101,
   "id": "2d6f9dba",
   "metadata": {},
   "outputs": [],
   "source": [
    "y_pred = model.predict(X_test)"
   ]
  },
  {
   "cell_type": "markdown",
   "id": "30461382",
   "metadata": {},
   "source": [
    "##### evaluation"
   ]
  },
  {
   "cell_type": "code",
   "execution_count": 102,
   "id": "dd05b176",
   "metadata": {},
   "outputs": [],
   "source": [
    "from sklearn.metrics import mean_squared_error,r2_score"
   ]
  },
  {
   "cell_type": "code",
   "execution_count": 103,
   "id": "e5b3d6e1",
   "metadata": {},
   "outputs": [
    {
     "data": {
      "text/plain": [
       "0.934757138295506"
      ]
     },
     "execution_count": 103,
     "metadata": {},
     "output_type": "execute_result"
    }
   ],
   "source": [
    "r2_score(y_test,y_pred)"
   ]
  },
  {
   "cell_type": "code",
   "execution_count": 104,
   "id": "2bfc8927",
   "metadata": {
    "scrolled": true
   },
   "outputs": [
    {
     "data": {
      "text/plain": [
       "109329.89728429046"
      ]
     },
     "execution_count": 104,
     "metadata": {},
     "output_type": "execute_result"
    }
   ],
   "source": [
    "np.sqrt(mean_squared_error(y_test,y_pred))"
   ]
  }
 ],
 "metadata": {
  "kernelspec": {
   "display_name": "Python 3 (ipykernel)",
   "language": "python",
   "name": "python3"
  },
  "language_info": {
   "codemirror_mode": {
    "name": "ipython",
    "version": 3
   },
   "file_extension": ".py",
   "mimetype": "text/x-python",
   "name": "python",
   "nbconvert_exporter": "python",
   "pygments_lexer": "ipython3",
   "version": "3.9.12"
  }
 },
 "nbformat": 4,
 "nbformat_minor": 5
}
