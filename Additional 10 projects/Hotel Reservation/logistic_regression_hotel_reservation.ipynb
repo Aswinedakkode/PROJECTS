{
 "cells": [
  {
   "cell_type": "code",
   "execution_count": 40,
   "id": "5d701cfb",
   "metadata": {},
   "outputs": [],
   "source": [
    "import numpy as np\n",
    "import pandas as pd\n",
    "import matplotlib.pyplot as plt\n",
    "%matplotlib inline\n",
    "import seaborn as sns\n",
    "\n",
    "import scipy\n",
    "import statsmodels\n",
    "from scipy import stats\n",
    "import statsmodels.api as sm\n",
    "import statsmodels.formula.api as smf\n",
    "from statsmodels.formula.api import ols\n",
    "from scipy.stats import chi2_contingency\n",
    "from statsmodels.stats.multicomp import pairwise_tukeyhsd\n",
    "\n",
    "from pandas.api.types import is_string_dtype\n",
    "from pandas.api.types import is_numeric_dtype\n",
    "\n",
    "from statsmodels.stats.outliers_influence import variance_inflation_factor\n",
    "from sklearn.preprocessing import StandardScaler,LabelEncoder\n",
    "from sklearn.utils import resample\n",
    "from sklearn.model_selection import train_test_split\n",
    "\n",
    "from sklearn.linear_model import LogisticRegression\n",
    "\n",
    "from sklearn.metrics import confusion_matrix , classification_report ,roc_curve,auc,roc_auc_score ,mean_squared_error\n",
    "\n",
    "import warnings\n",
    "warnings.filterwarnings(\"ignore\")\n",
    "np.set_printoptions(suppress=True)"
   ]
  },
  {
   "cell_type": "code",
   "execution_count": 2,
   "id": "3d5ed2c9",
   "metadata": {},
   "outputs": [],
   "source": [
    "data= pd.read_csv(\"Hotel Reservations.csv\")"
   ]
  },
  {
   "cell_type": "code",
   "execution_count": 3,
   "id": "d50baf6d",
   "metadata": {},
   "outputs": [
    {
     "data": {
      "text/plain": [
       "(36275, 19)"
      ]
     },
     "execution_count": 3,
     "metadata": {},
     "output_type": "execute_result"
    }
   ],
   "source": [
    "data.shape"
   ]
  },
  {
   "cell_type": "code",
   "execution_count": 4,
   "id": "00b3afb1",
   "metadata": {},
   "outputs": [
    {
     "name": "stdout",
     "output_type": "stream",
     "text": [
      "<class 'pandas.core.frame.DataFrame'>\n",
      "RangeIndex: 36275 entries, 0 to 36274\n",
      "Data columns (total 19 columns):\n",
      " #   Column                                Non-Null Count  Dtype  \n",
      "---  ------                                --------------  -----  \n",
      " 0   Booking_ID                            36275 non-null  object \n",
      " 1   no_of_adults                          36275 non-null  int64  \n",
      " 2   no_of_children                        36275 non-null  int64  \n",
      " 3   no_of_weekend_nights                  36275 non-null  int64  \n",
      " 4   no_of_week_nights                     36275 non-null  int64  \n",
      " 5   type_of_meal_plan                     36275 non-null  object \n",
      " 6   required_car_parking_space            36275 non-null  int64  \n",
      " 7   room_type_reserved                    36275 non-null  object \n",
      " 8   lead_time                             36275 non-null  int64  \n",
      " 9   arrival_year                          36275 non-null  int64  \n",
      " 10  arrival_month                         36275 non-null  int64  \n",
      " 11  arrival_date                          36275 non-null  int64  \n",
      " 12  market_segment_type                   36275 non-null  object \n",
      " 13  repeated_guest                        36275 non-null  int64  \n",
      " 14  no_of_previous_cancellations          36275 non-null  int64  \n",
      " 15  no_of_previous_bookings_not_canceled  36275 non-null  int64  \n",
      " 16  avg_price_per_room                    36275 non-null  float64\n",
      " 17  no_of_special_requests                36275 non-null  int64  \n",
      " 18  booking_status                        36275 non-null  object \n",
      "dtypes: float64(1), int64(13), object(5)\n",
      "memory usage: 5.3+ MB\n"
     ]
    }
   ],
   "source": [
    "data.info()"
   ]
  },
  {
   "cell_type": "code",
   "execution_count": 5,
   "id": "4a1462a8",
   "metadata": {},
   "outputs": [
    {
     "data": {
      "text/html": [
       "<div>\n",
       "<style scoped>\n",
       "    .dataframe tbody tr th:only-of-type {\n",
       "        vertical-align: middle;\n",
       "    }\n",
       "\n",
       "    .dataframe tbody tr th {\n",
       "        vertical-align: top;\n",
       "    }\n",
       "\n",
       "    .dataframe thead th {\n",
       "        text-align: right;\n",
       "    }\n",
       "</style>\n",
       "<table border=\"1\" class=\"dataframe\">\n",
       "  <thead>\n",
       "    <tr style=\"text-align: right;\">\n",
       "      <th></th>\n",
       "      <th>no_of_adults</th>\n",
       "      <th>no_of_children</th>\n",
       "      <th>no_of_weekend_nights</th>\n",
       "      <th>no_of_week_nights</th>\n",
       "      <th>required_car_parking_space</th>\n",
       "      <th>lead_time</th>\n",
       "      <th>arrival_year</th>\n",
       "      <th>arrival_month</th>\n",
       "      <th>arrival_date</th>\n",
       "      <th>repeated_guest</th>\n",
       "      <th>no_of_previous_cancellations</th>\n",
       "      <th>no_of_previous_bookings_not_canceled</th>\n",
       "      <th>avg_price_per_room</th>\n",
       "      <th>no_of_special_requests</th>\n",
       "    </tr>\n",
       "  </thead>\n",
       "  <tbody>\n",
       "    <tr>\n",
       "      <th>count</th>\n",
       "      <td>36275.000000</td>\n",
       "      <td>36275.000000</td>\n",
       "      <td>36275.000000</td>\n",
       "      <td>36275.000000</td>\n",
       "      <td>36275.000000</td>\n",
       "      <td>36275.000000</td>\n",
       "      <td>36275.000000</td>\n",
       "      <td>36275.000000</td>\n",
       "      <td>36275.000000</td>\n",
       "      <td>36275.000000</td>\n",
       "      <td>36275.000000</td>\n",
       "      <td>36275.000000</td>\n",
       "      <td>36275.000000</td>\n",
       "      <td>36275.000000</td>\n",
       "    </tr>\n",
       "    <tr>\n",
       "      <th>mean</th>\n",
       "      <td>1.844962</td>\n",
       "      <td>0.105279</td>\n",
       "      <td>0.810724</td>\n",
       "      <td>2.204300</td>\n",
       "      <td>0.030986</td>\n",
       "      <td>85.232557</td>\n",
       "      <td>2017.820427</td>\n",
       "      <td>7.423653</td>\n",
       "      <td>15.596995</td>\n",
       "      <td>0.025637</td>\n",
       "      <td>0.023349</td>\n",
       "      <td>0.153411</td>\n",
       "      <td>103.423539</td>\n",
       "      <td>0.619655</td>\n",
       "    </tr>\n",
       "    <tr>\n",
       "      <th>std</th>\n",
       "      <td>0.518715</td>\n",
       "      <td>0.402648</td>\n",
       "      <td>0.870644</td>\n",
       "      <td>1.410905</td>\n",
       "      <td>0.173281</td>\n",
       "      <td>85.930817</td>\n",
       "      <td>0.383836</td>\n",
       "      <td>3.069894</td>\n",
       "      <td>8.740447</td>\n",
       "      <td>0.158053</td>\n",
       "      <td>0.368331</td>\n",
       "      <td>1.754171</td>\n",
       "      <td>35.089424</td>\n",
       "      <td>0.786236</td>\n",
       "    </tr>\n",
       "    <tr>\n",
       "      <th>min</th>\n",
       "      <td>0.000000</td>\n",
       "      <td>0.000000</td>\n",
       "      <td>0.000000</td>\n",
       "      <td>0.000000</td>\n",
       "      <td>0.000000</td>\n",
       "      <td>0.000000</td>\n",
       "      <td>2017.000000</td>\n",
       "      <td>1.000000</td>\n",
       "      <td>1.000000</td>\n",
       "      <td>0.000000</td>\n",
       "      <td>0.000000</td>\n",
       "      <td>0.000000</td>\n",
       "      <td>0.000000</td>\n",
       "      <td>0.000000</td>\n",
       "    </tr>\n",
       "    <tr>\n",
       "      <th>25%</th>\n",
       "      <td>2.000000</td>\n",
       "      <td>0.000000</td>\n",
       "      <td>0.000000</td>\n",
       "      <td>1.000000</td>\n",
       "      <td>0.000000</td>\n",
       "      <td>17.000000</td>\n",
       "      <td>2018.000000</td>\n",
       "      <td>5.000000</td>\n",
       "      <td>8.000000</td>\n",
       "      <td>0.000000</td>\n",
       "      <td>0.000000</td>\n",
       "      <td>0.000000</td>\n",
       "      <td>80.300000</td>\n",
       "      <td>0.000000</td>\n",
       "    </tr>\n",
       "    <tr>\n",
       "      <th>50%</th>\n",
       "      <td>2.000000</td>\n",
       "      <td>0.000000</td>\n",
       "      <td>1.000000</td>\n",
       "      <td>2.000000</td>\n",
       "      <td>0.000000</td>\n",
       "      <td>57.000000</td>\n",
       "      <td>2018.000000</td>\n",
       "      <td>8.000000</td>\n",
       "      <td>16.000000</td>\n",
       "      <td>0.000000</td>\n",
       "      <td>0.000000</td>\n",
       "      <td>0.000000</td>\n",
       "      <td>99.450000</td>\n",
       "      <td>0.000000</td>\n",
       "    </tr>\n",
       "    <tr>\n",
       "      <th>75%</th>\n",
       "      <td>2.000000</td>\n",
       "      <td>0.000000</td>\n",
       "      <td>2.000000</td>\n",
       "      <td>3.000000</td>\n",
       "      <td>0.000000</td>\n",
       "      <td>126.000000</td>\n",
       "      <td>2018.000000</td>\n",
       "      <td>10.000000</td>\n",
       "      <td>23.000000</td>\n",
       "      <td>0.000000</td>\n",
       "      <td>0.000000</td>\n",
       "      <td>0.000000</td>\n",
       "      <td>120.000000</td>\n",
       "      <td>1.000000</td>\n",
       "    </tr>\n",
       "    <tr>\n",
       "      <th>max</th>\n",
       "      <td>4.000000</td>\n",
       "      <td>10.000000</td>\n",
       "      <td>7.000000</td>\n",
       "      <td>17.000000</td>\n",
       "      <td>1.000000</td>\n",
       "      <td>443.000000</td>\n",
       "      <td>2018.000000</td>\n",
       "      <td>12.000000</td>\n",
       "      <td>31.000000</td>\n",
       "      <td>1.000000</td>\n",
       "      <td>13.000000</td>\n",
       "      <td>58.000000</td>\n",
       "      <td>540.000000</td>\n",
       "      <td>5.000000</td>\n",
       "    </tr>\n",
       "  </tbody>\n",
       "</table>\n",
       "</div>"
      ],
      "text/plain": [
       "       no_of_adults  no_of_children  no_of_weekend_nights  no_of_week_nights  \\\n",
       "count  36275.000000    36275.000000          36275.000000       36275.000000   \n",
       "mean       1.844962        0.105279              0.810724           2.204300   \n",
       "std        0.518715        0.402648              0.870644           1.410905   \n",
       "min        0.000000        0.000000              0.000000           0.000000   \n",
       "25%        2.000000        0.000000              0.000000           1.000000   \n",
       "50%        2.000000        0.000000              1.000000           2.000000   \n",
       "75%        2.000000        0.000000              2.000000           3.000000   \n",
       "max        4.000000       10.000000              7.000000          17.000000   \n",
       "\n",
       "       required_car_parking_space     lead_time  arrival_year  arrival_month  \\\n",
       "count                36275.000000  36275.000000  36275.000000   36275.000000   \n",
       "mean                     0.030986     85.232557   2017.820427       7.423653   \n",
       "std                      0.173281     85.930817      0.383836       3.069894   \n",
       "min                      0.000000      0.000000   2017.000000       1.000000   \n",
       "25%                      0.000000     17.000000   2018.000000       5.000000   \n",
       "50%                      0.000000     57.000000   2018.000000       8.000000   \n",
       "75%                      0.000000    126.000000   2018.000000      10.000000   \n",
       "max                      1.000000    443.000000   2018.000000      12.000000   \n",
       "\n",
       "       arrival_date  repeated_guest  no_of_previous_cancellations  \\\n",
       "count  36275.000000    36275.000000                  36275.000000   \n",
       "mean      15.596995        0.025637                      0.023349   \n",
       "std        8.740447        0.158053                      0.368331   \n",
       "min        1.000000        0.000000                      0.000000   \n",
       "25%        8.000000        0.000000                      0.000000   \n",
       "50%       16.000000        0.000000                      0.000000   \n",
       "75%       23.000000        0.000000                      0.000000   \n",
       "max       31.000000        1.000000                     13.000000   \n",
       "\n",
       "       no_of_previous_bookings_not_canceled  avg_price_per_room  \\\n",
       "count                          36275.000000        36275.000000   \n",
       "mean                               0.153411          103.423539   \n",
       "std                                1.754171           35.089424   \n",
       "min                                0.000000            0.000000   \n",
       "25%                                0.000000           80.300000   \n",
       "50%                                0.000000           99.450000   \n",
       "75%                                0.000000          120.000000   \n",
       "max                               58.000000          540.000000   \n",
       "\n",
       "       no_of_special_requests  \n",
       "count            36275.000000  \n",
       "mean                 0.619655  \n",
       "std                  0.786236  \n",
       "min                  0.000000  \n",
       "25%                  0.000000  \n",
       "50%                  0.000000  \n",
       "75%                  1.000000  \n",
       "max                  5.000000  "
      ]
     },
     "execution_count": 5,
     "metadata": {},
     "output_type": "execute_result"
    }
   ],
   "source": [
    "data.describe()"
   ]
  },
  {
   "cell_type": "code",
   "execution_count": 6,
   "id": "e2a66205",
   "metadata": {},
   "outputs": [
    {
     "data": {
      "text/plain": [
       "Booking_ID                              0\n",
       "no_of_adults                            0\n",
       "no_of_children                          0\n",
       "no_of_weekend_nights                    0\n",
       "no_of_week_nights                       0\n",
       "type_of_meal_plan                       0\n",
       "required_car_parking_space              0\n",
       "room_type_reserved                      0\n",
       "lead_time                               0\n",
       "arrival_year                            0\n",
       "arrival_month                           0\n",
       "arrival_date                            0\n",
       "market_segment_type                     0\n",
       "repeated_guest                          0\n",
       "no_of_previous_cancellations            0\n",
       "no_of_previous_bookings_not_canceled    0\n",
       "avg_price_per_room                      0\n",
       "no_of_special_requests                  0\n",
       "booking_status                          0\n",
       "dtype: int64"
      ]
     },
     "execution_count": 6,
     "metadata": {},
     "output_type": "execute_result"
    }
   ],
   "source": [
    "data.isnull().sum()"
   ]
  },
  {
   "cell_type": "code",
   "execution_count": 7,
   "id": "e167776b",
   "metadata": {},
   "outputs": [],
   "source": [
    "data.drop(['Booking_ID'],axis=1,inplace=True)"
   ]
  },
  {
   "cell_type": "code",
   "execution_count": 8,
   "id": "dfcedc48",
   "metadata": {},
   "outputs": [],
   "source": [
    "le=LabelEncoder()\n",
    "data[\"type_of_meal_plan\"]=le.fit_transform(data[\"type_of_meal_plan\"])\n",
    "data[\"room_type_reserved\"]=le.fit_transform(data[\"room_type_reserved\"])\n",
    "data[\"market_segment_type\"]=le.fit_transform(data[\"market_segment_type\"])\n",
    "data[\"booking_status\"]=le.fit_transform(data[\"booking_status\"])"
   ]
  },
  {
   "cell_type": "code",
   "execution_count": 9,
   "id": "785a2bcf",
   "metadata": {},
   "outputs": [],
   "source": [
    "data['no_of_adults']=data['no_of_adults'].astype(\"O\")\n",
    "data['no_of_children']=data['no_of_children'].astype(\"O\")\n",
    "data['no_of_weekend_nights']=data['no_of_weekend_nights'].astype(\"O\")                                                               \n",
    "data['required_car_parking_space']=data['required_car_parking_space'].astype(\"O\")\n",
    "data['arrival_year']=data['arrival_year'].astype(\"O\")\n",
    "data['repeated_guest']=data['repeated_guest'].astype(\"O\")\n",
    "data['no_of_previous_cancellations']=data['no_of_previous_cancellations'].astype(\"O\")\n",
    "data['no_of_previous_bookings_not_canceled']=data['no_of_previous_bookings_not_canceled'].astype(\"O\")\n",
    "data['no_of_special_requests']=data['no_of_special_requests'].astype(\"O\")\n",
    "data['no_of_week_nights']=data['no_of_week_nights'].astype(\"O\")\n",
    "data[\"type_of_meal_plan\"]=data[\"type_of_meal_plan\"].astype(\"O\")\n",
    "data[\"room_type_reserved\"]=data[\"room_type_reserved\"].astype(\"O\")\n",
    "data[\"market_segment_type\"]=data[\"market_segment_type\"].astype(\"O\")\n",
    "data[\"booking_status\"]=data[\"booking_status\"].astype(\"O\")"
   ]
  },
  {
   "cell_type": "code",
   "execution_count": 10,
   "id": "7a31fa82",
   "metadata": {},
   "outputs": [
    {
     "name": "stdout",
     "output_type": "stream",
     "text": [
      "<class 'pandas.core.frame.DataFrame'>\n",
      "RangeIndex: 36275 entries, 0 to 36274\n",
      "Data columns (total 18 columns):\n",
      " #   Column                                Non-Null Count  Dtype  \n",
      "---  ------                                --------------  -----  \n",
      " 0   no_of_adults                          36275 non-null  object \n",
      " 1   no_of_children                        36275 non-null  object \n",
      " 2   no_of_weekend_nights                  36275 non-null  object \n",
      " 3   no_of_week_nights                     36275 non-null  object \n",
      " 4   type_of_meal_plan                     36275 non-null  object \n",
      " 5   required_car_parking_space            36275 non-null  object \n",
      " 6   room_type_reserved                    36275 non-null  object \n",
      " 7   lead_time                             36275 non-null  int64  \n",
      " 8   arrival_year                          36275 non-null  object \n",
      " 9   arrival_month                         36275 non-null  int64  \n",
      " 10  arrival_date                          36275 non-null  int64  \n",
      " 11  market_segment_type                   36275 non-null  object \n",
      " 12  repeated_guest                        36275 non-null  object \n",
      " 13  no_of_previous_cancellations          36275 non-null  object \n",
      " 14  no_of_previous_bookings_not_canceled  36275 non-null  object \n",
      " 15  avg_price_per_room                    36275 non-null  float64\n",
      " 16  no_of_special_requests                36275 non-null  object \n",
      " 17  booking_status                        36275 non-null  object \n",
      "dtypes: float64(1), int64(3), object(14)\n",
      "memory usage: 5.0+ MB\n"
     ]
    }
   ],
   "source": [
    "data.info()"
   ]
  },
  {
   "cell_type": "code",
   "execution_count": 11,
   "id": "c8fe3071",
   "metadata": {},
   "outputs": [
    {
     "data": {
      "text/html": [
       "<div>\n",
       "<style scoped>\n",
       "    .dataframe tbody tr th:only-of-type {\n",
       "        vertical-align: middle;\n",
       "    }\n",
       "\n",
       "    .dataframe tbody tr th {\n",
       "        vertical-align: top;\n",
       "    }\n",
       "\n",
       "    .dataframe thead th {\n",
       "        text-align: right;\n",
       "    }\n",
       "</style>\n",
       "<table border=\"1\" class=\"dataframe\">\n",
       "  <thead>\n",
       "    <tr style=\"text-align: right;\">\n",
       "      <th></th>\n",
       "      <th>lead_time</th>\n",
       "      <th>arrival_month</th>\n",
       "      <th>arrival_date</th>\n",
       "      <th>avg_price_per_room</th>\n",
       "    </tr>\n",
       "  </thead>\n",
       "  <tbody>\n",
       "    <tr>\n",
       "      <th>count</th>\n",
       "      <td>36275.000000</td>\n",
       "      <td>36275.000000</td>\n",
       "      <td>36275.000000</td>\n",
       "      <td>36275.000000</td>\n",
       "    </tr>\n",
       "    <tr>\n",
       "      <th>mean</th>\n",
       "      <td>85.232557</td>\n",
       "      <td>7.423653</td>\n",
       "      <td>15.596995</td>\n",
       "      <td>103.423539</td>\n",
       "    </tr>\n",
       "    <tr>\n",
       "      <th>std</th>\n",
       "      <td>85.930817</td>\n",
       "      <td>3.069894</td>\n",
       "      <td>8.740447</td>\n",
       "      <td>35.089424</td>\n",
       "    </tr>\n",
       "    <tr>\n",
       "      <th>min</th>\n",
       "      <td>0.000000</td>\n",
       "      <td>1.000000</td>\n",
       "      <td>1.000000</td>\n",
       "      <td>0.000000</td>\n",
       "    </tr>\n",
       "    <tr>\n",
       "      <th>25%</th>\n",
       "      <td>17.000000</td>\n",
       "      <td>5.000000</td>\n",
       "      <td>8.000000</td>\n",
       "      <td>80.300000</td>\n",
       "    </tr>\n",
       "    <tr>\n",
       "      <th>50%</th>\n",
       "      <td>57.000000</td>\n",
       "      <td>8.000000</td>\n",
       "      <td>16.000000</td>\n",
       "      <td>99.450000</td>\n",
       "    </tr>\n",
       "    <tr>\n",
       "      <th>75%</th>\n",
       "      <td>126.000000</td>\n",
       "      <td>10.000000</td>\n",
       "      <td>23.000000</td>\n",
       "      <td>120.000000</td>\n",
       "    </tr>\n",
       "    <tr>\n",
       "      <th>max</th>\n",
       "      <td>443.000000</td>\n",
       "      <td>12.000000</td>\n",
       "      <td>31.000000</td>\n",
       "      <td>540.000000</td>\n",
       "    </tr>\n",
       "  </tbody>\n",
       "</table>\n",
       "</div>"
      ],
      "text/plain": [
       "          lead_time  arrival_month  arrival_date  avg_price_per_room\n",
       "count  36275.000000   36275.000000  36275.000000        36275.000000\n",
       "mean      85.232557       7.423653     15.596995          103.423539\n",
       "std       85.930817       3.069894      8.740447           35.089424\n",
       "min        0.000000       1.000000      1.000000            0.000000\n",
       "25%       17.000000       5.000000      8.000000           80.300000\n",
       "50%       57.000000       8.000000     16.000000           99.450000\n",
       "75%      126.000000      10.000000     23.000000          120.000000\n",
       "max      443.000000      12.000000     31.000000          540.000000"
      ]
     },
     "execution_count": 11,
     "metadata": {},
     "output_type": "execute_result"
    }
   ],
   "source": [
    "data.describe()"
   ]
  },
  {
   "cell_type": "code",
   "execution_count": 12,
   "id": "7f15c595",
   "metadata": {},
   "outputs": [
    {
     "data": {
      "text/html": [
       "<div>\n",
       "<style scoped>\n",
       "    .dataframe tbody tr th:only-of-type {\n",
       "        vertical-align: middle;\n",
       "    }\n",
       "\n",
       "    .dataframe tbody tr th {\n",
       "        vertical-align: top;\n",
       "    }\n",
       "\n",
       "    .dataframe thead th {\n",
       "        text-align: right;\n",
       "    }\n",
       "</style>\n",
       "<table border=\"1\" class=\"dataframe\">\n",
       "  <thead>\n",
       "    <tr style=\"text-align: right;\">\n",
       "      <th></th>\n",
       "      <th>lead_time</th>\n",
       "      <th>arrival_month</th>\n",
       "      <th>arrival_date</th>\n",
       "      <th>avg_price_per_room</th>\n",
       "    </tr>\n",
       "  </thead>\n",
       "  <tbody>\n",
       "    <tr>\n",
       "      <th>0</th>\n",
       "      <td>224</td>\n",
       "      <td>10</td>\n",
       "      <td>2</td>\n",
       "      <td>65.00</td>\n",
       "    </tr>\n",
       "    <tr>\n",
       "      <th>1</th>\n",
       "      <td>5</td>\n",
       "      <td>11</td>\n",
       "      <td>6</td>\n",
       "      <td>106.68</td>\n",
       "    </tr>\n",
       "    <tr>\n",
       "      <th>2</th>\n",
       "      <td>1</td>\n",
       "      <td>2</td>\n",
       "      <td>28</td>\n",
       "      <td>60.00</td>\n",
       "    </tr>\n",
       "    <tr>\n",
       "      <th>3</th>\n",
       "      <td>211</td>\n",
       "      <td>5</td>\n",
       "      <td>20</td>\n",
       "      <td>100.00</td>\n",
       "    </tr>\n",
       "    <tr>\n",
       "      <th>4</th>\n",
       "      <td>48</td>\n",
       "      <td>4</td>\n",
       "      <td>11</td>\n",
       "      <td>94.50</td>\n",
       "    </tr>\n",
       "    <tr>\n",
       "      <th>...</th>\n",
       "      <td>...</td>\n",
       "      <td>...</td>\n",
       "      <td>...</td>\n",
       "      <td>...</td>\n",
       "    </tr>\n",
       "    <tr>\n",
       "      <th>36270</th>\n",
       "      <td>85</td>\n",
       "      <td>8</td>\n",
       "      <td>3</td>\n",
       "      <td>167.80</td>\n",
       "    </tr>\n",
       "    <tr>\n",
       "      <th>36271</th>\n",
       "      <td>228</td>\n",
       "      <td>10</td>\n",
       "      <td>17</td>\n",
       "      <td>90.95</td>\n",
       "    </tr>\n",
       "    <tr>\n",
       "      <th>36272</th>\n",
       "      <td>148</td>\n",
       "      <td>7</td>\n",
       "      <td>1</td>\n",
       "      <td>98.39</td>\n",
       "    </tr>\n",
       "    <tr>\n",
       "      <th>36273</th>\n",
       "      <td>63</td>\n",
       "      <td>4</td>\n",
       "      <td>21</td>\n",
       "      <td>94.50</td>\n",
       "    </tr>\n",
       "    <tr>\n",
       "      <th>36274</th>\n",
       "      <td>207</td>\n",
       "      <td>12</td>\n",
       "      <td>30</td>\n",
       "      <td>161.67</td>\n",
       "    </tr>\n",
       "  </tbody>\n",
       "</table>\n",
       "<p>36275 rows × 4 columns</p>\n",
       "</div>"
      ],
      "text/plain": [
       "       lead_time  arrival_month  arrival_date  avg_price_per_room\n",
       "0            224             10             2               65.00\n",
       "1              5             11             6              106.68\n",
       "2              1              2            28               60.00\n",
       "3            211              5            20              100.00\n",
       "4             48              4            11               94.50\n",
       "...          ...            ...           ...                 ...\n",
       "36270         85              8             3              167.80\n",
       "36271        228             10            17               90.95\n",
       "36272        148              7             1               98.39\n",
       "36273         63              4            21               94.50\n",
       "36274        207             12            30              161.67\n",
       "\n",
       "[36275 rows x 4 columns]"
      ]
     },
     "execution_count": 12,
     "metadata": {},
     "output_type": "execute_result"
    }
   ],
   "source": [
    "data_numeric=data.select_dtypes(include=np.number)\n",
    "data_numeric"
   ]
  },
  {
   "cell_type": "code",
   "execution_count": 13,
   "id": "76c93956",
   "metadata": {},
   "outputs": [
    {
     "data": {
      "text/plain": [
       "Index(['lead_time', 'arrival_month', 'arrival_date', 'avg_price_per_room'], dtype='object')"
      ]
     },
     "execution_count": 13,
     "metadata": {},
     "output_type": "execute_result"
    }
   ],
   "source": [
    "data_numeric.columns"
   ]
  },
  {
   "cell_type": "code",
   "execution_count": 17,
   "id": "19037819",
   "metadata": {
    "scrolled": true
   },
   "outputs": [
    {
     "data": {
      "image/png": "[encoded data removed]",
      "text/plain": [
       "<Figure size 432x288 with 4 Axes>"
      ]
     },
     "metadata": {
      "needs_background": "light"
     },
     "output_type": "display_data"
    }
   ],
   "source": [
    "data_numeric.hist()\n",
    "plt.tight_layout()\n",
    "plt.show()"
   ]
  },
  {
   "cell_type": "code",
   "execution_count": 19,
   "id": "2db530d2",
   "metadata": {},
   "outputs": [
    {
     "data": {
      "image/png": "[encoded data removed]",
      "text/plain": [
       "<Figure size 720x720 with 4 Axes>"
      ]
     },
     "metadata": {
      "needs_background": "light"
     },
     "output_type": "display_data"
    }
   ],
   "source": [
    "fig, ax = plt.subplots(2,2,figsize=(10,10));\n",
    "sns.boxplot(x=data['lead_time'],ax=ax[0,0]);\n",
    "sns.boxplot(x=data['arrival_month'],ax=ax[0,1]);\n",
    "sns.boxplot(x=data['arrival_date'],ax=ax[1,0]);\n",
    "sns.boxplot(x=data['avg_price_per_room'],ax=ax[1,1]);"
   ]
  },
  {
   "cell_type": "code",
   "execution_count": 20,
   "id": "154bee39",
   "metadata": {},
   "outputs": [
    {
     "data": {
      "text/plain": [
       "1331"
      ]
     },
     "execution_count": 20,
     "metadata": {},
     "output_type": "execute_result"
    }
   ],
   "source": [
    "Q1= data.lead_time.quantile(0.25)\n",
    "Q3= data.lead_time.quantile(0.75)\n",
    "IQR = Q3 - Q1\n",
    "lower = Q1 - (1.5 * IQR)\n",
    "upper = Q3 + (1.5 * IQR)\n",
    "\n",
    "dfdia_outliers = data.lead_time[(data.lead_time < lower) | (data.lead_time > upper)]\n",
    "len(data.lead_time[data.lead_time> upper])"
   ]
  },
  {
   "cell_type": "code",
   "execution_count": 22,
   "id": "5edbaac5",
   "metadata": {},
   "outputs": [],
   "source": [
    "data.lead_time= np.where(data.lead_time>upper,upper,data.lead_time)"
   ]
  },
  {
   "cell_type": "code",
   "execution_count": 24,
   "id": "cb860fcb",
   "metadata": {},
   "outputs": [
    {
     "data": {
      "text/plain": [
       "1069"
      ]
     },
     "execution_count": 24,
     "metadata": {},
     "output_type": "execute_result"
    }
   ],
   "source": [
    "Q1= data.avg_price_per_room.quantile(0.25)\n",
    "Q3= data.avg_price_per_room.quantile(0.75)\n",
    "IQR = Q3 - Q1\n",
    "lower = Q1 - (1.5 * IQR)\n",
    "upper = Q3 + (1.5 * IQR)\n",
    "\n",
    "outliers = data.avg_price_per_room [(data.avg_price_per_room < lower) | (data.avg_price_per_room  > upper)]\n",
    "len(data.avg_price_per_room [data.avg_price_per_room > upper])"
   ]
  },
  {
   "cell_type": "code",
   "execution_count": 25,
   "id": "5495a381",
   "metadata": {},
   "outputs": [],
   "source": [
    "data.avg_price_per_room = np.where(data.avg_price_per_room >upper,upper,data.avg_price_per_room )\n",
    "data.avg_price_per_room = np.where(data.avg_price_per_room <lower,lower,data.avg_price_per_room )"
   ]
  },
  {
   "cell_type": "code",
   "execution_count": 27,
   "id": "5b1187f4",
   "metadata": {},
   "outputs": [
    {
     "data": {
      "image/png": "[encoded data removed]",
      "text/plain": [
       "<Figure size 720x720 with 4 Axes>"
      ]
     },
     "metadata": {
      "needs_background": "light"
     },
     "output_type": "display_data"
    }
   ],
   "source": [
    "fig, ax = plt.subplots(2,2,figsize=(10,10));\n",
    "sns.boxplot(x=data['lead_time'],ax=ax[0,0]);\n",
    "sns.boxplot(x=data['arrival_month'],ax=ax[0,1]);\n",
    "sns.boxplot(x=data['arrival_date'],ax=ax[1,0]);\n",
    "sns.boxplot(x=data['avg_price_per_room'],ax=ax[1,1]);"
   ]
  },
  {
   "cell_type": "markdown",
   "id": "87ee72c6",
   "metadata": {},
   "source": [
    "# statical test for continous data"
   ]
  },
  {
   "cell_type": "code",
   "execution_count": 28,
   "id": "3ca9bffb",
   "metadata": {},
   "outputs": [],
   "source": [
    "data['booking_status']=data['booking_status'].astype(\"int\")"
   ]
  },
  {
   "cell_type": "code",
   "execution_count": 29,
   "id": "b97b88f3",
   "metadata": {},
   "outputs": [
    {
     "data": {
      "text/html": [
       "<div>\n",
       "<style scoped>\n",
       "    .dataframe tbody tr th:only-of-type {\n",
       "        vertical-align: middle;\n",
       "    }\n",
       "\n",
       "    .dataframe tbody tr th {\n",
       "        vertical-align: top;\n",
       "    }\n",
       "\n",
       "    .dataframe thead th {\n",
       "        text-align: right;\n",
       "    }\n",
       "</style>\n",
       "<table border=\"1\" class=\"dataframe\">\n",
       "  <thead>\n",
       "    <tr style=\"text-align: right;\">\n",
       "      <th></th>\n",
       "      <th>df</th>\n",
       "      <th>sum_sq</th>\n",
       "      <th>mean_sq</th>\n",
       "      <th>F</th>\n",
       "      <th>PR(&gt;F)</th>\n",
       "    </tr>\n",
       "  </thead>\n",
       "  <tbody>\n",
       "    <tr>\n",
       "      <th>lead_time</th>\n",
       "      <td>1.0</td>\n",
       "      <td>1559.7414</td>\n",
       "      <td>1559.7414</td>\n",
       "      <td>8797.0504</td>\n",
       "      <td>0.0</td>\n",
       "    </tr>\n",
       "    <tr>\n",
       "      <th>Residual</th>\n",
       "      <td>36273.0</td>\n",
       "      <td>6431.3034</td>\n",
       "      <td>0.1773</td>\n",
       "      <td>NaN</td>\n",
       "      <td>NaN</td>\n",
       "    </tr>\n",
       "  </tbody>\n",
       "</table>\n",
       "</div>"
      ],
      "text/plain": [
       "                df     sum_sq    mean_sq          F  PR(>F)\n",
       "lead_time      1.0  1559.7414  1559.7414  8797.0504     0.0\n",
       "Residual   36273.0  6431.3034     0.1773        NaN     NaN"
      ]
     },
     "execution_count": 29,
     "metadata": {},
     "output_type": "execute_result"
    }
   ],
   "source": [
    "model = ols('booking_status~lead_time',data =data).fit()\n",
    "anova = sm.stats.anova_lm(model)\n",
    "anova.round(decimals=4)"
   ]
  },
  {
   "cell_type": "code",
   "execution_count": 30,
   "id": "7122482a",
   "metadata": {},
   "outputs": [
    {
     "data": {
      "text/html": [
       "<div>\n",
       "<style scoped>\n",
       "    .dataframe tbody tr th:only-of-type {\n",
       "        vertical-align: middle;\n",
       "    }\n",
       "\n",
       "    .dataframe tbody tr th {\n",
       "        vertical-align: top;\n",
       "    }\n",
       "\n",
       "    .dataframe thead th {\n",
       "        text-align: right;\n",
       "    }\n",
       "</style>\n",
       "<table border=\"1\" class=\"dataframe\">\n",
       "  <thead>\n",
       "    <tr style=\"text-align: right;\">\n",
       "      <th></th>\n",
       "      <th>df</th>\n",
       "      <th>sum_sq</th>\n",
       "      <th>mean_sq</th>\n",
       "      <th>F</th>\n",
       "      <th>PR(&gt;F)</th>\n",
       "    </tr>\n",
       "  </thead>\n",
       "  <tbody>\n",
       "    <tr>\n",
       "      <th>arrival_month</th>\n",
       "      <td>1.0</td>\n",
       "      <td>1.0083</td>\n",
       "      <td>1.0083</td>\n",
       "      <td>4.5776</td>\n",
       "      <td>0.0324</td>\n",
       "    </tr>\n",
       "    <tr>\n",
       "      <th>Residual</th>\n",
       "      <td>36273.0</td>\n",
       "      <td>7990.0365</td>\n",
       "      <td>0.2203</td>\n",
       "      <td>NaN</td>\n",
       "      <td>NaN</td>\n",
       "    </tr>\n",
       "  </tbody>\n",
       "</table>\n",
       "</div>"
      ],
      "text/plain": [
       "                    df     sum_sq  mean_sq       F  PR(>F)\n",
       "arrival_month      1.0     1.0083   1.0083  4.5776  0.0324\n",
       "Residual       36273.0  7990.0365   0.2203     NaN     NaN"
      ]
     },
     "execution_count": 30,
     "metadata": {},
     "output_type": "execute_result"
    }
   ],
   "source": [
    "model = ols('booking_status~arrival_month',data =data).fit()\n",
    "anova = sm.stats.anova_lm(model)\n",
    "anova.round(decimals=4)"
   ]
  },
  {
   "cell_type": "code",
   "execution_count": 31,
   "id": "f2078ec2",
   "metadata": {},
   "outputs": [
    {
     "data": {
      "text/html": [
       "<div>\n",
       "<style scoped>\n",
       "    .dataframe tbody tr th:only-of-type {\n",
       "        vertical-align: middle;\n",
       "    }\n",
       "\n",
       "    .dataframe tbody tr th {\n",
       "        vertical-align: top;\n",
       "    }\n",
       "\n",
       "    .dataframe thead th {\n",
       "        text-align: right;\n",
       "    }\n",
       "</style>\n",
       "<table border=\"1\" class=\"dataframe\">\n",
       "  <thead>\n",
       "    <tr style=\"text-align: right;\">\n",
       "      <th></th>\n",
       "      <th>df</th>\n",
       "      <th>sum_sq</th>\n",
       "      <th>mean_sq</th>\n",
       "      <th>F</th>\n",
       "      <th>PR(&gt;F)</th>\n",
       "    </tr>\n",
       "  </thead>\n",
       "  <tbody>\n",
       "    <tr>\n",
       "      <th>arrival_date</th>\n",
       "      <td>1.0</td>\n",
       "      <td>0.9028</td>\n",
       "      <td>0.9028</td>\n",
       "      <td>4.0985</td>\n",
       "      <td>0.0429</td>\n",
       "    </tr>\n",
       "    <tr>\n",
       "      <th>Residual</th>\n",
       "      <td>36273.0</td>\n",
       "      <td>7990.1420</td>\n",
       "      <td>0.2203</td>\n",
       "      <td>NaN</td>\n",
       "      <td>NaN</td>\n",
       "    </tr>\n",
       "  </tbody>\n",
       "</table>\n",
       "</div>"
      ],
      "text/plain": [
       "                   df     sum_sq  mean_sq       F  PR(>F)\n",
       "arrival_date      1.0     0.9028   0.9028  4.0985  0.0429\n",
       "Residual      36273.0  7990.1420   0.2203     NaN     NaN"
      ]
     },
     "execution_count": 31,
     "metadata": {},
     "output_type": "execute_result"
    }
   ],
   "source": [
    "model = ols('booking_status~arrival_date',data =data).fit()\n",
    "anova = sm.stats.anova_lm(model)\n",
    "anova.round(decimals=4)"
   ]
  },
  {
   "cell_type": "code",
   "execution_count": 32,
   "id": "3359e361",
   "metadata": {},
   "outputs": [
    {
     "data": {
      "text/html": [
       "<div>\n",
       "<style scoped>\n",
       "    .dataframe tbody tr th:only-of-type {\n",
       "        vertical-align: middle;\n",
       "    }\n",
       "\n",
       "    .dataframe tbody tr th {\n",
       "        vertical-align: top;\n",
       "    }\n",
       "\n",
       "    .dataframe thead th {\n",
       "        text-align: right;\n",
       "    }\n",
       "</style>\n",
       "<table border=\"1\" class=\"dataframe\">\n",
       "  <thead>\n",
       "    <tr style=\"text-align: right;\">\n",
       "      <th></th>\n",
       "      <th>df</th>\n",
       "      <th>sum_sq</th>\n",
       "      <th>mean_sq</th>\n",
       "      <th>F</th>\n",
       "      <th>PR(&gt;F)</th>\n",
       "    </tr>\n",
       "  </thead>\n",
       "  <tbody>\n",
       "    <tr>\n",
       "      <th>avg_price_per_room</th>\n",
       "      <td>1.0</td>\n",
       "      <td>163.9652</td>\n",
       "      <td>163.9652</td>\n",
       "      <td>759.8632</td>\n",
       "      <td>0.0</td>\n",
       "    </tr>\n",
       "    <tr>\n",
       "      <th>Residual</th>\n",
       "      <td>36273.0</td>\n",
       "      <td>7827.0796</td>\n",
       "      <td>0.2158</td>\n",
       "      <td>NaN</td>\n",
       "      <td>NaN</td>\n",
       "    </tr>\n",
       "  </tbody>\n",
       "</table>\n",
       "</div>"
      ],
      "text/plain": [
       "                         df     sum_sq   mean_sq         F  PR(>F)\n",
       "avg_price_per_room      1.0   163.9652  163.9652  759.8632     0.0\n",
       "Residual            36273.0  7827.0796    0.2158       NaN     NaN"
      ]
     },
     "execution_count": 32,
     "metadata": {},
     "output_type": "execute_result"
    }
   ],
   "source": [
    "model = ols('booking_status~avg_price_per_room',data =data).fit()\n",
    "anova = sm.stats.anova_lm(model)\n",
    "anova.round(decimals=4)"
   ]
  },
  {
   "cell_type": "code",
   "execution_count": 33,
   "id": "965c003c",
   "metadata": {},
   "outputs": [],
   "source": [
    "data['booking_status']=data['booking_status'].astype(\"object\")"
   ]
  },
  {
   "cell_type": "markdown",
   "id": "7e67e269",
   "metadata": {},
   "source": [
    "# multicolinearity"
   ]
  },
  {
   "cell_type": "code",
   "execution_count": 34,
   "id": "c01935bf",
   "metadata": {},
   "outputs": [],
   "source": [
    "x=data.iloc[:,[7,9,10,15]]\n",
    "x['intersept']=1\n",
    "vif_data=pd.DataFrame()\n",
    "vif_data[\"feature\"]=x.columns"
   ]
  },
  {
   "cell_type": "code",
   "execution_count": 35,
   "id": "c500946c",
   "metadata": {},
   "outputs": [
    {
     "name": "stdout",
     "output_type": "stream",
     "text": [
      "              feature        VIF\n",
      "0           lead_time   1.023685\n",
      "1       arrival_month   1.025002\n",
      "2        arrival_date   1.002225\n",
      "3  avg_price_per_room   1.008914\n",
      "4           intersept  20.762076\n"
     ]
    }
   ],
   "source": [
    "vif_data[\"VIF\"]=[variance_inflation_factor(x.values,i)\n",
    "                    for i in range(len(x.columns))]\n",
    "print(vif_data)"
   ]
  },
  {
   "cell_type": "code",
   "execution_count": 36,
   "id": "e76bfef7",
   "metadata": {},
   "outputs": [
    {
     "data": {
      "text/plain": [
       "<AxesSubplot:>"
      ]
     },
     "execution_count": 36,
     "metadata": {},
     "output_type": "execute_result"
    },
    {
     "data": {
      "image/png": "[encoded data removed]",
      "text/plain": [
       "<Figure size 720x720 with 2 Axes>"
      ]
     },
     "metadata": {
      "needs_background": "light"
     },
     "output_type": "display_data"
    }
   ],
   "source": [
    "plt.figure(figsize=(10,10))\n",
    "sns.heatmap(data.corr(), annot=True, vmin= -1, vmax=1)"
   ]
  },
  {
   "cell_type": "code",
   "execution_count": 37,
   "id": "26772b20",
   "metadata": {},
   "outputs": [
    {
     "data": {
      "text/html": [
       "<div>\n",
       "<style scoped>\n",
       "    .dataframe tbody tr th:only-of-type {\n",
       "        vertical-align: middle;\n",
       "    }\n",
       "\n",
       "    .dataframe tbody tr th {\n",
       "        vertical-align: top;\n",
       "    }\n",
       "\n",
       "    .dataframe thead th {\n",
       "        text-align: right;\n",
       "    }\n",
       "</style>\n",
       "<table border=\"1\" class=\"dataframe\">\n",
       "  <thead>\n",
       "    <tr style=\"text-align: right;\">\n",
       "      <th></th>\n",
       "      <th>lead_time</th>\n",
       "      <th>arrival_month</th>\n",
       "      <th>arrival_date</th>\n",
       "      <th>avg_price_per_room</th>\n",
       "    </tr>\n",
       "  </thead>\n",
       "  <tbody>\n",
       "    <tr>\n",
       "      <th>lead_time</th>\n",
       "      <td>1.000000</td>\n",
       "      <td>0.134083</td>\n",
       "      <td>0.002899</td>\n",
       "      <td>-0.063217</td>\n",
       "    </tr>\n",
       "    <tr>\n",
       "      <th>arrival_month</th>\n",
       "      <td>0.134083</td>\n",
       "      <td>1.000000</td>\n",
       "      <td>-0.042780</td>\n",
       "      <td>0.058202</td>\n",
       "    </tr>\n",
       "    <tr>\n",
       "      <th>arrival_date</th>\n",
       "      <td>0.002899</td>\n",
       "      <td>-0.042780</td>\n",
       "      <td>1.000000</td>\n",
       "      <td>0.014522</td>\n",
       "    </tr>\n",
       "    <tr>\n",
       "      <th>avg_price_per_room</th>\n",
       "      <td>-0.063217</td>\n",
       "      <td>0.058202</td>\n",
       "      <td>0.014522</td>\n",
       "      <td>1.000000</td>\n",
       "    </tr>\n",
       "  </tbody>\n",
       "</table>\n",
       "</div>"
      ],
      "text/plain": [
       "                    lead_time  arrival_month  arrival_date  avg_price_per_room\n",
       "lead_time            1.000000       0.134083      0.002899           -0.063217\n",
       "arrival_month        0.134083       1.000000     -0.042780            0.058202\n",
       "arrival_date         0.002899      -0.042780      1.000000            0.014522\n",
       "avg_price_per_room  -0.063217       0.058202      0.014522            1.000000"
      ]
     },
     "execution_count": 37,
     "metadata": {},
     "output_type": "execute_result"
    }
   ],
   "source": [
    "data.corr()"
   ]
  },
  {
   "cell_type": "markdown",
   "id": "fe22a02f",
   "metadata": {},
   "source": [
    "# visulazation for categorical data"
   ]
  },
  {
   "cell_type": "code",
   "execution_count": 38,
   "id": "b3855e90",
   "metadata": {},
   "outputs": [
    {
     "data": {
      "text/html": [
       "<div>\n",
       "<style scoped>\n",
       "    .dataframe tbody tr th:only-of-type {\n",
       "        vertical-align: middle;\n",
       "    }\n",
       "\n",
       "    .dataframe tbody tr th {\n",
       "        vertical-align: top;\n",
       "    }\n",
       "\n",
       "    .dataframe thead th {\n",
       "        text-align: right;\n",
       "    }\n",
       "</style>\n",
       "<table border=\"1\" class=\"dataframe\">\n",
       "  <thead>\n",
       "    <tr style=\"text-align: right;\">\n",
       "      <th></th>\n",
       "      <th>no_of_adults</th>\n",
       "      <th>no_of_children</th>\n",
       "      <th>no_of_weekend_nights</th>\n",
       "      <th>no_of_week_nights</th>\n",
       "      <th>type_of_meal_plan</th>\n",
       "      <th>required_car_parking_space</th>\n",
       "      <th>room_type_reserved</th>\n",
       "      <th>arrival_year</th>\n",
       "      <th>market_segment_type</th>\n",
       "      <th>repeated_guest</th>\n",
       "      <th>no_of_previous_cancellations</th>\n",
       "      <th>no_of_previous_bookings_not_canceled</th>\n",
       "      <th>no_of_special_requests</th>\n",
       "      <th>booking_status</th>\n",
       "    </tr>\n",
       "  </thead>\n",
       "  <tbody>\n",
       "    <tr>\n",
       "      <th>count</th>\n",
       "      <td>36275</td>\n",
       "      <td>36275</td>\n",
       "      <td>36275</td>\n",
       "      <td>36275</td>\n",
       "      <td>36275</td>\n",
       "      <td>36275</td>\n",
       "      <td>36275</td>\n",
       "      <td>36275</td>\n",
       "      <td>36275</td>\n",
       "      <td>36275</td>\n",
       "      <td>36275</td>\n",
       "      <td>36275</td>\n",
       "      <td>36275</td>\n",
       "      <td>36275</td>\n",
       "    </tr>\n",
       "    <tr>\n",
       "      <th>unique</th>\n",
       "      <td>5</td>\n",
       "      <td>6</td>\n",
       "      <td>8</td>\n",
       "      <td>18</td>\n",
       "      <td>4</td>\n",
       "      <td>2</td>\n",
       "      <td>7</td>\n",
       "      <td>2</td>\n",
       "      <td>5</td>\n",
       "      <td>2</td>\n",
       "      <td>9</td>\n",
       "      <td>59</td>\n",
       "      <td>6</td>\n",
       "      <td>2</td>\n",
       "    </tr>\n",
       "    <tr>\n",
       "      <th>top</th>\n",
       "      <td>2</td>\n",
       "      <td>0</td>\n",
       "      <td>0</td>\n",
       "      <td>2</td>\n",
       "      <td>0</td>\n",
       "      <td>0</td>\n",
       "      <td>0</td>\n",
       "      <td>2018</td>\n",
       "      <td>4</td>\n",
       "      <td>0</td>\n",
       "      <td>0</td>\n",
       "      <td>0</td>\n",
       "      <td>0</td>\n",
       "      <td>1</td>\n",
       "    </tr>\n",
       "    <tr>\n",
       "      <th>freq</th>\n",
       "      <td>26108</td>\n",
       "      <td>33577</td>\n",
       "      <td>16872</td>\n",
       "      <td>11444</td>\n",
       "      <td>27835</td>\n",
       "      <td>35151</td>\n",
       "      <td>28130</td>\n",
       "      <td>29761</td>\n",
       "      <td>23214</td>\n",
       "      <td>35345</td>\n",
       "      <td>35937</td>\n",
       "      <td>35463</td>\n",
       "      <td>19777</td>\n",
       "      <td>24390</td>\n",
       "    </tr>\n",
       "  </tbody>\n",
       "</table>\n",
       "</div>"
      ],
      "text/plain": [
       "        no_of_adults  no_of_children  no_of_weekend_nights  no_of_week_nights  \\\n",
       "count          36275           36275                 36275              36275   \n",
       "unique             5               6                     8                 18   \n",
       "top                2               0                     0                  2   \n",
       "freq           26108           33577                 16872              11444   \n",
       "\n",
       "        type_of_meal_plan  required_car_parking_space  room_type_reserved  \\\n",
       "count               36275                       36275               36275   \n",
       "unique                  4                           2                   7   \n",
       "top                     0                           0                   0   \n",
       "freq                27835                       35151               28130   \n",
       "\n",
       "        arrival_year  market_segment_type  repeated_guest  \\\n",
       "count          36275                36275           36275   \n",
       "unique             2                    5               2   \n",
       "top             2018                    4               0   \n",
       "freq           29761                23214           35345   \n",
       "\n",
       "        no_of_previous_cancellations  no_of_previous_bookings_not_canceled  \\\n",
       "count                          36275                                 36275   \n",
       "unique                             9                                    59   \n",
       "top                                0                                     0   \n",
       "freq                           35937                                 35463   \n",
       "\n",
       "        no_of_special_requests  booking_status  \n",
       "count                    36275           36275  \n",
       "unique                       6               2  \n",
       "top                          0               1  \n",
       "freq                     19777           24390  "
      ]
     },
     "execution_count": 38,
     "metadata": {},
     "output_type": "execute_result"
    }
   ],
   "source": [
    "data.describe(include=object)"
   ]
  },
  {
   "cell_type": "code",
   "execution_count": 41,
   "id": "c4af25ca",
   "metadata": {},
   "outputs": [
    {
     "data": {
      "image/png": "[encoded data removed]",
      "text/plain": [
       "<Figure size 3600x5760 with 14 Axes>"
      ]
     },
     "metadata": {
      "needs_background": "light"
     },
     "output_type": "display_data"
    }
   ],
   "source": [
    "categorical=[]\n",
    "for column in data:\n",
    "      if is_string_dtype(data[column]):\n",
    "        categorical.append(column)      \n",
    "fig,ax=plt.subplots(nrows=7,ncols=2,figsize=(50,80))\n",
    "for variable,subplot in zip(categorical,ax.flatten()):\n",
    "    sns.countplot(data[variable],ax=subplot)\n",
    "    \n",
    "plt.show()"
   ]
  },
  {
   "cell_type": "code",
   "execution_count": 42,
   "id": "4bef55fe",
   "metadata": {},
   "outputs": [
    {
     "data": {
      "text/plain": [
       "['no_of_adults',\n",
       " 'no_of_children',\n",
       " 'no_of_weekend_nights',\n",
       " 'no_of_week_nights',\n",
       " 'type_of_meal_plan',\n",
       " 'required_car_parking_space',\n",
       " 'room_type_reserved',\n",
       " 'arrival_year',\n",
       " 'market_segment_type',\n",
       " 'repeated_guest',\n",
       " 'no_of_previous_cancellations',\n",
       " 'no_of_previous_bookings_not_canceled',\n",
       " 'no_of_special_requests',\n",
       " 'booking_status']"
      ]
     },
     "execution_count": 42,
     "metadata": {},
     "output_type": "execute_result"
    }
   ],
   "source": [
    "categorical"
   ]
  },
  {
   "cell_type": "markdown",
   "id": "64265265",
   "metadata": {},
   "source": [
    "# statitical test for categorical data"
   ]
  },
  {
   "cell_type": "code",
   "execution_count": 51,
   "id": "d18d9704",
   "metadata": {},
   "outputs": [
    {
     "data": {
      "text/plain": [
       "7.926719613649621e-67"
      ]
     },
     "execution_count": 51,
     "metadata": {},
     "output_type": "execute_result"
    }
   ],
   "source": [
    "no_of_adults=pd.crosstab(data.booking_status ,data.no_of_adults , margins = True)\n",
    "scipy.stats.chi2_contingency( no_of_adults ,correction= False )[1]"
   ]
  },
  {
   "cell_type": "code",
   "execution_count": 52,
   "id": "7ee70ad1",
   "metadata": {},
   "outputs": [
    {
     "data": {
      "text/plain": [
       "1.4342589803688548e-07"
      ]
     },
     "execution_count": 52,
     "metadata": {},
     "output_type": "execute_result"
    }
   ],
   "source": [
    "no_of_children=pd.crosstab(data.booking_status ,data.no_of_children , margins = True)\n",
    "scipy.stats.chi2_contingency( no_of_children ,correction= False )[1]"
   ]
  },
  {
   "cell_type": "code",
   "execution_count": 53,
   "id": "b4723897",
   "metadata": {},
   "outputs": [
    {
     "data": {
      "text/plain": [
       "9.03804329065824e-38"
      ]
     },
     "execution_count": 53,
     "metadata": {},
     "output_type": "execute_result"
    }
   ],
   "source": [
    "no_of_weekend_nights=pd.crosstab(data.booking_status ,data.no_of_weekend_nights , margins = True)\n",
    "scipy.stats.chi2_contingency(no_of_weekend_nights ,correction= False )[1]"
   ]
  },
  {
   "cell_type": "code",
   "execution_count": 54,
   "id": "0b4b4e18",
   "metadata": {},
   "outputs": [
    {
     "data": {
      "text/plain": [
       "7.215985295538555e-70"
      ]
     },
     "execution_count": 54,
     "metadata": {},
     "output_type": "execute_result"
    }
   ],
   "source": [
    "no_of_week_nights=pd.crosstab(data.booking_status ,data.no_of_week_nights , margins = True)\n",
    "scipy.stats.chi2_contingency( no_of_week_nights ,correction= False )[1]"
   ]
  },
  {
   "cell_type": "code",
   "execution_count": 55,
   "id": "c3d8b7a6",
   "metadata": {},
   "outputs": [
    {
     "data": {
      "text/plain": [
       "1.7009804891209094e-55"
      ]
     },
     "execution_count": 55,
     "metadata": {},
     "output_type": "execute_result"
    }
   ],
   "source": [
    "type_of_meal_plan=pd.crosstab(data.booking_status ,data.type_of_meal_plan , margins = True)\n",
    "scipy.stats.chi2_contingency(type_of_meal_plan ,correction= False )[1]"
   ]
  },
  {
   "cell_type": "code",
   "execution_count": 56,
   "id": "6e7e0918",
   "metadata": {},
   "outputs": [
    {
     "data": {
      "text/plain": [
       "4.1971205853739484e-57"
      ]
     },
     "execution_count": 56,
     "metadata": {},
     "output_type": "execute_result"
    }
   ],
   "source": [
    "required_car_parking_space=pd.crosstab(data.booking_status ,data.required_car_parking_space , margins = True)\n",
    "scipy.stats.chi2_contingency( required_car_parking_space ,correction= False )[1]"
   ]
  },
  {
   "cell_type": "code",
   "execution_count": 57,
   "id": "276ed642",
   "metadata": {},
   "outputs": [
    {
     "data": {
      "text/plain": [
       "3.422130308891275e-07"
      ]
     },
     "execution_count": 57,
     "metadata": {},
     "output_type": "execute_result"
    }
   ],
   "source": [
    "room_type_reserved=pd.crosstab(data.booking_status ,data.room_type_reserved , margins = True)\n",
    "scipy.stats.chi2_contingency( room_type_reserved ,correction= False )[1]"
   ]
  },
  {
   "cell_type": "code",
   "execution_count": 58,
   "id": "a7fec6dc",
   "metadata": {},
   "outputs": [
    {
     "data": {
      "text/plain": [
       "7.699159060068839e-252"
      ]
     },
     "execution_count": 58,
     "metadata": {},
     "output_type": "execute_result"
    }
   ],
   "source": [
    "arrival_year=pd.crosstab(data.booking_status ,data.arrival_year , margins = True)\n",
    "scipy.stats.chi2_contingency( arrival_year ,correction= False )[1]"
   ]
  },
  {
   "cell_type": "code",
   "execution_count": 59,
   "id": "b630d9eb",
   "metadata": {},
   "outputs": [
    {
     "data": {
      "text/plain": [
       "1.910657911754281e-168"
      ]
     },
     "execution_count": 59,
     "metadata": {},
     "output_type": "execute_result"
    }
   ],
   "source": [
    "market_segment_type=pd.crosstab(data.booking_status ,data.market_segment_type , margins = True)\n",
    "scipy.stats.chi2_contingency(market_segment_type,correction= False )[1]"
   ]
  },
  {
   "cell_type": "code",
   "execution_count": 60,
   "id": "35bcae9e",
   "metadata": {},
   "outputs": [
    {
     "data": {
      "text/plain": [
       "4.507765662410317e-89"
      ]
     },
     "execution_count": 60,
     "metadata": {},
     "output_type": "execute_result"
    }
   ],
   "source": [
    "repeated_guest=pd.crosstab(data.booking_status ,data.repeated_guest , margins = True)\n",
    "scipy.stats.chi2_contingency( repeated_guest ,correction= False )[1]"
   ]
  },
  {
   "cell_type": "code",
   "execution_count": 61,
   "id": "95246aae",
   "metadata": {},
   "outputs": [
    {
     "data": {
      "text/plain": [
       "8.806607096123265e-21"
      ]
     },
     "execution_count": 61,
     "metadata": {},
     "output_type": "execute_result"
    }
   ],
   "source": [
    "no_of_previous_cancellations=pd.crosstab(data.booking_status ,data.no_of_previous_cancellations, margins = True)\n",
    "scipy.stats.chi2_contingency( no_of_previous_cancellations ,correction= False )[1]"
   ]
  },
  {
   "cell_type": "code",
   "execution_count": 62,
   "id": "9d20e63b",
   "metadata": {},
   "outputs": [
    {
     "data": {
      "text/plain": [
       "6.0111448803761715e-30"
      ]
     },
     "execution_count": 62,
     "metadata": {},
     "output_type": "execute_result"
    }
   ],
   "source": [
    "no_of_previous_bookings_not_canceled=pd.crosstab(data.booking_status ,data.no_of_previous_bookings_not_canceled , margins = True)\n",
    "scipy.stats.chi2_contingency( no_of_previous_bookings_not_canceled ,correction= False )[1]"
   ]
  },
  {
   "cell_type": "code",
   "execution_count": 63,
   "id": "29baa8e7",
   "metadata": {},
   "outputs": [
    {
     "data": {
      "text/plain": [
       "0.0"
      ]
     },
     "execution_count": 63,
     "metadata": {},
     "output_type": "execute_result"
    }
   ],
   "source": [
    "no_of_special_requests=pd.crosstab(data.booking_status ,data.no_of_special_requests , margins = True)\n",
    "scipy.stats.chi2_contingency(no_of_special_requests ,correction= False )[1]"
   ]
  },
  {
   "cell_type": "code",
   "execution_count": 64,
   "id": "f984d2d6",
   "metadata": {},
   "outputs": [
    {
     "name": "stdout",
     "output_type": "stream",
     "text": [
      "<class 'pandas.core.frame.DataFrame'>\n",
      "RangeIndex: 36275 entries, 0 to 36274\n",
      "Data columns (total 18 columns):\n",
      " #   Column                                Non-Null Count  Dtype  \n",
      "---  ------                                --------------  -----  \n",
      " 0   no_of_adults                          36275 non-null  object \n",
      " 1   no_of_children                        36275 non-null  object \n",
      " 2   no_of_weekend_nights                  36275 non-null  object \n",
      " 3   no_of_week_nights                     36275 non-null  object \n",
      " 4   type_of_meal_plan                     36275 non-null  object \n",
      " 5   required_car_parking_space            36275 non-null  object \n",
      " 6   room_type_reserved                    36275 non-null  object \n",
      " 7   lead_time                             36275 non-null  float64\n",
      " 8   arrival_year                          36275 non-null  object \n",
      " 9   arrival_month                         36275 non-null  int64  \n",
      " 10  arrival_date                          36275 non-null  int64  \n",
      " 11  market_segment_type                   36275 non-null  object \n",
      " 12  repeated_guest                        36275 non-null  object \n",
      " 13  no_of_previous_cancellations          36275 non-null  object \n",
      " 14  no_of_previous_bookings_not_canceled  36275 non-null  object \n",
      " 15  avg_price_per_room                    36275 non-null  float64\n",
      " 16  no_of_special_requests                36275 non-null  object \n",
      " 17  booking_status                        36275 non-null  object \n",
      "dtypes: float64(2), int64(2), object(14)\n",
      "memory usage: 5.0+ MB\n"
     ]
    }
   ],
   "source": [
    "data.info()"
   ]
  },
  {
   "cell_type": "code",
   "execution_count": 65,
   "id": "f3c91545",
   "metadata": {},
   "outputs": [
    {
     "data": {
      "text/plain": [
       "1    24390\n",
       "0    11885\n",
       "Name: booking_status, dtype: int64"
      ]
     },
     "execution_count": 65,
     "metadata": {},
     "output_type": "execute_result"
    }
   ],
   "source": [
    "data.booking_status.value_counts()"
   ]
  },
  {
   "cell_type": "code",
   "execution_count": 66,
   "id": "4c05fc26",
   "metadata": {},
   "outputs": [],
   "source": [
    "data['no_of_adults']=data['no_of_adults'].astype(\"int\")\n",
    "data['no_of_children']=data['no_of_children'].astype(\"int\")\n",
    "data['no_of_weekend_nights']=data['no_of_weekend_nights'].astype(\"int\")                                                               \n",
    "data['required_car_parking_space']=data['required_car_parking_space'].astype(\"int\")\n",
    "data['arrival_year']=data['arrival_year'].astype(\"int\")\n",
    "data['repeated_guest']=data['repeated_guest'].astype(\"int\")\n",
    "data['no_of_previous_cancellations']=data['no_of_previous_cancellations'].astype(\"int\")\n",
    "data['no_of_previous_bookings_not_canceled']=data['no_of_previous_bookings_not_canceled'].astype(\"int\")\n",
    "data['no_of_special_requests']=data['no_of_special_requests'].astype(\"int\")\n",
    "data['no_of_week_nights']=data['no_of_week_nights'].astype(\"int\")\n",
    "data[\"type_of_meal_plan\"]=data[\"type_of_meal_plan\"].astype(\"int\")\n",
    "data[\"room_type_reserved\"]=data[\"room_type_reserved\"].astype(\"int\")\n",
    "data[\"market_segment_type\"]=data[\"market_segment_type\"].astype(\"int\")\n",
    "data[\"booking_status\"]=data[\"booking_status\"].astype(\"int\")"
   ]
  },
  {
   "cell_type": "markdown",
   "id": "ab13b925",
   "metadata": {},
   "source": [
    "# model building using solver\"liblinear\""
   ]
  },
  {
   "cell_type": "code",
   "execution_count": 67,
   "id": "030f0d06",
   "metadata": {},
   "outputs": [
    {
     "data": {
      "text/plain": [
       "Index(['no_of_adults', 'no_of_children', 'no_of_weekend_nights',\n",
       "       'no_of_week_nights', 'type_of_meal_plan', 'required_car_parking_space',\n",
       "       'room_type_reserved', 'lead_time', 'arrival_year', 'arrival_month',\n",
       "       'arrival_date', 'market_segment_type', 'repeated_guest',\n",
       "       'no_of_previous_cancellations', 'no_of_previous_bookings_not_canceled',\n",
       "       'avg_price_per_room', 'no_of_special_requests', 'booking_status'],\n",
       "      dtype='object')"
      ]
     },
     "execution_count": 67,
     "metadata": {},
     "output_type": "execute_result"
    }
   ],
   "source": [
    "data.columns"
   ]
  },
  {
   "cell_type": "code",
   "execution_count": 68,
   "id": "cc679049",
   "metadata": {},
   "outputs": [],
   "source": [
    "x=data[['no_of_adults', 'no_of_children', 'no_of_weekend_nights',\n",
    "       'no_of_week_nights', 'type_of_meal_plan', 'required_car_parking_space',\n",
    "       'room_type_reserved', 'lead_time', 'arrival_year', 'arrival_month',\n",
    "       'arrival_date', 'market_segment_type', 'repeated_guest',\n",
    "       'no_of_previous_cancellations', 'no_of_previous_bookings_not_canceled',\n",
    "       'avg_price_per_room', 'no_of_special_requests']]\n",
    "y=data['booking_status']"
   ]
  },
  {
   "cell_type": "code",
   "execution_count": 69,
   "id": "9b94e762",
   "metadata": {},
   "outputs": [
    {
     "data": {
      "text/plain": [
       "LogisticRegression(random_state=0, solver='liblinear')"
      ]
     },
     "execution_count": 69,
     "metadata": {},
     "output_type": "execute_result"
    }
   ],
   "source": [
    "model1=LogisticRegression(solver=\"liblinear\",random_state=0)\n",
    "model1    "
   ]
  },
  {
   "cell_type": "code",
   "execution_count": 70,
   "id": "be0b3716",
   "metadata": {},
   "outputs": [
    {
     "data": {
      "text/plain": [
       "LogisticRegression(random_state=0, solver='liblinear')"
      ]
     },
     "execution_count": 70,
     "metadata": {},
     "output_type": "execute_result"
    }
   ],
   "source": [
    "model1.fit(x,y)"
   ]
  },
  {
   "cell_type": "code",
   "execution_count": 73,
   "id": "c6312554",
   "metadata": {},
   "outputs": [],
   "source": [
    "y_pred=model1.predict(x)"
   ]
  },
  {
   "cell_type": "code",
   "execution_count": 76,
   "id": "9dc327c8",
   "metadata": {},
   "outputs": [
    {
     "data": {
      "text/plain": [
       "array([[ 7203,  4682],\n",
       "       [ 2564, 21826]], dtype=int64)"
      ]
     },
     "execution_count": 76,
     "metadata": {},
     "output_type": "execute_result"
    }
   ],
   "source": [
    "confusion_matrix(y,y_pred)"
   ]
  },
  {
   "cell_type": "code",
   "execution_count": 77,
   "id": "ca17de51",
   "metadata": {},
   "outputs": [
    {
     "data": {
      "text/plain": [
       "0.8002481047553411"
      ]
     },
     "execution_count": 77,
     "metadata": {},
     "output_type": "execute_result"
    }
   ],
   "source": [
    "model1.score(x,y)"
   ]
  },
  {
   "cell_type": "code",
   "execution_count": 78,
   "id": "7bc0eb0d",
   "metadata": {},
   "outputs": [
    {
     "name": "stdout",
     "output_type": "stream",
     "text": [
      "              precision    recall  f1-score   support\n",
      "\n",
      "           0       0.74      0.61      0.67     11885\n",
      "           1       0.82      0.89      0.86     24390\n",
      "\n",
      "    accuracy                           0.80     36275\n",
      "   macro avg       0.78      0.75      0.76     36275\n",
      "weighted avg       0.80      0.80      0.79     36275\n",
      "\n"
     ]
    }
   ],
   "source": [
    "#classification report\n",
    "print(classification_report(y,y_pred))"
   ]
  },
  {
   "cell_type": "code",
   "execution_count": 79,
   "id": "0ba6dc4d",
   "metadata": {},
   "outputs": [
    {
     "data": {
      "text/plain": [
       "array([[0.56309432, 0.43690568],\n",
       "       [0.12330879, 0.87669121],\n",
       "       [0.17782291, 0.82217709],\n",
       "       ...,\n",
       "       [0.20777508, 0.79222492],\n",
       "       [0.53855805, 0.46144195],\n",
       "       [0.88504168, 0.11495832]])"
      ]
     },
     "execution_count": 79,
     "metadata": {},
     "output_type": "execute_result"
    }
   ],
   "source": [
    "# roc curve\n",
    "y_pred_prob=model1.predict_proba(x)\n",
    "y_pred_prob"
   ]
  },
  {
   "cell_type": "code",
   "execution_count": 80,
   "id": "0ee3739f",
   "metadata": {},
   "outputs": [],
   "source": [
    "fpr,tpr,threshold=roc_curve(data[\"booking_status\"],y_pred_prob[:,1])"
   ]
  },
  {
   "cell_type": "code",
   "execution_count": 81,
   "id": "c3548f5e",
   "metadata": {},
   "outputs": [
    {
     "name": "stdout",
     "output_type": "stream",
     "text": [
      "0.8523615390970906\n"
     ]
    }
   ],
   "source": [
    "roc_auc=auc(fpr,tpr)\n",
    "print(roc_auc)"
   ]
  },
  {
   "cell_type": "code",
   "execution_count": 82,
   "id": "8d1756d8",
   "metadata": {},
   "outputs": [
    {
     "data": {
      "image/png": "[encoded data removed]",
      "text/plain": [
       "<Figure size 432x288 with 1 Axes>"
      ]
     },
     "metadata": {
      "needs_background": "light"
     },
     "output_type": "display_data"
    }
   ],
   "source": [
    "#roc curve\n",
    "plt.title(\"ROC curve for logreg\")\n",
    "plt.xlabel(\"fpr(1-specificity)\")\n",
    "plt.xlabel(\"tpr(senstivity)\")\n",
    "plt.plot([0,1],[0,1],'r--')\n",
    "plt.xlim([0,1])\n",
    "plt.ylim([0,1])\n",
    "plt.plot(fpr,tpr,label=\"AUC=\"+str(roc_auc))\n",
    "plt.legend(loc=4)\n",
    "plt.show()"
   ]
  },
  {
   "cell_type": "markdown",
   "id": "e7b8d6f2",
   "metadata": {},
   "source": [
    "# model 2 using solver\"lbfgs\""
   ]
  },
  {
   "cell_type": "code",
   "execution_count": 83,
   "id": "a3780417",
   "metadata": {},
   "outputs": [
    {
     "data": {
      "text/plain": [
       "LogisticRegression(random_state=0)"
      ]
     },
     "execution_count": 83,
     "metadata": {},
     "output_type": "execute_result"
    }
   ],
   "source": [
    "model2=LogisticRegression(solver=\"lbfgs\",random_state=0)\n",
    "model2   "
   ]
  },
  {
   "cell_type": "code",
   "execution_count": 84,
   "id": "75bf9b36",
   "metadata": {},
   "outputs": [
    {
     "data": {
      "text/plain": [
       "LogisticRegression(random_state=0)"
      ]
     },
     "execution_count": 84,
     "metadata": {},
     "output_type": "execute_result"
    }
   ],
   "source": [
    "model2.fit(x,y)"
   ]
  },
  {
   "cell_type": "code",
   "execution_count": 87,
   "id": "fba7d77d",
   "metadata": {},
   "outputs": [],
   "source": [
    "y_pred=model2.predict(x)"
   ]
  },
  {
   "cell_type": "code",
   "execution_count": 90,
   "id": "21217d70",
   "metadata": {},
   "outputs": [
    {
     "data": {
      "text/plain": [
       "array([[ 6954,  4931],\n",
       "       [ 2704, 21686]], dtype=int64)"
      ]
     },
     "execution_count": 90,
     "metadata": {},
     "output_type": "execute_result"
    }
   ],
   "source": [
    "confusion_matrix(y,y_pred)"
   ]
  },
  {
   "cell_type": "code",
   "execution_count": 91,
   "id": "1e94ebc7",
   "metadata": {},
   "outputs": [
    {
     "data": {
      "text/plain": [
       "0.7895244658855961"
      ]
     },
     "execution_count": 91,
     "metadata": {},
     "output_type": "execute_result"
    }
   ],
   "source": [
    "model2.score(x,y)"
   ]
  },
  {
   "cell_type": "code",
   "execution_count": 92,
   "id": "e2b3b26a",
   "metadata": {},
   "outputs": [
    {
     "name": "stdout",
     "output_type": "stream",
     "text": [
      "              precision    recall  f1-score   support\n",
      "\n",
      "           0       0.72      0.59      0.65     11885\n",
      "           1       0.81      0.89      0.85     24390\n",
      "\n",
      "    accuracy                           0.79     36275\n",
      "   macro avg       0.77      0.74      0.75     36275\n",
      "weighted avg       0.78      0.79      0.78     36275\n",
      "\n"
     ]
    }
   ],
   "source": [
    "#classification report\n",
    "print(classification_report(y,y_pred))"
   ]
  },
  {
   "cell_type": "code",
   "execution_count": 93,
   "id": "ea6ad9f6",
   "metadata": {},
   "outputs": [
    {
     "name": "stdout",
     "output_type": "stream",
     "text": [
      "0.8465871703731762\n"
     ]
    }
   ],
   "source": [
    "# roc curve\n",
    "y_pred_prob=model2.predict_proba(x)\n",
    "fpr2,tpr2,threshold=roc_curve(data[\"booking_status\"],y_pred_prob[:,1])\n",
    "roc_auc2=auc(fpr2,tpr2)\n",
    "print(roc_auc2)"
   ]
  },
  {
   "cell_type": "code",
   "execution_count": 94,
   "id": "183c2629",
   "metadata": {},
   "outputs": [
    {
     "data": {
      "image/png": "[encoded data removed]",
      "text/plain": [
       "<Figure size 432x288 with 1 Axes>"
      ]
     },
     "metadata": {
      "needs_background": "light"
     },
     "output_type": "display_data"
    }
   ],
   "source": [
    "#roc curve\n",
    "plt.title(\"ROC curve for logreg\")\n",
    "plt.xlabel(\"fpr(1-specificity)\")\n",
    "plt.xlabel(\"tpr(senstivity)\")\n",
    "plt.plot([0,1],[0,1],'r--')\n",
    "plt.xlim([0,1])\n",
    "plt.ylim([0,1])\n",
    "plt.plot(fpr2,tpr2,label=\"AUC=\"+str(roc_auc2))\n",
    "plt.legend(loc=4)\n",
    "plt.show()"
   ]
  },
  {
   "cell_type": "markdown",
   "id": "51e27c80",
   "metadata": {},
   "source": [
    "# model 3 using solver\"newton-cg\""
   ]
  },
  {
   "cell_type": "code",
   "execution_count": 95,
   "id": "f27abfc5",
   "metadata": {},
   "outputs": [
    {
     "data": {
      "text/plain": [
       "LogisticRegression(random_state=0, solver='newton-cg')"
      ]
     },
     "execution_count": 95,
     "metadata": {},
     "output_type": "execute_result"
    }
   ],
   "source": [
    "model3=LogisticRegression(solver=\"newton-cg\",random_state=0)\n",
    "model3 "
   ]
  },
  {
   "cell_type": "code",
   "execution_count": 96,
   "id": "3ce2dadd",
   "metadata": {},
   "outputs": [
    {
     "data": {
      "text/plain": [
       "LogisticRegression(random_state=0, solver='newton-cg')"
      ]
     },
     "execution_count": 96,
     "metadata": {},
     "output_type": "execute_result"
    }
   ],
   "source": [
    "model3.fit(x,y)"
   ]
  },
  {
   "cell_type": "code",
   "execution_count": 99,
   "id": "e6f4dc24",
   "metadata": {},
   "outputs": [],
   "source": [
    "y_pred=model3.predict(x)"
   ]
  },
  {
   "cell_type": "code",
   "execution_count": 100,
   "id": "a1b2a2ab",
   "metadata": {},
   "outputs": [
    {
     "data": {
      "text/plain": [
       "array([[ 7341,  4544],\n",
       "       [ 2645, 21745]], dtype=int64)"
      ]
     },
     "execution_count": 100,
     "metadata": {},
     "output_type": "execute_result"
    }
   ],
   "source": [
    "confusion_matrix(y,y_pred)"
   ]
  },
  {
   "cell_type": "code",
   "execution_count": 101,
   "id": "7ca48d46",
   "metadata": {},
   "outputs": [
    {
     "data": {
      "text/plain": [
       "0.8018194348725017"
      ]
     },
     "execution_count": 101,
     "metadata": {},
     "output_type": "execute_result"
    }
   ],
   "source": [
    "model3.score(x,y)"
   ]
  },
  {
   "cell_type": "code",
   "execution_count": 102,
   "id": "002dad1b",
   "metadata": {},
   "outputs": [
    {
     "name": "stdout",
     "output_type": "stream",
     "text": [
      "              precision    recall  f1-score   support\n",
      "\n",
      "           0       0.74      0.62      0.67     11885\n",
      "           1       0.83      0.89      0.86     24390\n",
      "\n",
      "    accuracy                           0.80     36275\n",
      "   macro avg       0.78      0.75      0.76     36275\n",
      "weighted avg       0.80      0.80      0.80     36275\n",
      "\n"
     ]
    }
   ],
   "source": [
    "#classification report\n",
    "print(classification_report(y,y_pred))"
   ]
  },
  {
   "cell_type": "code",
   "execution_count": 103,
   "id": "47e5140c",
   "metadata": {},
   "outputs": [
    {
     "name": "stdout",
     "output_type": "stream",
     "text": [
      "0.8566829581631954\n"
     ]
    }
   ],
   "source": [
    "# roc curve\n",
    "y_pred_prob=model3.predict_proba(x)\n",
    "fpr3,tpr3,threshold=roc_curve(data[\"booking_status\"],y_pred_prob[:,1])\n",
    "roc_auc3=auc(fpr3,tpr3)\n",
    "print(roc_auc3)"
   ]
  },
  {
   "cell_type": "code",
   "execution_count": 104,
   "id": "1e7cfe60",
   "metadata": {},
   "outputs": [
    {
     "data": {
      "image/png": "[encoded data removed]",
      "text/plain": [
       "<Figure size 432x288 with 1 Axes>"
      ]
     },
     "metadata": {
      "needs_background": "light"
     },
     "output_type": "display_data"
    }
   ],
   "source": [
    "#roc curve\n",
    "plt.title(\"ROC curve for logreg\")\n",
    "plt.xlabel(\"fpr(1-specificity)\")\n",
    "plt.xlabel(\"tpr(senstivity)\")\n",
    "plt.plot([0,1],[0,1],'r--')\n",
    "plt.xlim([0,1])\n",
    "plt.ylim([0,1])\n",
    "plt.plot(fpr3,tpr3,label=\"AUC=\"+str(roc_auc3))\n",
    "plt.legend(loc=4)\n",
    "plt.show()"
   ]
  },
  {
   "cell_type": "markdown",
   "id": "96472101",
   "metadata": {},
   "source": [
    "# mode4 using solver=\"sag\""
   ]
  },
  {
   "cell_type": "code",
   "execution_count": 105,
   "id": "93afbfa4",
   "metadata": {},
   "outputs": [
    {
     "data": {
      "text/plain": [
       "LogisticRegression(random_state=0, solver='sag')"
      ]
     },
     "execution_count": 105,
     "metadata": {},
     "output_type": "execute_result"
    }
   ],
   "source": [
    "model4=LogisticRegression(solver=\"sag\",random_state=0)\n",
    "model4 "
   ]
  },
  {
   "cell_type": "code",
   "execution_count": 106,
   "id": "3842310b",
   "metadata": {},
   "outputs": [
    {
     "data": {
      "text/plain": [
       "LogisticRegression(random_state=0, solver='sag')"
      ]
     },
     "execution_count": 106,
     "metadata": {},
     "output_type": "execute_result"
    }
   ],
   "source": [
    "model4.fit(x,y)"
   ]
  },
  {
   "cell_type": "code",
   "execution_count": 109,
   "id": "1d87278a",
   "metadata": {},
   "outputs": [],
   "source": [
    "y_pred=model4.predict(x)"
   ]
  },
  {
   "cell_type": "code",
   "execution_count": 110,
   "id": "d5d749ea",
   "metadata": {},
   "outputs": [
    {
     "data": {
      "text/plain": [
       "array([[ 5901,  5984],\n",
       "       [ 2308, 22082]], dtype=int64)"
      ]
     },
     "execution_count": 110,
     "metadata": {},
     "output_type": "execute_result"
    }
   ],
   "source": [
    "confusion_matrix(y,y_pred)"
   ]
  },
  {
   "cell_type": "code",
   "execution_count": 111,
   "id": "d3b4a7f8",
   "metadata": {},
   "outputs": [
    {
     "data": {
      "text/plain": [
       "0.7714128187456927"
      ]
     },
     "execution_count": 111,
     "metadata": {},
     "output_type": "execute_result"
    }
   ],
   "source": [
    "model4.score(x,y)"
   ]
  },
  {
   "cell_type": "code",
   "execution_count": 112,
   "id": "329b8b35",
   "metadata": {},
   "outputs": [
    {
     "name": "stdout",
     "output_type": "stream",
     "text": [
      "              precision    recall  f1-score   support\n",
      "\n",
      "           0       0.72      0.50      0.59     11885\n",
      "           1       0.79      0.91      0.84     24390\n",
      "\n",
      "    accuracy                           0.77     36275\n",
      "   macro avg       0.75      0.70      0.71     36275\n",
      "weighted avg       0.76      0.77      0.76     36275\n",
      "\n"
     ]
    }
   ],
   "source": [
    "#classification report\n",
    "print(classification_report(y,y_pred))"
   ]
  },
  {
   "cell_type": "code",
   "execution_count": 113,
   "id": "6fca6c79",
   "metadata": {},
   "outputs": [
    {
     "name": "stdout",
     "output_type": "stream",
     "text": [
      "0.8110906885257325\n"
     ]
    }
   ],
   "source": [
    "# roc curve\n",
    "y_pred_prob=model4.predict_proba(x)\n",
    "fpr4,tpr4,threshold=roc_curve(data[\"booking_status\"],y_pred_prob[:,1])\n",
    "roc_auc4=auc(fpr4,tpr4)\n",
    "print(roc_auc4)"
   ]
  },
  {
   "cell_type": "code",
   "execution_count": 114,
   "id": "d54c9d70",
   "metadata": {},
   "outputs": [
    {
     "data": {
      "image/png": "[encoded data removed]",
      "text/plain": [
       "<Figure size 432x288 with 1 Axes>"
      ]
     },
     "metadata": {
      "needs_background": "light"
     },
     "output_type": "display_data"
    }
   ],
   "source": [
    "#roc curve\n",
    "plt.title(\"ROC curve for logreg\")\n",
    "plt.xlabel(\"fpr(1-specificity)\")\n",
    "plt.xlabel(\"tpr(senstivity)\")\n",
    "plt.plot([0,1],[0,1],'r--')\n",
    "plt.xlim([0,1])\n",
    "plt.ylim([0,1])\n",
    "plt.plot(fpr4,tpr4,label=\"AUC=\"+str(roc_auc4))\n",
    "plt.legend(loc=4)\n",
    "plt.show()"
   ]
  },
  {
   "cell_type": "markdown",
   "id": "f6427fb5",
   "metadata": {},
   "source": [
    "# mode5 using solver=\"saga\""
   ]
  },
  {
   "cell_type": "code",
   "execution_count": 115,
   "id": "da26846a",
   "metadata": {},
   "outputs": [
    {
     "data": {
      "text/plain": [
       "LogisticRegression(random_state=0, solver='saga')"
      ]
     },
     "execution_count": 115,
     "metadata": {},
     "output_type": "execute_result"
    }
   ],
   "source": [
    "model5=LogisticRegression(solver=\"saga\",random_state=0)\n",
    "model5"
   ]
  },
  {
   "cell_type": "code",
   "execution_count": 116,
   "id": "9b4d892a",
   "metadata": {},
   "outputs": [
    {
     "data": {
      "text/plain": [
       "LogisticRegression(random_state=0, solver='saga')"
      ]
     },
     "execution_count": 116,
     "metadata": {},
     "output_type": "execute_result"
    }
   ],
   "source": [
    "model5.fit(x,y)"
   ]
  },
  {
   "cell_type": "code",
   "execution_count": 119,
   "id": "0f9ff63f",
   "metadata": {},
   "outputs": [],
   "source": [
    "y_pred=model5.predict(x)"
   ]
  },
  {
   "cell_type": "code",
   "execution_count": 120,
   "id": "41b83737",
   "metadata": {},
   "outputs": [
    {
     "data": {
      "text/plain": [
       "array([[ 5739,  6146],\n",
       "       [ 2342, 22048]], dtype=int64)"
      ]
     },
     "execution_count": 120,
     "metadata": {},
     "output_type": "execute_result"
    }
   ],
   "source": [
    "confusion_matrix(y,y_pred)"
   ]
  },
  {
   "cell_type": "code",
   "execution_count": 121,
   "id": "d5a8d452",
   "metadata": {},
   "outputs": [
    {
     "data": {
      "text/plain": [
       "0.7660096485182633"
      ]
     },
     "execution_count": 121,
     "metadata": {},
     "output_type": "execute_result"
    }
   ],
   "source": [
    "model5.score(x,y)"
   ]
  },
  {
   "cell_type": "code",
   "execution_count": 122,
   "id": "251f4710",
   "metadata": {},
   "outputs": [
    {
     "name": "stdout",
     "output_type": "stream",
     "text": [
      "              precision    recall  f1-score   support\n",
      "\n",
      "           0       0.71      0.48      0.57     11885\n",
      "           1       0.78      0.90      0.84     24390\n",
      "\n",
      "    accuracy                           0.77     36275\n",
      "   macro avg       0.75      0.69      0.71     36275\n",
      "weighted avg       0.76      0.77      0.75     36275\n",
      "\n"
     ]
    }
   ],
   "source": [
    "#classification report\n",
    "print(classification_report(y,y_pred))"
   ]
  },
  {
   "cell_type": "code",
   "execution_count": 123,
   "id": "bc70f04f",
   "metadata": {},
   "outputs": [
    {
     "name": "stdout",
     "output_type": "stream",
     "text": [
      "0.8110906885257325\n"
     ]
    }
   ],
   "source": [
    "# roc curve\n",
    "y_pred_prob=model4.predict_proba(x)\n",
    "fpr5,tpr5,threshold=roc_curve(data[\"booking_status\"],y_pred_prob[:,1])\n",
    "roc_auc5=auc(fpr5,tpr5)\n",
    "print(roc_auc5)"
   ]
  },
  {
   "cell_type": "code",
   "execution_count": 124,
   "id": "a0a75a8b",
   "metadata": {},
   "outputs": [
    {
     "data": {
      "image/png": "[encoded data removed]",
      "text/plain": [
       "<Figure size 432x288 with 1 Axes>"
      ]
     },
     "metadata": {
      "needs_background": "light"
     },
     "output_type": "display_data"
    }
   ],
   "source": [
    "#roc curve\n",
    "plt.title(\"ROC curve for logreg\")\n",
    "plt.xlabel(\"fpr(1-specificity)\")\n",
    "plt.xlabel(\"tpr(senstivity)\")\n",
    "plt.plot([0,1],[0,1],'r--')\n",
    "plt.xlim([0,1])\n",
    "plt.ylim([0,1])\n",
    "plt.plot(fpr5,tpr5,label=\"AUC=\"+str(roc_auc5))\n",
    "plt.legend(loc=4)\n",
    "plt.show()"
   ]
  },
  {
   "cell_type": "markdown",
   "id": "a806fb07",
   "metadata": {},
   "source": [
    "# logistic"
   ]
  },
  {
   "cell_type": "code",
   "execution_count": 125,
   "id": "c1357d2d",
   "metadata": {},
   "outputs": [],
   "source": [
    "x_train,x_test,y_train,y_test = train_test_split(x,y, test_size = 0.2, random_state = 42)"
   ]
  },
  {
   "cell_type": "code",
   "execution_count": 126,
   "id": "47fea9ed",
   "metadata": {},
   "outputs": [
    {
     "name": "stdout",
     "output_type": "stream",
     "text": [
      "(29020, 17) (7255, 17) (29020,) (7255,)\n"
     ]
    }
   ],
   "source": [
    "print (x_train.shape,x_test.shape,y_train.shape,y_test.shape)"
   ]
  },
  {
   "cell_type": "code",
   "execution_count": 127,
   "id": "684610dd",
   "metadata": {},
   "outputs": [],
   "source": [
    "model6 = LogisticRegression()"
   ]
  },
  {
   "cell_type": "code",
   "execution_count": 128,
   "id": "7efcf990",
   "metadata": {},
   "outputs": [
    {
     "data": {
      "text/plain": [
       "LogisticRegression()"
      ]
     },
     "execution_count": 128,
     "metadata": {},
     "output_type": "execute_result"
    }
   ],
   "source": [
    "model6.fit(x_train, y_train)"
   ]
  },
  {
   "cell_type": "code",
   "execution_count": 131,
   "id": "e6d01bf1",
   "metadata": {},
   "outputs": [
    {
     "data": {
      "text/plain": [
       "array([1, 1, 1, ..., 1, 1, 1])"
      ]
     },
     "execution_count": 131,
     "metadata": {},
     "output_type": "execute_result"
    }
   ],
   "source": [
    "y_pred = model6.predict(x_test)\n",
    "y_pred"
   ]
  },
  {
   "cell_type": "code",
   "execution_count": 133,
   "id": "249ecd34",
   "metadata": {},
   "outputs": [
    {
     "data": {
      "text/plain": [
       "array([[1431,  985],\n",
       "       [ 522, 4317]], dtype=int64)"
      ]
     },
     "execution_count": 133,
     "metadata": {},
     "output_type": "execute_result"
    }
   ],
   "source": [
    "confusion_matrix(y_test,y_pred)"
   ]
  },
  {
   "cell_type": "code",
   "execution_count": 134,
   "id": "94adfec6",
   "metadata": {},
   "outputs": [
    {
     "data": {
      "text/plain": [
       "0.7906960716747071"
      ]
     },
     "execution_count": 134,
     "metadata": {},
     "output_type": "execute_result"
    }
   ],
   "source": [
    "model6.score(x_train,y_train)"
   ]
  },
  {
   "cell_type": "code",
   "execution_count": 135,
   "id": "84193176",
   "metadata": {},
   "outputs": [
    {
     "name": "stdout",
     "output_type": "stream",
     "text": [
      "              precision    recall  f1-score   support\n",
      "\n",
      "           0       0.73      0.59      0.66      2416\n",
      "           1       0.81      0.89      0.85      4839\n",
      "\n",
      "    accuracy                           0.79      7255\n",
      "   macro avg       0.77      0.74      0.75      7255\n",
      "weighted avg       0.79      0.79      0.79      7255\n",
      "\n"
     ]
    }
   ],
   "source": [
    "print(classification_report(y_test,y_pred))"
   ]
  },
  {
   "cell_type": "code",
   "execution_count": 136,
   "id": "992d8252",
   "metadata": {},
   "outputs": [
    {
     "name": "stdout",
     "output_type": "stream",
     "text": [
      "0.8167559573909009\n"
     ]
    }
   ],
   "source": [
    "# roc curve\n",
    "y_pred_prob=model4.predict_proba(x_test)\n",
    "fpr6,tpr6,threshold=roc_curve(y_test,y_pred_prob[:,1])\n",
    "roc_auc6=auc(fpr6,tpr6)\n",
    "print(roc_auc6)"
   ]
  },
  {
   "cell_type": "code",
   "execution_count": 137,
   "id": "023cb3e1",
   "metadata": {},
   "outputs": [
    {
     "data": {
      "image/png": "[encoded data removed]",
      "text/plain": [
       "<Figure size 432x288 with 1 Axes>"
      ]
     },
     "metadata": {
      "needs_background": "light"
     },
     "output_type": "display_data"
    }
   ],
   "source": [
    "#roc curve\n",
    "plt.title(\"ROC curve for logreg\")\n",
    "plt.xlabel(\"fpr(1-specificity)\")\n",
    "plt.xlabel(\"tpr(senstivity)\")\n",
    "plt.plot([0,1],[0,1],'r--')\n",
    "plt.xlim([0,1])\n",
    "plt.ylim([0,1])\n",
    "plt.plot(fpr6,tpr6,label=\"AUC=\"+str(roc_auc6))\n",
    "plt.legend(loc=4)\n",
    "plt.show()"
   ]
  }
 ],
 "metadata": {
  "kernelspec": {
   "display_name": "Python 3 (ipykernel)",
   "language": "python",
   "name": "python3"
  },
  "language_info": {
   "codemirror_mode": {
    "name": "ipython",
    "version": 3
   },
   "file_extension": ".py",
   "mimetype": "text/x-python",
   "name": "python",
   "nbconvert_exporter": "python",
   "pygments_lexer": "ipython3",
   "version": "3.9.12"
  }
 },
 "nbformat": 4,
 "nbformat_minor": 5
}
